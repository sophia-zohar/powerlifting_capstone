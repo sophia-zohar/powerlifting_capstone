{
 "cells": [
  {
   "cell_type": "markdown",
   "metadata": {},
   "source": [
    "## Part 1: Import Data and Drop Meaningless Columns"
   ]
  },
  {
   "cell_type": "code",
   "execution_count": 30,
   "metadata": {
    "collapsed": true
   },
   "outputs": [],
   "source": [
    "import pandas as pd\n",
    "import numpy as np\n",
    "import seaborn as sns\n",
    "import matplotlib.pyplot as plt\n",
    "%matplotlib inline"
   ]
  },
  {
   "cell_type": "code",
   "execution_count": 31,
   "metadata": {},
   "outputs": [
    {
     "name": "stderr",
     "output_type": "stream",
     "text": [
      "/opt/conda/lib/python3.5/site-packages/IPython/core/interactiveshell.py:2698: DtypeWarning: Columns (11,27) have mixed types. Specify dtype option on import or set low_memory=False.\n",
      "  interactivity=interactivity, compiler=compiler, result=result)\n"
     ]
    }
   ],
   "source": [
    "powerlifting = pd.read_csv('./usapl_ipf.csv')"
   ]
  },
  {
   "cell_type": "code",
   "execution_count": 32,
   "metadata": {
    "collapsed": true
   },
   "outputs": [],
   "source": [
    "# drop meaningless columns\n",
    "powerlifting.drop(['index', 'Unnamed: 0'], axis = 1, inplace=True)"
   ]
  },
  {
   "cell_type": "markdown",
   "metadata": {},
   "source": [
    "## Part 1a: Drop Rows Missing information"
   ]
  },
  {
   "cell_type": "code",
   "execution_count": 33,
   "metadata": {
    "collapsed": true
   },
   "outputs": [],
   "source": [
    "# drop lifters who have no data for any lifts\n",
    "useless_mask = (powerlifting['BestSquatKg'].isnull()) & (powerlifting['Squat1Kg'].isnull()) & \\\n",
    "(powerlifting['Squat2Kg'].isnull()) & (powerlifting['Squat3Kg'].isnull()) &\\\n",
    "(powerlifting['BestDeadliftKg'].isnull()) & (powerlifting['Deadlift1Kg'].isnull()) & \\\n",
    "(powerlifting['Deadlift2Kg'].isnull()) & (powerlifting['Deadlift3Kg'].isnull()) &\\\n",
    "(powerlifting['BestBenchKg'].isnull()) & (powerlifting['Bench1Kg'].isnull()) & \\\n",
    "(powerlifting['Bench2Kg'].isnull()) & (powerlifting['Bench3Kg'].isnull())\n"
   ]
  },
  {
   "cell_type": "code",
   "execution_count": 34,
   "metadata": {
    "collapsed": true
   },
   "outputs": [],
   "source": [
    "powerlifting = powerlifting[~useless_mask]"
   ]
  },
  {
   "cell_type": "code",
   "execution_count": 35,
   "metadata": {
    "collapsed": true
   },
   "outputs": [],
   "source": [
    "# drop rows where there is no weight class or bodyweight information\n",
    "weight_mask = (powerlifting['WeightClassKg'].isnull()) & (powerlifting['BodyweightKg'].isnull())\n",
    "powerlifting = powerlifting[~weight_mask]"
   ]
  },
  {
   "cell_type": "markdown",
   "metadata": {},
   "source": [
    "## Part 2: Populate Bodyweight Column with Weight Class Information \n",
    "(Where Weight Class Has an Upper Limit)"
   ]
  },
  {
   "cell_type": "code",
   "execution_count": 36,
   "metadata": {},
   "outputs": [
    {
     "data": {
      "text/plain": [
       "69455"
      ]
     },
     "execution_count": 36,
     "metadata": {},
     "output_type": "execute_result"
    }
   ],
   "source": [
    "powerlifting['BodyweightKg'].count()"
   ]
  },
  {
   "cell_type": "code",
   "execution_count": 37,
   "metadata": {
    "collapsed": true
   },
   "outputs": [],
   "source": [
    "# mask where we have no Bodyweight information and the weight class has a lower limit. ie: '120+\n",
    "# we cannot approximate a weight here since the weight can be anything over that limit, \n",
    "# whereas other weight classes have upper limits\n",
    "search_upper_limit = ((powerlifting['WeightClassKg']=='120+') | (powerlifting['WeightClassKg']=='84+') | \\\n",
    "(powerlifting['WeightClassKg']=='140+') | (powerlifting['WeightClassKg']=='110+') | (powerlifting['WeightClassKg']=='125+') | \\\n",
    "(powerlifting['WeightClassKg']=='145+')| (powerlifting['WeightClassKg']=='90+')) & (powerlifting['BodyweightKg'].isnull())"
   ]
  },
  {
   "cell_type": "code",
   "execution_count": 38,
   "metadata": {
    "collapsed": true
   },
   "outputs": [],
   "source": [
    "powerlifting = powerlifting[~search_upper_limit]"
   ]
  },
  {
   "cell_type": "code",
   "execution_count": 39,
   "metadata": {
    "collapsed": true
   },
   "outputs": [],
   "source": [
    "# function to fill bodyweight with weight class where null (a good approximation)\n",
    "def fill_bodyweight(row):\n",
    "    if np.isnan(row['BodyweightKg']):\n",
    "        row['BodyweightKg'] = pd.to_numeric(row['WeightClassKg'])\n",
    "    return row\n",
    "powerlifting = powerlifting.apply(fill_bodyweight, axis = 1)"
   ]
  },
  {
   "cell_type": "markdown",
   "metadata": {},
   "source": [
    "## Part 3: Populate Age Column"
   ]
  },
  {
   "cell_type": "code",
   "execution_count": 40,
   "metadata": {
    "collapsed": true
   },
   "outputs": [],
   "source": [
    "# convert Date column to datetime:\n",
    "powerlifting['Date'] = pd.to_datetime(powerlifting['Date'])"
   ]
  },
  {
   "cell_type": "code",
   "execution_count": 41,
   "metadata": {
    "collapsed": true
   },
   "outputs": [],
   "source": [
    "# extract year of competition:\n",
    "powerlifting['Year'] = powerlifting['Date'].dt.year"
   ]
  },
  {
   "cell_type": "code",
   "execution_count": 50,
   "metadata": {},
   "outputs": [
    {
     "data": {
      "image/png": "[encoded data removed]",
      "text/plain": [
       "<matplotlib.figure.Figure at 0x7f2c2893e6a0>"
      ]
     },
     "metadata": {},
     "output_type": "display_data"
    }
   ],
   "source": [
    "# graph of no. of lifters per year\n",
    "plt.figure(figsize=(8, 8))\n",
    "powerlifting.groupby('Year').count()['Sex'].plot()\n",
    "plt.ylabel('No. of Lifters')\n",
    "plt.show()"
   ]
  },
  {
   "cell_type": "code",
   "execution_count": 43,
   "metadata": {
    "collapsed": true
   },
   "outputs": [],
   "source": [
    "# function to calculate age if null\n",
    "def calculate_age(row):\n",
    "    if np.isnan(row['Age']) and np.isnan(row['BirthYear']) == False:\n",
    "        row['Age'] = row['Year'] - row['BirthYear']\n",
    "    return row \n",
    "\n",
    "powerlifting = powerlifting.apply(calculate_age, axis = 1)"
   ]
  },
  {
   "cell_type": "markdown",
   "metadata": {},
   "source": [
    "## Part 4: Populate and Clean \"Best\"/\"Total\" Columns"
   ]
  },
  {
   "cell_type": "code",
   "execution_count": 53,
   "metadata": {},
   "outputs": [
    {
     "data": {
      "text/html": [
       "<div>\n",
       "<table border=\"1\" class=\"dataframe\">\n",
       "  <thead>\n",
       "    <tr style=\"text-align: right;\">\n",
       "      <th></th>\n",
       "      <th>BestSquatKg</th>\n",
       "      <th>BestBenchKg</th>\n",
       "      <th>BestDeadliftKg</th>\n",
       "      <th>TotalKg</th>\n",
       "    </tr>\n",
       "  </thead>\n",
       "  <tbody>\n",
       "    <tr>\n",
       "      <th>count</th>\n",
       "      <td>63799.000000</td>\n",
       "      <td>71413.000000</td>\n",
       "      <td>66897.000000</td>\n",
       "      <td>71695.000000</td>\n",
       "    </tr>\n",
       "    <tr>\n",
       "      <th>mean</th>\n",
       "      <td>170.303968</td>\n",
       "      <td>112.491702</td>\n",
       "      <td>191.379740</td>\n",
       "      <td>432.617230</td>\n",
       "    </tr>\n",
       "    <tr>\n",
       "      <th>std</th>\n",
       "      <td>66.023756</td>\n",
       "      <td>50.388674</td>\n",
       "      <td>61.139108</td>\n",
       "      <td>189.037466</td>\n",
       "    </tr>\n",
       "    <tr>\n",
       "      <th>min</th>\n",
       "      <td>-262.500000</td>\n",
       "      <td>-290.300000</td>\n",
       "      <td>-238.100000</td>\n",
       "      <td>17.500000</td>\n",
       "    </tr>\n",
       "    <tr>\n",
       "      <th>25%</th>\n",
       "      <td>117.500000</td>\n",
       "      <td>70.000000</td>\n",
       "      <td>142.500000</td>\n",
       "      <td>285.000000</td>\n",
       "    </tr>\n",
       "    <tr>\n",
       "      <th>50%</th>\n",
       "      <td>167.500000</td>\n",
       "      <td>110.000000</td>\n",
       "      <td>192.500000</td>\n",
       "      <td>430.000000</td>\n",
       "    </tr>\n",
       "    <tr>\n",
       "      <th>75%</th>\n",
       "      <td>212.500000</td>\n",
       "      <td>145.000000</td>\n",
       "      <td>235.000000</td>\n",
       "      <td>570.000000</td>\n",
       "    </tr>\n",
       "    <tr>\n",
       "      <th>max</th>\n",
       "      <td>505.000000</td>\n",
       "      <td>410.000000</td>\n",
       "      <td>420.000000</td>\n",
       "      <td>1272.500000</td>\n",
       "    </tr>\n",
       "  </tbody>\n",
       "</table>\n",
       "</div>"
      ],
      "text/plain": [
       "        BestSquatKg   BestBenchKg  BestDeadliftKg       TotalKg\n",
       "count  63799.000000  71413.000000    66897.000000  71695.000000\n",
       "mean     170.303968    112.491702      191.379740    432.617230\n",
       "std       66.023756     50.388674       61.139108    189.037466\n",
       "min     -262.500000   -290.300000     -238.100000     17.500000\n",
       "25%      117.500000     70.000000      142.500000    285.000000\n",
       "50%      167.500000    110.000000      192.500000    430.000000\n",
       "75%      212.500000    145.000000      235.000000    570.000000\n",
       "max      505.000000    410.000000      420.000000   1272.500000"
      ]
     },
     "execution_count": 53,
     "metadata": {},
     "output_type": "execute_result"
    }
   ],
   "source": [
    "powerlifting[['BestSquatKg', 'BestBenchKg', 'BestDeadliftKg', 'TotalKg']].describe()"
   ]
  },
  {
   "cell_type": "markdown",
   "metadata": {},
   "source": [
    "<p>as we can see, there are negative values for the \"Best\" lift columns, this means the lifter missed all three attempts at their lift. In powerlifting, three missed attempts means the lifter *\"bombs out\"* of the meet. We don't want these instances counting toward the BestLift column, so we need to change these to nulls. \n",
    "\n",
    "<p>also, there are totals within the TotalKg that were calculated off of one lift. (i.e. \"Bench Only\") these totals will on average be lower than the totals for 3 lifts. We want to treat this column like it only applies to people who have completed all three lifts."
   ]
  },
  {
   "cell_type": "code",
   "execution_count": 62,
   "metadata": {},
   "outputs": [
    {
     "name": "stdout",
     "output_type": "stream",
     "text": [
      "<class 'pandas.core.frame.DataFrame'>\n",
      "Int64Index: 74629 entries, 0 to 75709\n",
      "Data columns (total 4 columns):\n",
      "BestSquatKg       63799 non-null float64\n",
      "BestBenchKg       71413 non-null float64\n",
      "BestDeadliftKg    66897 non-null float64\n",
      "TotalKg           71695 non-null float64\n",
      "dtypes: float64(4)\n",
      "memory usage: 2.8 MB\n"
     ]
    }
   ],
   "source": [
    "powerlifting[['BestSquatKg', 'BestBenchKg', 'BestDeadliftKg', 'TotalKg']].info()"
   ]
  },
  {
   "cell_type": "code",
   "execution_count": 66,
   "metadata": {
    "collapsed": true
   },
   "outputs": [],
   "source": [
    "# function to fill in negative best lifts with null values\n",
    "def fix_best_lift(row):\n",
    "    if row['BestSquatKg'] < 0:\n",
    "        row['BestSquatKg'] = np.nan\n",
    "    if row['BestBenchKg'] < 0:\n",
    "        row['BestBenchKg'] = np.nan\n",
    "    if row['BestDeadliftKg'] < 0:\n",
    "        row['BestDeadliftKg'] = np.nan\n",
    "    return row"
   ]
  },
  {
   "cell_type": "code",
   "execution_count": 63,
   "metadata": {
    "collapsed": true
   },
   "outputs": [],
   "source": [
    "powerlifting = powerlifting.apply(fix_best_lift, axis = 1)"
   ]
  },
  {
   "cell_type": "code",
   "execution_count": 71,
   "metadata": {
    "collapsed": true
   },
   "outputs": [],
   "source": [
    "# function to only calculate totals for lifters who have completed all three lifts\n",
    "def fix_total(row):\n",
    "    if np.isnan(row['BestSquatKg']) or np.isnan(row['BestBenchKg']) or np.isnan(row['BestDeadliftKg']):\n",
    "        row['TotalKg'] = np.nan\n",
    "    return row"
   ]
  },
  {
   "cell_type": "code",
   "execution_count": 72,
   "metadata": {
    "collapsed": true
   },
   "outputs": [],
   "source": [
    "powerlifting = powerlifting.apply(fix_total, axis = 1)"
   ]
  },
  {
   "cell_type": "code",
   "execution_count": 73,
   "metadata": {},
   "outputs": [
    {
     "name": "stdout",
     "output_type": "stream",
     "text": [
      "<class 'pandas.core.frame.DataFrame'>\n",
      "Int64Index: 74629 entries, 0 to 75709\n",
      "Data columns (total 4 columns):\n",
      "BestSquatKg       63788 non-null float64\n",
      "BestBenchKg       71402 non-null float64\n",
      "BestDeadliftKg    66892 non-null float64\n",
      "TotalKg           61950 non-null float64\n",
      "dtypes: float64(4)\n",
      "memory usage: 2.8 MB\n"
     ]
    }
   ],
   "source": [
    "# check\n",
    "powerlifting[['BestSquatKg', 'BestBenchKg', 'BestDeadliftKg', 'TotalKg']].info()"
   ]
  },
  {
   "cell_type": "code",
   "execution_count": 74,
   "metadata": {},
   "outputs": [
    {
     "data": {
      "text/html": [
       "<div>\n",
       "<table border=\"1\" class=\"dataframe\">\n",
       "  <thead>\n",
       "    <tr style=\"text-align: right;\">\n",
       "      <th></th>\n",
       "      <th>BestSquatKg</th>\n",
       "      <th>BestBenchKg</th>\n",
       "      <th>BestDeadliftKg</th>\n",
       "      <th>TotalKg</th>\n",
       "    </tr>\n",
       "  </thead>\n",
       "  <tbody>\n",
       "    <tr>\n",
       "      <th>count</th>\n",
       "      <td>63788.000000</td>\n",
       "      <td>71402.000000</td>\n",
       "      <td>66892.000000</td>\n",
       "      <td>61950.000000</td>\n",
       "    </tr>\n",
       "    <tr>\n",
       "      <th>mean</th>\n",
       "      <td>170.360145</td>\n",
       "      <td>112.531323</td>\n",
       "      <td>191.406797</td>\n",
       "      <td>471.694686</td>\n",
       "    </tr>\n",
       "    <tr>\n",
       "      <th>std</th>\n",
       "      <td>65.886994</td>\n",
       "      <td>50.282754</td>\n",
       "      <td>61.059244</td>\n",
       "      <td>169.399009</td>\n",
       "    </tr>\n",
       "    <tr>\n",
       "      <th>min</th>\n",
       "      <td>13.600000</td>\n",
       "      <td>6.800000</td>\n",
       "      <td>15.900000</td>\n",
       "      <td>38.600000</td>\n",
       "    </tr>\n",
       "    <tr>\n",
       "      <th>25%</th>\n",
       "      <td>117.500000</td>\n",
       "      <td>70.000000</td>\n",
       "      <td>142.500000</td>\n",
       "      <td>330.000000</td>\n",
       "    </tr>\n",
       "    <tr>\n",
       "      <th>50%</th>\n",
       "      <td>167.500000</td>\n",
       "      <td>110.000000</td>\n",
       "      <td>192.500000</td>\n",
       "      <td>470.000000</td>\n",
       "    </tr>\n",
       "    <tr>\n",
       "      <th>75%</th>\n",
       "      <td>212.500000</td>\n",
       "      <td>145.000000</td>\n",
       "      <td>235.000000</td>\n",
       "      <td>587.500000</td>\n",
       "    </tr>\n",
       "    <tr>\n",
       "      <th>max</th>\n",
       "      <td>505.000000</td>\n",
       "      <td>410.000000</td>\n",
       "      <td>420.000000</td>\n",
       "      <td>1272.500000</td>\n",
       "    </tr>\n",
       "  </tbody>\n",
       "</table>\n",
       "</div>"
      ],
      "text/plain": [
       "        BestSquatKg   BestBenchKg  BestDeadliftKg       TotalKg\n",
       "count  63788.000000  71402.000000    66892.000000  61950.000000\n",
       "mean     170.360145    112.531323      191.406797    471.694686\n",
       "std       65.886994     50.282754       61.059244    169.399009\n",
       "min       13.600000      6.800000       15.900000     38.600000\n",
       "25%      117.500000     70.000000      142.500000    330.000000\n",
       "50%      167.500000    110.000000      192.500000    470.000000\n",
       "75%      212.500000    145.000000      235.000000    587.500000\n",
       "max      505.000000    410.000000      420.000000   1272.500000"
      ]
     },
     "execution_count": 74,
     "metadata": {},
     "output_type": "execute_result"
    }
   ],
   "source": [
    "powerlifting[['BestSquatKg', 'BestBenchKg', 'BestDeadliftKg', 'TotalKg']].describe()"
   ]
  },
  {
   "cell_type": "markdown",
   "metadata": {},
   "source": [
    "now our stats seem more accurate. the minimum values are still pretty low, the next step is to fix this by eliminating all teen and youth competitors (they cannot lift as much due to undeveloped bodies) "
   ]
  },
  {
   "cell_type": "code",
   "execution_count": 89,
   "metadata": {},
   "outputs": [
    {
     "data": {
      "text/plain": [
       "Age                 18.000\n",
       "Bench1Kg          -390.000\n",
       "Bench2Kg          -453.600\n",
       "Bench3Kg          -453.600\n",
       "Bench4Kg          -248.000\n",
       "BestBenchKg          9.100\n",
       "BestDeadliftKg      18.100\n",
       "BestSquatKg         13.600\n",
       "BirthYear         1927.000\n",
       "BodyweightKg        35.300\n",
       "Deadlift1Kg       -365.000\n",
       "Deadlift2Kg       -377.500\n",
       "Deadlift3Kg       -400.000\n",
       "Deadlift4Kg        170.000\n",
       "Squat1Kg          -475.000\n",
       "Squat2Kg          -475.000\n",
       "Squat3Kg         -9300.000\n",
       "Squat4Kg               NaN\n",
       "TotalKg             40.800\n",
       "Wilks               40.655\n",
       "Year              1982.000\n",
       "dtype: float64"
      ]
     },
     "execution_count": 89,
     "metadata": {},
     "output_type": "execute_result"
    }
   ],
   "source": [
    "powerlifting[powerlifting['Age'] > 17].min()"
   ]
  },
  {
   "cell_type": "code",
   "execution_count": 98,
   "metadata": {},
   "outputs": [
    {
     "data": {
      "text/plain": [
       "Age                  8.000\n",
       "Bench1Kg          -180.000\n",
       "Bench2Kg          -222.500\n",
       "Bench3Kg          -222.500\n",
       "Bench4Kg               NaN\n",
       "BestBenchKg          9.100\n",
       "BestDeadliftKg      15.900\n",
       "BestSquatKg         13.600\n",
       "BirthYear         1982.000\n",
       "BodyweightKg        25.900\n",
       "Deadlift1Kg       -245.000\n",
       "Deadlift2Kg       -302.500\n",
       "Deadlift3Kg       -302.500\n",
       "Deadlift4Kg            NaN\n",
       "Squat1Kg          -272.500\n",
       "Squat2Kg          -320.000\n",
       "Squat3Kg          -307.500\n",
       "Squat4Kg               NaN\n",
       "TotalKg             38.600\n",
       "Wilks               31.445\n",
       "Year              1998.000\n",
       "dtype: float64"
      ]
     },
     "execution_count": 98,
     "metadata": {},
     "output_type": "execute_result"
    }
   ],
   "source": [
    "powerlifting[powerlifting['Age'] < 17].min()"
   ]
  },
  {
   "cell_type": "code",
   "execution_count": 114,
   "metadata": {},
   "outputs": [
    {
     "data": {
      "text/plain": [
       "Age                   NaN\n",
       "Bench1Kg          -377.50\n",
       "Bench2Kg          -392.50\n",
       "Bench3Kg          -408.50\n",
       "Bench4Kg            57.50\n",
       "BestBenchKg         10.00\n",
       "BestDeadliftKg      20.00\n",
       "BestSquatKg         15.00\n",
       "BirthYear             NaN\n",
       "BodyweightKg        23.90\n",
       "Deadlift1Kg       -365.00\n",
       "Deadlift2Kg       -382.50\n",
       "Deadlift3Kg       -410.00\n",
       "Deadlift4Kg        315.00\n",
       "Squat1Kg          -390.00\n",
       "Squat2Kg          -475.00\n",
       "Squat3Kg          -475.00\n",
       "Squat4Kg           222.50\n",
       "TotalKg             54.40\n",
       "Wilks               64.21\n",
       "Year              1974.00\n",
       "dtype: float64"
      ]
     },
     "execution_count": 114,
     "metadata": {},
     "output_type": "execute_result"
    }
   ],
   "source": [
    "powerlifting[powerlifting['Age'].isnull()].min()"
   ]
  },
  {
   "cell_type": "markdown",
   "metadata": {},
   "source": [
    "**actually** it doesnt make much of a difference. the minimum lifts for both are very similar. (we only have age for a very small subset so its hard to determine)"
   ]
  },
  {
   "cell_type": "code",
   "execution_count": 102,
   "metadata": {},
   "outputs": [
    {
     "name": "stdout",
     "output_type": "stream",
     "text": [
      "(1499, 38)\n",
      "(25432, 38)\n",
      "(46539, 38)\n"
     ]
    }
   ],
   "source": [
    "print (powerlifting[powerlifting['Age'] < 17].shape)\n",
    "print (powerlifting[powerlifting['Age'] > 17].shape)\n",
    "print (powerlifting[powerlifting['Age'].isnull()].shape)"
   ]
  },
  {
   "cell_type": "code",
   "execution_count": 108,
   "metadata": {},
   "outputs": [
    {
     "data": {
      "text/html": [
       "<div>\n",
       "<table border=\"1\" class=\"dataframe\">\n",
       "  <thead>\n",
       "    <tr style=\"text-align: right;\">\n",
       "      <th></th>\n",
       "      <th>Age</th>\n",
       "      <th>Bench1Kg</th>\n",
       "      <th>Bench2Kg</th>\n",
       "      <th>Bench3Kg</th>\n",
       "      <th>Bench4Kg</th>\n",
       "      <th>BestBenchKg</th>\n",
       "      <th>BestDeadliftKg</th>\n",
       "      <th>BestSquatKg</th>\n",
       "      <th>BirthYear</th>\n",
       "      <th>BodyweightKg</th>\n",
       "      <th>...</th>\n",
       "      <th>Squat1Kg</th>\n",
       "      <th>Squat2Kg</th>\n",
       "      <th>Squat3Kg</th>\n",
       "      <th>Squat4Kg</th>\n",
       "      <th>State</th>\n",
       "      <th>Team</th>\n",
       "      <th>TotalKg</th>\n",
       "      <th>WeightClassKg</th>\n",
       "      <th>Wilks</th>\n",
       "      <th>Year</th>\n",
       "    </tr>\n",
       "  </thead>\n",
       "  <tbody>\n",
       "    <tr>\n",
       "      <th>56553</th>\n",
       "      <td>19.0</td>\n",
       "      <td>-6.8</td>\n",
       "      <td>6.8</td>\n",
       "      <td>9.1</td>\n",
       "      <td>NaN</td>\n",
       "      <td>9.1</td>\n",
       "      <td>18.1</td>\n",
       "      <td>13.6</td>\n",
       "      <td>1998.0</td>\n",
       "      <td>53.97</td>\n",
       "      <td>...</td>\n",
       "      <td>-11.3</td>\n",
       "      <td>11.3</td>\n",
       "      <td>13.6</td>\n",
       "      <td>NaN</td>\n",
       "      <td>LA</td>\n",
       "      <td>NaN</td>\n",
       "      <td>40.8</td>\n",
       "      <td>57</td>\n",
       "      <td>NaN</td>\n",
       "      <td>2017</td>\n",
       "    </tr>\n",
       "    <tr>\n",
       "      <th>56603</th>\n",
       "      <td>12.0</td>\n",
       "      <td>-6.8</td>\n",
       "      <td>6.8</td>\n",
       "      <td>9.1</td>\n",
       "      <td>NaN</td>\n",
       "      <td>9.1</td>\n",
       "      <td>15.9</td>\n",
       "      <td>13.6</td>\n",
       "      <td>2005.0</td>\n",
       "      <td>72.30</td>\n",
       "      <td>...</td>\n",
       "      <td>9.1</td>\n",
       "      <td>11.3</td>\n",
       "      <td>13.6</td>\n",
       "      <td>NaN</td>\n",
       "      <td>LA</td>\n",
       "      <td>NaN</td>\n",
       "      <td>38.6</td>\n",
       "      <td>74</td>\n",
       "      <td>NaN</td>\n",
       "      <td>2017</td>\n",
       "    </tr>\n",
       "  </tbody>\n",
       "</table>\n",
       "<p>2 rows × 38 columns</p>\n",
       "</div>"
      ],
      "text/plain": [
       "        Age  Bench1Kg  Bench2Kg  Bench3Kg  Bench4Kg  BestBenchKg  \\\n",
       "56553  19.0      -6.8       6.8       9.1       NaN          9.1   \n",
       "56603  12.0      -6.8       6.8       9.1       NaN          9.1   \n",
       "\n",
       "       BestDeadliftKg  BestSquatKg  BirthYear  BodyweightKg  ...  Squat1Kg  \\\n",
       "56553            18.1         13.6     1998.0         53.97  ...     -11.3   \n",
       "56603            15.9         13.6     2005.0         72.30  ...       9.1   \n",
       "\n",
       "      Squat2Kg  Squat3Kg  Squat4Kg  State  Team TotalKg WeightClassKg Wilks  \\\n",
       "56553     11.3      13.6       NaN     LA   NaN    40.8            57   NaN   \n",
       "56603     11.3      13.6       NaN     LA   NaN    38.6            74   NaN   \n",
       "\n",
       "       Year  \n",
       "56553  2017  \n",
       "56603  2017  \n",
       "\n",
       "[2 rows x 38 columns]"
      ]
     },
     "execution_count": 108,
     "metadata": {},
     "output_type": "execute_result"
    }
   ],
   "source": [
    "powerlifting[powerlifting['BestBenchKg'] == 9.100]\n",
    "# SO == special olympians"
   ]
  },
  {
   "cell_type": "code",
   "execution_count": 121,
   "metadata": {},
   "outputs": [
    {
     "data": {
      "image/png": "[encoded data removed]",
      "text/plain": [
       "<matplotlib.figure.Figure at 0x7f2c21317b70>"
      ]
     },
     "metadata": {},
     "output_type": "display_data"
    }
   ],
   "source": [
    "powerlifting['BestBenchKg'].hist()\n",
    "plt.show()"
   ]
  },
  {
   "cell_type": "code",
   "execution_count": 124,
   "metadata": {},
   "outputs": [
    {
     "data": {
      "text/plain": [
       "<matplotlib.axes._subplots.AxesSubplot at 0x7f2c23dd58d0>"
      ]
     },
     "execution_count": 124,
     "metadata": {},
     "output_type": "execute_result"
    },
    {
     "data": {
      "image/png": "[encoded data removed]",
      "text/plain": [
       "<matplotlib.figure.Figure at 0x7f2c221d6898>"
      ]
     },
     "metadata": {},
     "output_type": "display_data"
    }
   ],
   "source": [
    "powerlifting['BestSquatKg'].hist()"
   ]
  },
  {
   "cell_type": "code",
   "execution_count": 125,
   "metadata": {},
   "outputs": [
    {
     "data": {
      "text/plain": [
       "<matplotlib.axes._subplots.AxesSubplot at 0x7f2c23c8ba90>"
      ]
     },
     "execution_count": 125,
     "metadata": {},
     "output_type": "execute_result"
    },
    {
     "data": {
      "image/png": "[encoded data removed]",
      "text/plain": [
       "<matplotlib.figure.Figure at 0x7f2c2373b550>"
      ]
     },
     "metadata": {},
     "output_type": "display_data"
    }
   ],
   "source": [
    "powerlifting['BestDeadliftKg'].hist()"
   ]
  },
  {
   "cell_type": "code",
   "execution_count": 126,
   "metadata": {},
   "outputs": [
    {
     "data": {
      "text/plain": [
       "<matplotlib.axes._subplots.AxesSubplot at 0x7f2c2109eda0>"
      ]
     },
     "execution_count": 126,
     "metadata": {},
     "output_type": "execute_result"
    },
    {
     "data": {
      "image/png": "[encoded data removed]",
      "text/plain": [
       "<matplotlib.figure.Figure at 0x7f2c207482e8>"
      ]
     },
     "metadata": {},
     "output_type": "display_data"
    }
   ],
   "source": [
    "powerlifting['TotalKg'].hist()"
   ]
  },
  {
   "cell_type": "code",
   "execution_count": 127,
   "metadata": {
    "collapsed": true
   },
   "outputs": [],
   "source": [
    "def display_outliers(dataframe, col):\n",
    "    Q1 = np.percentile(dataframe[col], 25)\n",
    "    Q3 = np.percentile(dataframe[col], 75)\n",
    "    tukey_window = 1.5*(Q3-Q1)\n",
    "    less_than_Q1 = dataframe[col] < Q1 - tukey_window\n",
    "    greater_than_Q3 = dataframe[col] > Q3 + tukey_window\n",
    "    tukey_mask = (less_than_Q1 | greater_than_Q3)\n",
    "    return dataframe[tukey_mask]"
   ]
  },
  {
   "cell_type": "code",
   "execution_count": 131,
   "metadata": {},
   "outputs": [
    {
     "ename": "TypeError",
     "evalue": "unorderable types: float() > str()",
     "output_type": "error",
     "traceback": [
      "\u001b[0;31m\u001b[0m",
      "\u001b[0;31mTypeError\u001b[0mTraceback (most recent call last)",
      "\u001b[0;32m<ipython-input-131-e07461018840>\u001b[0m in \u001b[0;36m<module>\u001b[0;34m()\u001b[0m\n\u001b[0;32m----> 1\u001b[0;31m \u001b[0mnp\u001b[0m\u001b[0;34m.\u001b[0m\u001b[0mpercentile\u001b[0m\u001b[0;34m(\u001b[0m\u001b[0mpowerlifting\u001b[0m\u001b[0;34m[\u001b[0m\u001b[0mpowerlifting\u001b[0m\u001b[0;34m[\u001b[0m\u001b[0;34m'BestSquatKg'\u001b[0m\u001b[0;34m]\u001b[0m\u001b[0;34m.\u001b[0m\u001b[0misnull\u001b[0m\u001b[0;34m(\u001b[0m\u001b[0;34m)\u001b[0m\u001b[0;34m==\u001b[0m\u001b[0;32mFalse\u001b[0m\u001b[0;34m]\u001b[0m\u001b[0;34m.\u001b[0m\u001b[0mvalues\u001b[0m\u001b[0;34m,\u001b[0m \u001b[0;36m25\u001b[0m\u001b[0;34m)\u001b[0m\u001b[0;34m\u001b[0m\u001b[0m\n\u001b[0m",
      "\u001b[0;32m/opt/conda/lib/python3.5/site-packages/numpy/lib/function_base.py\u001b[0m in \u001b[0;36mpercentile\u001b[0;34m(a, q, axis, out, overwrite_input, interpolation, keepdims)\u001b[0m\n\u001b[1;32m   4114\u001b[0m     r, k = _ureduce(a, func=_percentile, q=q, axis=axis, out=out,\n\u001b[1;32m   4115\u001b[0m                     \u001b[0moverwrite_input\u001b[0m\u001b[0;34m=\u001b[0m\u001b[0moverwrite_input\u001b[0m\u001b[0;34m,\u001b[0m\u001b[0;34m\u001b[0m\u001b[0m\n\u001b[0;32m-> 4116\u001b[0;31m                     interpolation=interpolation)\n\u001b[0m\u001b[1;32m   4117\u001b[0m     \u001b[0;32mif\u001b[0m \u001b[0mkeepdims\u001b[0m\u001b[0;34m:\u001b[0m\u001b[0;34m\u001b[0m\u001b[0m\n\u001b[1;32m   4118\u001b[0m         \u001b[0;32mif\u001b[0m \u001b[0mq\u001b[0m\u001b[0;34m.\u001b[0m\u001b[0mndim\u001b[0m \u001b[0;34m==\u001b[0m \u001b[0;36m0\u001b[0m\u001b[0;34m:\u001b[0m\u001b[0;34m\u001b[0m\u001b[0m\n",
      "\u001b[0;32m/opt/conda/lib/python3.5/site-packages/numpy/lib/function_base.py\u001b[0m in \u001b[0;36m_ureduce\u001b[0;34m(a, func, **kwargs)\u001b[0m\n\u001b[1;32m   3856\u001b[0m         \u001b[0mkeepdim\u001b[0m \u001b[0;34m=\u001b[0m \u001b[0;34m[\u001b[0m\u001b[0;36m1\u001b[0m\u001b[0;34m]\u001b[0m \u001b[0;34m*\u001b[0m \u001b[0ma\u001b[0m\u001b[0;34m.\u001b[0m\u001b[0mndim\u001b[0m\u001b[0;34m\u001b[0m\u001b[0m\n\u001b[1;32m   3857\u001b[0m \u001b[0;34m\u001b[0m\u001b[0m\n\u001b[0;32m-> 3858\u001b[0;31m     \u001b[0mr\u001b[0m \u001b[0;34m=\u001b[0m \u001b[0mfunc\u001b[0m\u001b[0;34m(\u001b[0m\u001b[0ma\u001b[0m\u001b[0;34m,\u001b[0m \u001b[0;34m**\u001b[0m\u001b[0mkwargs\u001b[0m\u001b[0;34m)\u001b[0m\u001b[0;34m\u001b[0m\u001b[0m\n\u001b[0m\u001b[1;32m   3859\u001b[0m     \u001b[0;32mreturn\u001b[0m \u001b[0mr\u001b[0m\u001b[0;34m,\u001b[0m \u001b[0mkeepdim\u001b[0m\u001b[0;34m\u001b[0m\u001b[0m\n\u001b[1;32m   3860\u001b[0m \u001b[0;34m\u001b[0m\u001b[0m\n",
      "\u001b[0;32m/opt/conda/lib/python3.5/site-packages/numpy/lib/function_base.py\u001b[0m in \u001b[0;36m_percentile\u001b[0;34m(a, q, axis, out, overwrite_input, interpolation, keepdims)\u001b[0m\n\u001b[1;32m   4218\u001b[0m         \u001b[0mweights_above\u001b[0m\u001b[0;34m.\u001b[0m\u001b[0mshape\u001b[0m \u001b[0;34m=\u001b[0m \u001b[0mweights_shape\u001b[0m\u001b[0;34m\u001b[0m\u001b[0m\n\u001b[1;32m   4219\u001b[0m \u001b[0;34m\u001b[0m\u001b[0m\n\u001b[0;32m-> 4220\u001b[0;31m         \u001b[0map\u001b[0m\u001b[0;34m.\u001b[0m\u001b[0mpartition\u001b[0m\u001b[0;34m(\u001b[0m\u001b[0mconcatenate\u001b[0m\u001b[0;34m(\u001b[0m\u001b[0;34m(\u001b[0m\u001b[0mindices_below\u001b[0m\u001b[0;34m,\u001b[0m \u001b[0mindices_above\u001b[0m\u001b[0;34m)\u001b[0m\u001b[0;34m)\u001b[0m\u001b[0;34m,\u001b[0m \u001b[0maxis\u001b[0m\u001b[0;34m=\u001b[0m\u001b[0maxis\u001b[0m\u001b[0;34m)\u001b[0m\u001b[0;34m\u001b[0m\u001b[0m\n\u001b[0m\u001b[1;32m   4221\u001b[0m \u001b[0;34m\u001b[0m\u001b[0m\n\u001b[1;32m   4222\u001b[0m         \u001b[0;31m# ensure axis with qth is first\u001b[0m\u001b[0;34m\u001b[0m\u001b[0;34m\u001b[0m\u001b[0m\n",
      "\u001b[0;31mTypeError\u001b[0m: unorderable types: float() > str()"
     ]
    }
   ],
   "source": [
    "np.percentile(powerlifting[powerlifting['BestSquatKg'].isnull()==False].values, 25)"
   ]
  },
  {
   "cell_type": "code",
   "execution_count": null,
   "metadata": {
    "collapsed": true
   },
   "outputs": [],
   "source": []
  }
 ],
 "metadata": {
  "kernelspec": {
   "display_name": "Python 3",
   "language": "python",
   "name": "python3"
  },
  "language_info": {
   "codemirror_mode": {
    "name": "ipython",
    "version": 3
   },
   "file_extension": ".py",
   "mimetype": "text/x-python",
   "name": "python",
   "nbconvert_exporter": "python",
   "pygments_lexer": "ipython3",
   "version": "3.5.2"
  }
 },
 "nbformat": 4,
 "nbformat_minor": 2
}
