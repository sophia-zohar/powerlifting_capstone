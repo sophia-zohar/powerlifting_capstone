{
 "cells": [
  {
   "cell_type": "code",
   "execution_count": 1,
   "metadata": {
    "collapsed": true
   },
   "outputs": [],
   "source": [
    "import os\n",
    "import pandas as pd"
   ]
  },
  {
   "cell_type": "code",
   "execution_count": 2,
   "metadata": {
    "collapsed": true
   },
   "outputs": [],
   "source": [
    "# choose which federations from which to select data:\n",
    "feds = ['usapl', 'usapl-archive', 'ipf']"
   ]
  },
  {
   "cell_type": "code",
   "execution_count": 3,
   "metadata": {},
   "outputs": [],
   "source": [
    "# make a list of paths to each meet data and lifter data\n",
    "paths = []\n",
    "for i in range(len(feds)):\n",
    "    \n",
    "    walk = os.walk(\"/home/jovyan/work/openpowerlifting/meet-data/{}\".format(feds[i]))\n",
    "    for root, folders, files in walk: \n",
    "        if (\"lifters.csv\" in files) and (\"meet.csv\" in files):\n",
    "            lifter_path = os.path.join(root, \"lifters.csv\")\n",
    "            meet_path = os.path.join(root, \"meet.csv\")\n",
    "            paths.append((lifter_path, meet_path))"
   ]
  },
  {
   "cell_type": "code",
   "execution_count": 6,
   "metadata": {
    "collapsed": true
   },
   "outputs": [],
   "source": [
    "# function to create a meet df from each path\n",
    "def generate_meet_df(meet_tuple):\n",
    "    # separate the paths\n",
    "    l_path = meet_tuple[0]\n",
    "    m_path = meet_tuple[1]\n",
    "    \n",
    "    # turn paths into data frames \n",
    "    lifter_df = pd.read_csv(l_path)\n",
    "    meet_data_df = pd.read_csv(m_path)\n",
    "    \n",
    "    meet_size_df = pd.concat([meet_data_df for meet in range(lifter_df.shape[0])])\n",
    "    meet_size_df = meet_size_df.reset_index()\n",
    "    \n",
    "    meet_df = meet_size_df.join(lifter_df)\n",
    "    return meet_df"
   ]
  },
  {
   "cell_type": "code",
   "execution_count": 73,
   "metadata": {
    "collapsed": true
   },
   "outputs": [],
   "source": [
    "# generate the data\n",
    "df_list = map(generate_meet_df, paths)"
   ]
  },
  {
   "cell_type": "code",
   "execution_count": 74,
   "metadata": {
    "collapsed": true
   },
   "outputs": [],
   "source": [
    "dfs = list(df_list)"
   ]
  },
  {
   "cell_type": "code",
   "execution_count": 83,
   "metadata": {
    "collapsed": true
   },
   "outputs": [],
   "source": [
    "data = pd.concat(dfs)"
   ]
  },
  {
   "cell_type": "code",
   "execution_count": 90,
   "metadata": {
    "collapsed": true
   },
   "outputs": [],
   "source": [
    "# turn data into a csv to use in other notebooks\n",
    "data.to_csv('/home/jovyan/work/powerlifting/usapl_ipf.csv')"
   ]
  }
 ],
 "metadata": {
  "kernelspec": {
   "display_name": "Python 3",
   "language": "python",
   "name": "python3"
  },
  "language_info": {
   "codemirror_mode": {
    "name": "ipython",
    "version": 3
   },
   "file_extension": ".py",
   "mimetype": "text/x-python",
   "name": "python",
   "nbconvert_exporter": "python",
   "pygments_lexer": "ipython3",
   "version": "3.5.2"
  }
 },
 "nbformat": 4,
 "nbformat_minor": 2
}
