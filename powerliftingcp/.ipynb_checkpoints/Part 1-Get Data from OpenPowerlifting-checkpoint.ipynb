{
 "cells": [
  {
   "cell_type": "code",
   "execution_count": 1,
   "metadata": {
    "collapsed": true
   },
   "outputs": [],
   "source": [
    "import os\n",
    "import pandas as pd"
   ]
  },
  {
   "cell_type": "code",
   "execution_count": 29,
   "metadata": {
    "collapsed": true
   },
   "outputs": [],
   "source": [
    "feds = ['usapl', 'usapl-archive', 'ipf']"
   ]
  },
  {
   "cell_type": "code",
   "execution_count": 40,
   "metadata": {},
   "outputs": [
    {
     "name": "stdout",
     "output_type": "stream",
     "text": [
      "<generator object walk at 0x7f4e474ae0a0>\n",
      "<generator object walk at 0x7f4e474aec50>\n",
      "<generator object walk at 0x7f4e474ae0a0>\n"
     ]
    }
   ],
   "source": [
    "paths = []\n",
    "for i in range(len(feds)):\n",
    "    \n",
    "    walk = os.walk(\"/home/jovyan/work/openpowerlifting/meet-data/{}\".format(feds[i]))\n",
    "    print (walk)\n",
    "    for root, folders, files in walk: \n",
    "        if (\"lifters.csv\" in files) and (\"meet.csv\" in files):\n",
    "            lifter_path = os.path.join(root, \"lifters.csv\")\n",
    "            meet_path = os.path.join(root, \"meet.csv\")\n",
    "            paths.append((lifter_path, meet_path))"
   ]
  },
  {
   "cell_type": "code",
   "execution_count": 44,
   "metadata": {},
   "outputs": [
    {
     "data": {
      "text/plain": [
       "('/home/jovyan/work/openpowerlifting/meet-data/usapl/NJ-2014-02/lifters.csv',\n",
       " '/home/jovyan/work/openpowerlifting/meet-data/usapl/NJ-2014-02/meet.csv')"
      ]
     },
     "execution_count": 44,
     "metadata": {},
     "output_type": "execute_result"
    }
   ],
   "source": [
    "paths[0]"
   ]
  },
  {
   "cell_type": "code",
   "execution_count": 64,
   "metadata": {
    "collapsed": true
   },
   "outputs": [],
   "source": [
    "def generate_meet_df(meet_tuple):\n",
    "    # separate the paths\n",
    "    l_path = meet_tuple[0]\n",
    "    m_path = meet_tuple[1]\n",
    "    \n",
    "    # turn paths into data frames \n",
    "    lifter_df = pd.read_csv(l_path)\n",
    "    meet_data_df = pd.read_csv(m_path)\n",
    "    \n",
    "    meet_size_df = pd.concat([meet_data_df for meet in range(lifter_df.shape[0])])\n",
    "    meet_size_df = meet_size_df.reset_index()\n",
    "    \n",
    "    meet_df = meet_size_df.join(lifter_df)\n",
    "    return meet_df"
   ]
  },
  {
   "cell_type": "code",
   "execution_count": 45,
   "metadata": {
    "collapsed": true
   },
   "outputs": [],
   "source": [
    "lifter_df = pd.read_csv(paths[0][0])\n",
    "meet_data_df = pd.read_csv(paths[0][1])"
   ]
  },
  {
   "cell_type": "code",
   "execution_count": 48,
   "metadata": {
    "collapsed": true
   },
   "outputs": [],
   "source": [
    "meet_df = pd.concat([meet_data_df for meet in range(lifter_df.shape[0])])"
   ]
  },
  {
   "cell_type": "code",
   "execution_count": 57,
   "metadata": {
    "collapsed": true
   },
   "outputs": [],
   "source": [
    "meet_df.reset_index(inplace = True)"
   ]
  },
  {
   "cell_type": "code",
   "execution_count": 73,
   "metadata": {
    "collapsed": true
   },
   "outputs": [],
   "source": [
    "df_list = map(generate_meet_df, paths)"
   ]
  },
  {
   "cell_type": "code",
   "execution_count": 74,
   "metadata": {
    "collapsed": true
   },
   "outputs": [],
   "source": [
    "dfs = list(df_list)"
   ]
  },
  {
   "cell_type": "code",
   "execution_count": 83,
   "metadata": {
    "collapsed": true
   },
   "outputs": [],
   "source": [
    "data = pd.concat(dfs)"
   ]
  },
  {
   "cell_type": "code",
   "execution_count": 85,
   "metadata": {},
   "outputs": [
    {
     "name": "stdout",
     "output_type": "stream",
     "text": [
      "<class 'pandas.core.frame.DataFrame'>\n",
      "Int64Index: 75710 entries, 0 to 178\n",
      "Data columns (total 38 columns):\n",
      "Age               3762 non-null float64\n",
      "Bench1Kg          55176 non-null float64\n",
      "Bench2Kg          54805 non-null float64\n",
      "Bench3Kg          53974 non-null float64\n",
      "Bench4Kg          12 non-null float64\n",
      "BestBenchKg       71828 non-null float64\n",
      "BestDeadliftKg    67206 non-null float64\n",
      "BestSquatKg       64105 non-null float64\n",
      "BirthYear         24457 non-null float64\n",
      "BodyweightKg      69758 non-null float64\n",
      "Country           8211 non-null object\n",
      "Date              75710 non-null object\n",
      "Deadlift1Kg       51182 non-null float64\n",
      "Deadlift2Kg       50522 non-null float64\n",
      "Deadlift3Kg       49462 non-null float64\n",
      "Deadlift4Kg       2 non-null float64\n",
      "Division          70818 non-null object\n",
      "Equipment         75710 non-null object\n",
      "Event             75580 non-null object\n",
      "Federation        75710 non-null object\n",
      "MeetCountry       75710 non-null object\n",
      "MeetName          75710 non-null object\n",
      "MeetState         65358 non-null object\n",
      "MeetTown          22484 non-null object\n",
      "Name              75710 non-null object\n",
      "Place             75219 non-null object\n",
      "School            859 non-null object\n",
      "Sex               75710 non-null object\n",
      "Squat1Kg          49597 non-null float64\n",
      "Squat2Kg          49224 non-null float64\n",
      "Squat3Kg          48407 non-null float64\n",
      "Squat4Kg          3 non-null float64\n",
      "State             37374 non-null object\n",
      "Team              8425 non-null object\n",
      "TotalKg           72120 non-null float64\n",
      "WeightClassKg     75059 non-null object\n",
      "Wilks             519 non-null float64\n",
      "index             75710 non-null int64\n",
      "dtypes: float64(20), int64(1), object(17)\n",
      "memory usage: 22.5+ MB\n"
     ]
    }
   ],
   "source": [
    "data.info()"
   ]
  },
  {
   "cell_type": "code",
   "execution_count": 86,
   "metadata": {},
   "outputs": [
    {
     "data": {
      "text/plain": [
       "'/home/jovyan/work'"
      ]
     },
     "execution_count": 86,
     "metadata": {},
     "output_type": "execute_result"
    }
   ],
   "source": [
    "pwd"
   ]
  },
  {
   "cell_type": "code",
   "execution_count": 90,
   "metadata": {
    "collapsed": true
   },
   "outputs": [],
   "source": [
    "data.to_csv('/home/jovyan/work/powerlifting/usapl_ipf.csv')"
   ]
  },
  {
   "cell_type": "code",
   "execution_count": 94,
   "metadata": {},
   "outputs": [
    {
     "data": {
      "text/plain": [
       "array(['B', 'D', 'SBD', 'BD', 'SB', 'S', nan], dtype=object)"
      ]
     },
     "execution_count": 94,
     "metadata": {},
     "output_type": "execute_result"
    }
   ],
   "source": [
    "data.Event.unique()"
   ]
  },
  {
   "cell_type": "code",
   "execution_count": 96,
   "metadata": {},
   "outputs": [
    {
     "data": {
      "text/plain": [
       "count    49597.000000\n",
       "mean       111.146258\n",
       "std        128.365157\n",
       "min       -475.000000\n",
       "25%         85.000000\n",
       "50%        137.500000\n",
       "75%        187.500000\n",
       "max        475.000000\n",
       "Name: Squat1Kg, dtype: float64"
      ]
     },
     "execution_count": 96,
     "metadata": {},
     "output_type": "execute_result"
    }
   ],
   "source": [
    "data.Squat1Kg.describe()"
   ]
  },
  {
   "cell_type": "code",
   "execution_count": 103,
   "metadata": {},
   "outputs": [
    {
     "data": {
      "text/plain": [
       "1    USAPL\n",
       "Name: Federation, dtype: object"
      ]
     },
     "execution_count": 103,
     "metadata": {},
     "output_type": "execute_result"
    }
   ],
   "source": [
    "data[data['Squat1Kg'] >= 475]['Federation']"
   ]
  },
  {
   "cell_type": "code",
   "execution_count": 104,
   "metadata": {},
   "outputs": [
    {
     "data": {
      "text/plain": [
       "count          75710\n",
       "unique           415\n",
       "top       2016-10-13\n",
       "freq            1197\n",
       "Name: Date, dtype: object"
      ]
     },
     "execution_count": 104,
     "metadata": {},
     "output_type": "execute_result"
    }
   ],
   "source": [
    "data.Date.describe()"
   ]
  },
  {
   "cell_type": "code",
   "execution_count": null,
   "metadata": {
    "collapsed": true
   },
   "outputs": [],
   "source": []
  }
 ],
 "metadata": {
  "kernelspec": {
   "display_name": "Python 3",
   "language": "python",
   "name": "python3"
  },
  "language_info": {
   "codemirror_mode": {
    "name": "ipython",
    "version": 3
   },
   "file_extension": ".py",
   "mimetype": "text/x-python",
   "name": "python",
   "nbconvert_exporter": "python",
   "pygments_lexer": "ipython3",
   "version": "3.5.2"
  }
 },
 "nbformat": 4,
 "nbformat_minor": 2
}
