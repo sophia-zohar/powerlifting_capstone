{
 "cells": [
  {
   "cell_type": "markdown",
   "metadata": {},
   "source": [
    "## Part 1: Import Data and Drop Meaningless Columns"
   ]
  },
  {
   "cell_type": "code",
   "execution_count": 2,
   "metadata": {
    "collapsed": true
   },
   "outputs": [],
   "source": [
    "import pandas as pd\n",
    "import numpy as np\n",
    "import seaborn as sns\n",
    "import matplotlib.pyplot as plt\n",
    "%matplotlib inline"
   ]
  },
  {
   "cell_type": "code",
   "execution_count": 3,
   "metadata": {},
   "outputs": [
    {
     "name": "stderr",
     "output_type": "stream",
     "text": [
      "/opt/conda/lib/python3.5/site-packages/IPython/core/interactiveshell.py:2698: DtypeWarning: Columns (11,27) have mixed types. Specify dtype option on import or set low_memory=False.\n",
      "  interactivity=interactivity, compiler=compiler, result=result)\n"
     ]
    }
   ],
   "source": [
    "powerlifting = pd.read_csv('./usapl_ipf.csv')"
   ]
  },
  {
   "cell_type": "code",
   "execution_count": 4,
   "metadata": {
    "collapsed": true
   },
   "outputs": [],
   "source": [
    "# drop meaningless columns\n",
    "powerlifting.drop(['index', 'Unnamed: 0'], axis = 1, inplace=True)"
   ]
  },
  {
   "cell_type": "markdown",
   "metadata": {},
   "source": [
    "## Part 1a: Drop Rows Missing information"
   ]
  },
  {
   "cell_type": "code",
   "execution_count": 5,
   "metadata": {
    "collapsed": true
   },
   "outputs": [],
   "source": [
    "# drop lifters who have no data for any lifts\n",
    "useless_mask = (powerlifting['BestSquatKg'].isnull()) & (powerlifting['Squat1Kg'].isnull()) & \\\n",
    "(powerlifting['Squat2Kg'].isnull()) & (powerlifting['Squat3Kg'].isnull()) &\\\n",
    "(powerlifting['BestDeadliftKg'].isnull()) & (powerlifting['Deadlift1Kg'].isnull()) & \\\n",
    "(powerlifting['Deadlift2Kg'].isnull()) & (powerlifting['Deadlift3Kg'].isnull()) &\\\n",
    "(powerlifting['BestBenchKg'].isnull()) & (powerlifting['Bench1Kg'].isnull()) & \\\n",
    "(powerlifting['Bench2Kg'].isnull()) & (powerlifting['Bench3Kg'].isnull())\n"
   ]
  },
  {
   "cell_type": "code",
   "execution_count": 6,
   "metadata": {
    "collapsed": true
   },
   "outputs": [],
   "source": [
    "powerlifting = powerlifting[~useless_mask]"
   ]
  },
  {
   "cell_type": "code",
   "execution_count": 7,
   "metadata": {
    "collapsed": true
   },
   "outputs": [],
   "source": [
    "# drop rows where there is no weight class or bodyweight information\n",
    "weight_mask = (powerlifting['WeightClassKg'].isnull()) & (powerlifting['BodyweightKg'].isnull())\n",
    "powerlifting = powerlifting[~weight_mask]"
   ]
  },
  {
   "cell_type": "markdown",
   "metadata": {},
   "source": [
    "## Part 2: Populate Bodyweight Column with Weight Class Information \n",
    "(Where Weight Class Has an Upper Limit)"
   ]
  },
  {
   "cell_type": "code",
   "execution_count": 8,
   "metadata": {},
   "outputs": [
    {
     "data": {
      "text/plain": [
       "69455"
      ]
     },
     "execution_count": 8,
     "metadata": {},
     "output_type": "execute_result"
    }
   ],
   "source": [
    "powerlifting['BodyweightKg'].count()"
   ]
  },
  {
   "cell_type": "code",
   "execution_count": 9,
   "metadata": {
    "collapsed": true
   },
   "outputs": [],
   "source": [
    "# mask where we have no Bodyweight information and the weight class has a lower limit. ie: '120+\n",
    "# we cannot approximate a weight here since the weight can be anything over that limit, \n",
    "# whereas other weight classes have upper limits\n",
    "search_upper_limit = ((powerlifting['WeightClassKg']=='120+') | (powerlifting['WeightClassKg']=='84+') | \\\n",
    "(powerlifting['WeightClassKg']=='140+') | (powerlifting['WeightClassKg']=='110+') | (powerlifting['WeightClassKg']=='125+') | \\\n",
    "(powerlifting['WeightClassKg']=='145+')| (powerlifting['WeightClassKg']=='90+')) & (powerlifting['BodyweightKg'].isnull())"
   ]
  },
  {
   "cell_type": "code",
   "execution_count": 10,
   "metadata": {
    "collapsed": true
   },
   "outputs": [],
   "source": [
    "powerlifting = powerlifting[~search_upper_limit]"
   ]
  },
  {
   "cell_type": "code",
   "execution_count": 11,
   "metadata": {
    "collapsed": true
   },
   "outputs": [],
   "source": [
    "# function to fill bodyweight with weight class where null (a good approximation)\n",
    "def fill_bodyweight(row):\n",
    "    if np.isnan(row['BodyweightKg']):\n",
    "        row['BodyweightKg'] = pd.to_numeric(row['WeightClassKg'])\n",
    "    return row\n",
    "powerlifting = powerlifting.apply(fill_bodyweight, axis = 1)"
   ]
  },
  {
   "cell_type": "markdown",
   "metadata": {},
   "source": [
    "## Part 3: Populate Age Column"
   ]
  },
  {
   "cell_type": "code",
   "execution_count": 12,
   "metadata": {
    "collapsed": true
   },
   "outputs": [],
   "source": [
    "# convert Date column to datetime:\n",
    "powerlifting['Date'] = pd.to_datetime(powerlifting['Date'])"
   ]
  },
  {
   "cell_type": "code",
   "execution_count": 13,
   "metadata": {
    "collapsed": true
   },
   "outputs": [],
   "source": [
    "# extract year of competition:\n",
    "powerlifting['Year'] = powerlifting['Date'].dt.year"
   ]
  },
  {
   "cell_type": "code",
   "execution_count": 14,
   "metadata": {},
   "outputs": [
    {
     "data": {
      "image/png": "[encoded data removed]",
      "text/plain": [
       "<matplotlib.figure.Figure at 0x7f80f81dd7b8>"
      ]
     },
     "metadata": {},
     "output_type": "display_data"
    }
   ],
   "source": [
    "# graph of no. of lifters per year\n",
    "plt.figure(figsize=(8, 8))\n",
    "powerlifting.groupby('Year').count()['Sex'].plot()\n",
    "plt.ylabel('No. of Lifters')\n",
    "plt.show()"
   ]
  },
  {
   "cell_type": "code",
   "execution_count": 15,
   "metadata": {
    "collapsed": true
   },
   "outputs": [],
   "source": [
    "# function to calculate age if null\n",
    "def calculate_age(row):\n",
    "    if np.isnan(row['Age']) and np.isnan(row['BirthYear']) == False:\n",
    "        row['Age'] = row['Year'] - row['BirthYear']\n",
    "    return row \n",
    "\n",
    "powerlifting = powerlifting.apply(calculate_age, axis = 1)"
   ]
  },
  {
   "cell_type": "markdown",
   "metadata": {},
   "source": [
    "## Part 4: Populate and Clean \"Best\"/\"Total\" Columns"
   ]
  },
  {
   "cell_type": "code",
   "execution_count": 16,
   "metadata": {},
   "outputs": [
    {
     "data": {
      "text/html": [
       "<div>\n",
       "<table border=\"1\" class=\"dataframe\">\n",
       "  <thead>\n",
       "    <tr style=\"text-align: right;\">\n",
       "      <th></th>\n",
       "      <th>BestSquatKg</th>\n",
       "      <th>BestBenchKg</th>\n",
       "      <th>BestDeadliftKg</th>\n",
       "      <th>TotalKg</th>\n",
       "    </tr>\n",
       "  </thead>\n",
       "  <tbody>\n",
       "    <tr>\n",
       "      <th>count</th>\n",
       "      <td>63799.000000</td>\n",
       "      <td>71413.000000</td>\n",
       "      <td>66897.000000</td>\n",
       "      <td>71695.000000</td>\n",
       "    </tr>\n",
       "    <tr>\n",
       "      <th>mean</th>\n",
       "      <td>170.303968</td>\n",
       "      <td>112.491702</td>\n",
       "      <td>191.379740</td>\n",
       "      <td>432.617230</td>\n",
       "    </tr>\n",
       "    <tr>\n",
       "      <th>std</th>\n",
       "      <td>66.023756</td>\n",
       "      <td>50.388674</td>\n",
       "      <td>61.139108</td>\n",
       "      <td>189.037466</td>\n",
       "    </tr>\n",
       "    <tr>\n",
       "      <th>min</th>\n",
       "      <td>-262.500000</td>\n",
       "      <td>-290.300000</td>\n",
       "      <td>-238.100000</td>\n",
       "      <td>17.500000</td>\n",
       "    </tr>\n",
       "    <tr>\n",
       "      <th>25%</th>\n",
       "      <td>117.500000</td>\n",
       "      <td>70.000000</td>\n",
       "      <td>142.500000</td>\n",
       "      <td>285.000000</td>\n",
       "    </tr>\n",
       "    <tr>\n",
       "      <th>50%</th>\n",
       "      <td>167.500000</td>\n",
       "      <td>110.000000</td>\n",
       "      <td>192.500000</td>\n",
       "      <td>430.000000</td>\n",
       "    </tr>\n",
       "    <tr>\n",
       "      <th>75%</th>\n",
       "      <td>212.500000</td>\n",
       "      <td>145.000000</td>\n",
       "      <td>235.000000</td>\n",
       "      <td>570.000000</td>\n",
       "    </tr>\n",
       "    <tr>\n",
       "      <th>max</th>\n",
       "      <td>505.000000</td>\n",
       "      <td>410.000000</td>\n",
       "      <td>420.000000</td>\n",
       "      <td>1272.500000</td>\n",
       "    </tr>\n",
       "  </tbody>\n",
       "</table>\n",
       "</div>"
      ],
      "text/plain": [
       "        BestSquatKg   BestBenchKg  BestDeadliftKg       TotalKg\n",
       "count  63799.000000  71413.000000    66897.000000  71695.000000\n",
       "mean     170.303968    112.491702      191.379740    432.617230\n",
       "std       66.023756     50.388674       61.139108    189.037466\n",
       "min     -262.500000   -290.300000     -238.100000     17.500000\n",
       "25%      117.500000     70.000000      142.500000    285.000000\n",
       "50%      167.500000    110.000000      192.500000    430.000000\n",
       "75%      212.500000    145.000000      235.000000    570.000000\n",
       "max      505.000000    410.000000      420.000000   1272.500000"
      ]
     },
     "execution_count": 16,
     "metadata": {},
     "output_type": "execute_result"
    }
   ],
   "source": [
    "powerlifting[['BestSquatKg', 'BestBenchKg', 'BestDeadliftKg', 'TotalKg']].describe()"
   ]
  },
  {
   "cell_type": "markdown",
   "metadata": {},
   "source": [
    "<p>as we can see, there are negative values for the \"Best\" lift columns, this means the lifter missed all three attempts at their lift. In powerlifting, three missed attempts means the lifter *\"bombs out\"* of the meet. We don't want these instances counting toward the BestLift column, so we need to change these to nulls. \n",
    "\n",
    "<p>also, there are totals within the TotalKg that were calculated off of one lift. (i.e. \"Bench Only\") these totals will on average be lower than the totals for 3 lifts. We want to treat this column like it only applies to people who have completed all three lifts."
   ]
  },
  {
   "cell_type": "code",
   "execution_count": 17,
   "metadata": {},
   "outputs": [
    {
     "name": "stdout",
     "output_type": "stream",
     "text": [
      "<class 'pandas.core.frame.DataFrame'>\n",
      "Int64Index: 74629 entries, 0 to 75709\n",
      "Data columns (total 4 columns):\n",
      "BestSquatKg       63799 non-null float64\n",
      "BestBenchKg       71413 non-null float64\n",
      "BestDeadliftKg    66897 non-null float64\n",
      "TotalKg           71695 non-null float64\n",
      "dtypes: float64(4)\n",
      "memory usage: 2.8 MB\n"
     ]
    }
   ],
   "source": [
    "powerlifting[['BestSquatKg', 'BestBenchKg', 'BestDeadliftKg', 'TotalKg']].info()"
   ]
  },
  {
   "cell_type": "code",
   "execution_count": 18,
   "metadata": {
    "collapsed": true
   },
   "outputs": [],
   "source": [
    "# function to fill in negative best lifts with null values\n",
    "def fix_best_lift(row):\n",
    "    if row['BestSquatKg'] < 0:\n",
    "        row['BestSquatKg'] = np.nan\n",
    "    if row['BestBenchKg'] < 0:\n",
    "        row['BestBenchKg'] = np.nan\n",
    "    if row['BestDeadliftKg'] < 0:\n",
    "        row['BestDeadliftKg'] = np.nan\n",
    "    return row"
   ]
  },
  {
   "cell_type": "code",
   "execution_count": 19,
   "metadata": {
    "collapsed": true
   },
   "outputs": [],
   "source": [
    "powerlifting = powerlifting.apply(fix_best_lift, axis = 1)"
   ]
  },
  {
   "cell_type": "code",
   "execution_count": 20,
   "metadata": {
    "collapsed": true
   },
   "outputs": [],
   "source": [
    "# function to only calculate totals for lifters who have completed all three lifts\n",
    "def fix_total(row):\n",
    "    if np.isnan(row['BestSquatKg']) or np.isnan(row['BestBenchKg']) or np.isnan(row['BestDeadliftKg']):\n",
    "        row['TotalKg'] = np.nan\n",
    "    return row"
   ]
  },
  {
   "cell_type": "code",
   "execution_count": 21,
   "metadata": {
    "collapsed": true
   },
   "outputs": [],
   "source": [
    "powerlifting = powerlifting.apply(fix_total, axis = 1)"
   ]
  },
  {
   "cell_type": "code",
   "execution_count": 22,
   "metadata": {},
   "outputs": [
    {
     "name": "stdout",
     "output_type": "stream",
     "text": [
      "<class 'pandas.core.frame.DataFrame'>\n",
      "Int64Index: 74629 entries, 0 to 75709\n",
      "Data columns (total 4 columns):\n",
      "BestSquatKg       63788 non-null float64\n",
      "BestBenchKg       71402 non-null float64\n",
      "BestDeadliftKg    66892 non-null float64\n",
      "TotalKg           61950 non-null float64\n",
      "dtypes: float64(4)\n",
      "memory usage: 2.8 MB\n"
     ]
    }
   ],
   "source": [
    "# check\n",
    "powerlifting[['BestSquatKg', 'BestBenchKg', 'BestDeadliftKg', 'TotalKg']].info()"
   ]
  },
  {
   "cell_type": "code",
   "execution_count": 23,
   "metadata": {},
   "outputs": [
    {
     "data": {
      "text/html": [
       "<div>\n",
       "<table border=\"1\" class=\"dataframe\">\n",
       "  <thead>\n",
       "    <tr style=\"text-align: right;\">\n",
       "      <th></th>\n",
       "      <th>BestSquatKg</th>\n",
       "      <th>BestBenchKg</th>\n",
       "      <th>BestDeadliftKg</th>\n",
       "      <th>TotalKg</th>\n",
       "    </tr>\n",
       "  </thead>\n",
       "  <tbody>\n",
       "    <tr>\n",
       "      <th>count</th>\n",
       "      <td>63788.000000</td>\n",
       "      <td>71402.000000</td>\n",
       "      <td>66892.000000</td>\n",
       "      <td>61950.000000</td>\n",
       "    </tr>\n",
       "    <tr>\n",
       "      <th>mean</th>\n",
       "      <td>170.360145</td>\n",
       "      <td>112.531323</td>\n",
       "      <td>191.406797</td>\n",
       "      <td>471.694686</td>\n",
       "    </tr>\n",
       "    <tr>\n",
       "      <th>std</th>\n",
       "      <td>65.886994</td>\n",
       "      <td>50.282754</td>\n",
       "      <td>61.059244</td>\n",
       "      <td>169.399009</td>\n",
       "    </tr>\n",
       "    <tr>\n",
       "      <th>min</th>\n",
       "      <td>13.600000</td>\n",
       "      <td>6.800000</td>\n",
       "      <td>15.900000</td>\n",
       "      <td>38.600000</td>\n",
       "    </tr>\n",
       "    <tr>\n",
       "      <th>25%</th>\n",
       "      <td>117.500000</td>\n",
       "      <td>70.000000</td>\n",
       "      <td>142.500000</td>\n",
       "      <td>330.000000</td>\n",
       "    </tr>\n",
       "    <tr>\n",
       "      <th>50%</th>\n",
       "      <td>167.500000</td>\n",
       "      <td>110.000000</td>\n",
       "      <td>192.500000</td>\n",
       "      <td>470.000000</td>\n",
       "    </tr>\n",
       "    <tr>\n",
       "      <th>75%</th>\n",
       "      <td>212.500000</td>\n",
       "      <td>145.000000</td>\n",
       "      <td>235.000000</td>\n",
       "      <td>587.500000</td>\n",
       "    </tr>\n",
       "    <tr>\n",
       "      <th>max</th>\n",
       "      <td>505.000000</td>\n",
       "      <td>410.000000</td>\n",
       "      <td>420.000000</td>\n",
       "      <td>1272.500000</td>\n",
       "    </tr>\n",
       "  </tbody>\n",
       "</table>\n",
       "</div>"
      ],
      "text/plain": [
       "        BestSquatKg   BestBenchKg  BestDeadliftKg       TotalKg\n",
       "count  63788.000000  71402.000000    66892.000000  61950.000000\n",
       "mean     170.360145    112.531323      191.406797    471.694686\n",
       "std       65.886994     50.282754       61.059244    169.399009\n",
       "min       13.600000      6.800000       15.900000     38.600000\n",
       "25%      117.500000     70.000000      142.500000    330.000000\n",
       "50%      167.500000    110.000000      192.500000    470.000000\n",
       "75%      212.500000    145.000000      235.000000    587.500000\n",
       "max      505.000000    410.000000      420.000000   1272.500000"
      ]
     },
     "execution_count": 23,
     "metadata": {},
     "output_type": "execute_result"
    }
   ],
   "source": [
    "powerlifting[['BestSquatKg', 'BestBenchKg', 'BestDeadliftKg', 'TotalKg']].describe()"
   ]
  },
  {
   "cell_type": "markdown",
   "metadata": {},
   "source": [
    "## Part 5: Weed out Lifting Groups with Lower Averages"
   ]
  },
  {
   "cell_type": "markdown",
   "metadata": {},
   "source": [
    "now our stats seem more accurate. the minimum values are still pretty low, the next step is to fix this by eliminating all teen and youth competitors (I believe they cannot lift as much.). We will first test to see if there is a difference using stats."
   ]
  },
  {
   "cell_type": "code",
   "execution_count": 64,
   "metadata": {
    "collapsed": true
   },
   "outputs": [],
   "source": [
    "# divide dataframe by age \n",
    "\n",
    "old = powerlifting[powerlifting['Age'] > 17]\n",
    "\n",
    "young = powerlifting[powerlifting['Age'] < 17]\n",
    "\n",
    "unknown = powerlifting[powerlifting['Age'].isnull()]"
   ]
  },
  {
   "cell_type": "code",
   "execution_count": 65,
   "metadata": {},
   "outputs": [
    {
     "name": "stdout",
     "output_type": "stream",
     "text": [
      "(25432, 38)\n",
      "(1499, 38)\n",
      "(46539, 38)\n"
     ]
    }
   ],
   "source": [
    "print (old.shape)\n",
    "print (young.shape)\n",
    "print (unknown.shape)"
   ]
  },
  {
   "cell_type": "code",
   "execution_count": 69,
   "metadata": {},
   "outputs": [],
   "source": [
    "# mask for null values in each category (since the ttest function cannot interpret them)\n",
    "\n",
    "from scipy.stats import ttest_ind\n",
    "old_total = old[old['TotalKg'].isnull()==False]['TotalKg'].values\n",
    "old_bench = old[old['BestBenchKg'].isnull()==False]['BestBenchKg'].values\n",
    "old_squat = old[old['BestSquatKg'].isnull()==False]['BestSquatKg'].values\n",
    "old_dl = old[old['BestDeadliftKg'].isnull()==False]['BestDeadliftKg'].values\n",
    "\n",
    "y_total = young[young['TotalKg'].isnull()==False]['TotalKg'].values\n",
    "y_bench = young[young['BestBenchKg'].isnull()==False]['BestBenchKg'].values\n",
    "y_squat = young[young['BestSquatKg'].isnull()==False]['BestSquatKg'].values\n",
    "y_dl = young[young['BestDeadliftKg'].isnull()==False]['BestDeadliftKg'].values\n"
   ]
  },
  {
   "cell_type": "code",
   "execution_count": 72,
   "metadata": {},
   "outputs": [
    {
     "data": {
      "text/plain": [
       "Ttest_indResult(statistic=37.158530665434114, pvalue=1.6288457423955389e-293)"
      ]
     },
     "metadata": {},
     "output_type": "display_data"
    },
    {
     "data": {
      "text/plain": [
       "Ttest_indResult(statistic=38.877308435688661, pvalue=0.0)"
      ]
     },
     "metadata": {},
     "output_type": "display_data"
    },
    {
     "data": {
      "text/plain": [
       "Ttest_indResult(statistic=33.729185425957937, pvalue=1.3142378758337333e-243)"
      ]
     },
     "metadata": {},
     "output_type": "display_data"
    },
    {
     "data": {
      "text/plain": [
       "Ttest_indResult(statistic=40.536573246710965, pvalue=0.0)"
      ]
     },
     "metadata": {},
     "output_type": "display_data"
    }
   ],
   "source": [
    "# see if difference in means is statistically significant \n",
    "display(ttest_ind(old_total, y_total))\n",
    "display(ttest_ind(old_bench, y_bench))\n",
    "display(ttest_ind(old_squat, y_squat))\n",
    "display(ttest_ind(old_dl, y_dl))"
   ]
  },
  {
   "cell_type": "markdown",
   "metadata": {},
   "source": [
    "P-values are significantly small. This means there is a difference in the means between the two arrays. \n",
    "This could be for a variety of reasons but it means that we can take out the lifters in this category (Since we are looking for the upper limits of what a human can lift--all other calculations of these types of formulas have only used world records) Unfortunately, it doesn't mean we have weeded out every younger lifter...the \"Age\" column is very sparsely populated. There are other, more complicated ways to weed out these lifters. But we will first compare statistically"
   ]
  },
  {
   "cell_type": "code",
   "execution_count": 73,
   "metadata": {},
   "outputs": [
    {
     "data": {
      "text/html": [
       "<div>\n",
       "<table border=\"1\" class=\"dataframe\">\n",
       "  <thead>\n",
       "    <tr style=\"text-align: right;\">\n",
       "      <th></th>\n",
       "      <th>BestSquatKg</th>\n",
       "      <th>BestBenchKg</th>\n",
       "      <th>BestDeadliftKg</th>\n",
       "      <th>TotalKg</th>\n",
       "    </tr>\n",
       "  </thead>\n",
       "  <tbody>\n",
       "    <tr>\n",
       "      <th>count</th>\n",
       "      <td>22229.000000</td>\n",
       "      <td>24350.000000</td>\n",
       "      <td>23067.000000</td>\n",
       "      <td>21561.000000</td>\n",
       "    </tr>\n",
       "    <tr>\n",
       "      <th>mean</th>\n",
       "      <td>180.244347</td>\n",
       "      <td>118.887123</td>\n",
       "      <td>199.307341</td>\n",
       "      <td>495.803755</td>\n",
       "    </tr>\n",
       "    <tr>\n",
       "      <th>std</th>\n",
       "      <td>69.837967</td>\n",
       "      <td>52.411874</td>\n",
       "      <td>61.705292</td>\n",
       "      <td>176.564379</td>\n",
       "    </tr>\n",
       "    <tr>\n",
       "      <th>min</th>\n",
       "      <td>13.600000</td>\n",
       "      <td>9.100000</td>\n",
       "      <td>18.100000</td>\n",
       "      <td>40.800000</td>\n",
       "    </tr>\n",
       "    <tr>\n",
       "      <th>25%</th>\n",
       "      <td>125.000000</td>\n",
       "      <td>75.000000</td>\n",
       "      <td>147.500000</td>\n",
       "      <td>350.000000</td>\n",
       "    </tr>\n",
       "    <tr>\n",
       "      <th>50%</th>\n",
       "      <td>175.000000</td>\n",
       "      <td>115.000000</td>\n",
       "      <td>200.000000</td>\n",
       "      <td>492.500000</td>\n",
       "    </tr>\n",
       "    <tr>\n",
       "      <th>75%</th>\n",
       "      <td>222.500000</td>\n",
       "      <td>150.000000</td>\n",
       "      <td>242.500000</td>\n",
       "      <td>610.000000</td>\n",
       "    </tr>\n",
       "    <tr>\n",
       "      <th>max</th>\n",
       "      <td>505.000000</td>\n",
       "      <td>410.000000</td>\n",
       "      <td>420.000000</td>\n",
       "      <td>1272.500000</td>\n",
       "    </tr>\n",
       "  </tbody>\n",
       "</table>\n",
       "</div>"
      ],
      "text/plain": [
       "        BestSquatKg   BestBenchKg  BestDeadliftKg       TotalKg\n",
       "count  22229.000000  24350.000000    23067.000000  21561.000000\n",
       "mean     180.244347    118.887123      199.307341    495.803755\n",
       "std       69.837967     52.411874       61.705292    176.564379\n",
       "min       13.600000      9.100000       18.100000     40.800000\n",
       "25%      125.000000     75.000000      147.500000    350.000000\n",
       "50%      175.000000    115.000000      200.000000    492.500000\n",
       "75%      222.500000    150.000000      242.500000    610.000000\n",
       "max      505.000000    410.000000      420.000000   1272.500000"
      ]
     },
     "execution_count": 73,
     "metadata": {},
     "output_type": "execute_result"
    }
   ],
   "source": [
    "old[['BestSquatKg', 'BestBenchKg', 'BestDeadliftKg', 'TotalKg']].describe()"
   ]
  },
  {
   "cell_type": "code",
   "execution_count": 75,
   "metadata": {},
   "outputs": [
    {
     "data": {
      "text/html": [
       "<div>\n",
       "<table border=\"1\" class=\"dataframe\">\n",
       "  <thead>\n",
       "    <tr style=\"text-align: right;\">\n",
       "      <th></th>\n",
       "      <th>BestSquatKg</th>\n",
       "      <th>BestBenchKg</th>\n",
       "      <th>BestDeadliftKg</th>\n",
       "      <th>TotalKg</th>\n",
       "    </tr>\n",
       "  </thead>\n",
       "  <tbody>\n",
       "    <tr>\n",
       "      <th>count</th>\n",
       "      <td>1354.000000</td>\n",
       "      <td>1454.000000</td>\n",
       "      <td>1424.000000</td>\n",
       "      <td>1331.000000</td>\n",
       "    </tr>\n",
       "    <tr>\n",
       "      <th>mean</th>\n",
       "      <td>115.373811</td>\n",
       "      <td>64.963219</td>\n",
       "      <td>131.987591</td>\n",
       "      <td>313.686093</td>\n",
       "    </tr>\n",
       "    <tr>\n",
       "      <th>std</th>\n",
       "      <td>46.372341</td>\n",
       "      <td>28.994122</td>\n",
       "      <td>44.042620</td>\n",
       "      <td>113.548617</td>\n",
       "    </tr>\n",
       "    <tr>\n",
       "      <th>min</th>\n",
       "      <td>13.600000</td>\n",
       "      <td>9.100000</td>\n",
       "      <td>15.900000</td>\n",
       "      <td>38.600000</td>\n",
       "    </tr>\n",
       "    <tr>\n",
       "      <th>25%</th>\n",
       "      <td>83.125000</td>\n",
       "      <td>45.000000</td>\n",
       "      <td>102.500000</td>\n",
       "      <td>237.500000</td>\n",
       "    </tr>\n",
       "    <tr>\n",
       "      <th>50%</th>\n",
       "      <td>111.100000</td>\n",
       "      <td>60.000000</td>\n",
       "      <td>127.500000</td>\n",
       "      <td>302.500000</td>\n",
       "    </tr>\n",
       "    <tr>\n",
       "      <th>75%</th>\n",
       "      <td>140.000000</td>\n",
       "      <td>80.000000</td>\n",
       "      <td>155.000000</td>\n",
       "      <td>367.500000</td>\n",
       "    </tr>\n",
       "    <tr>\n",
       "      <th>max</th>\n",
       "      <td>320.000000</td>\n",
       "      <td>210.000000</td>\n",
       "      <td>290.000000</td>\n",
       "      <td>772.500000</td>\n",
       "    </tr>\n",
       "  </tbody>\n",
       "</table>\n",
       "</div>"
      ],
      "text/plain": [
       "       BestSquatKg  BestBenchKg  BestDeadliftKg      TotalKg\n",
       "count  1354.000000  1454.000000     1424.000000  1331.000000\n",
       "mean    115.373811    64.963219      131.987591   313.686093\n",
       "std      46.372341    28.994122       44.042620   113.548617\n",
       "min      13.600000     9.100000       15.900000    38.600000\n",
       "25%      83.125000    45.000000      102.500000   237.500000\n",
       "50%     111.100000    60.000000      127.500000   302.500000\n",
       "75%     140.000000    80.000000      155.000000   367.500000\n",
       "max     320.000000   210.000000      290.000000   772.500000"
      ]
     },
     "execution_count": 75,
     "metadata": {},
     "output_type": "execute_result"
    }
   ],
   "source": [
    "young[['BestSquatKg', 'BestBenchKg', 'BestDeadliftKg', 'TotalKg']].describe()"
   ]
  },
  {
   "cell_type": "code",
   "execution_count": 76,
   "metadata": {},
   "outputs": [
    {
     "data": {
      "text/html": [
       "<div>\n",
       "<table border=\"1\" class=\"dataframe\">\n",
       "  <thead>\n",
       "    <tr style=\"text-align: right;\">\n",
       "      <th></th>\n",
       "      <th>BestSquatKg</th>\n",
       "      <th>BestBenchKg</th>\n",
       "      <th>BestDeadliftKg</th>\n",
       "      <th>TotalKg</th>\n",
       "    </tr>\n",
       "  </thead>\n",
       "  <tbody>\n",
       "    <tr>\n",
       "      <th>count</th>\n",
       "      <td>39138.000000</td>\n",
       "      <td>44472.000000</td>\n",
       "      <td>41307.000000</td>\n",
       "      <td>38020.000000</td>\n",
       "    </tr>\n",
       "    <tr>\n",
       "      <th>mean</th>\n",
       "      <td>167.210959</td>\n",
       "      <td>111.243091</td>\n",
       "      <td>189.761277</td>\n",
       "      <td>465.488185</td>\n",
       "    </tr>\n",
       "    <tr>\n",
       "      <th>std</th>\n",
       "      <td>63.100215</td>\n",
       "      <td>48.821892</td>\n",
       "      <td>60.094912</td>\n",
       "      <td>163.804378</td>\n",
       "    </tr>\n",
       "    <tr>\n",
       "      <th>min</th>\n",
       "      <td>15.000000</td>\n",
       "      <td>10.000000</td>\n",
       "      <td>20.000000</td>\n",
       "      <td>54.400000</td>\n",
       "    </tr>\n",
       "    <tr>\n",
       "      <th>25%</th>\n",
       "      <td>117.500000</td>\n",
       "      <td>68.000000</td>\n",
       "      <td>140.000000</td>\n",
       "      <td>325.000000</td>\n",
       "    </tr>\n",
       "    <tr>\n",
       "      <th>50%</th>\n",
       "      <td>165.000000</td>\n",
       "      <td>110.000000</td>\n",
       "      <td>192.500000</td>\n",
       "      <td>470.000000</td>\n",
       "    </tr>\n",
       "    <tr>\n",
       "      <th>75%</th>\n",
       "      <td>210.000000</td>\n",
       "      <td>142.500000</td>\n",
       "      <td>235.000000</td>\n",
       "      <td>582.500000</td>\n",
       "    </tr>\n",
       "    <tr>\n",
       "      <th>max</th>\n",
       "      <td>500.000000</td>\n",
       "      <td>401.500000</td>\n",
       "      <td>395.000000</td>\n",
       "      <td>1271.500000</td>\n",
       "    </tr>\n",
       "  </tbody>\n",
       "</table>\n",
       "</div>"
      ],
      "text/plain": [
       "        BestSquatKg   BestBenchKg  BestDeadliftKg       TotalKg\n",
       "count  39138.000000  44472.000000    41307.000000  38020.000000\n",
       "mean     167.210959    111.243091      189.761277    465.488185\n",
       "std       63.100215     48.821892       60.094912    163.804378\n",
       "min       15.000000     10.000000       20.000000     54.400000\n",
       "25%      117.500000     68.000000      140.000000    325.000000\n",
       "50%      165.000000    110.000000      192.500000    470.000000\n",
       "75%      210.000000    142.500000      235.000000    582.500000\n",
       "max      500.000000    401.500000      395.000000   1271.500000"
      ]
     },
     "execution_count": 76,
     "metadata": {},
     "output_type": "execute_result"
    }
   ],
   "source": [
    "unknown[['BestSquatKg', 'BestBenchKg', 'BestDeadliftKg', 'TotalKg']].describe()"
   ]
  },
  {
   "cell_type": "code",
   "execution_count": 80,
   "metadata": {
    "collapsed": true
   },
   "outputs": [],
   "source": [
    "# can we keep in our unknown ages? \n",
    "unknown_total = unknown[unknown['TotalKg'].isnull()==False]['TotalKg'].values\n",
    "unknown_bench = unknown[unknown['BestBenchKg'].isnull()==False]['BestBenchKg'].values\n",
    "unknown_squat = unknown[unknown['BestSquatKg'].isnull()==False]['BestSquatKg'].values\n",
    "unknown_deadlift = unknown[unknown['BestDeadliftKg'].isnull()==False]['BestDeadliftKg'].values\n"
   ]
  },
  {
   "cell_type": "code",
   "execution_count": 79,
   "metadata": {
    "scrolled": true
   },
   "outputs": [
    {
     "data": {
      "text/plain": [
       "Ttest_indResult(statistic=21.099211845470748, pvalue=1.8568868485266156e-98)"
      ]
     },
     "metadata": {},
     "output_type": "display_data"
    },
    {
     "data": {
      "text/plain": [
       "Ttest_indResult(statistic=19.130572492057905, pvalue=2.2880242433327758e-81)"
      ]
     },
     "metadata": {},
     "output_type": "display_data"
    },
    {
     "data": {
      "text/plain": [
       "Ttest_indResult(statistic=23.648733579841085, pvalue=4.3356299495571405e-123)"
      ]
     },
     "metadata": {},
     "output_type": "display_data"
    },
    {
     "data": {
      "text/plain": [
       "Ttest_indResult(statistic=19.140503579867058, pvalue=1.9577023554852858e-81)"
      ]
     },
     "metadata": {},
     "output_type": "display_data"
    }
   ],
   "source": [
    "# see if difference in means is statistically significant \n",
    "display(ttest_ind(old_total, unknown_total))\n",
    "display(ttest_ind(old_bench, unknown_bench))\n",
    "display(ttest_ind(old_squat, unknown_squat))\n",
    "display(ttest_ind(old_dl, unknown_deadlift))"
   ]
  },
  {
   "cell_type": "markdown",
   "metadata": {},
   "source": [
    "The P-values came back with a significant difference between the two groups this could possibly be due to younger lifters still being in the unknown age group. Some might not be referenced by age, but they could still be referenced by division. This is the next thing to check."
   ]
  },
  {
   "cell_type": "code",
   "execution_count": 163,
   "metadata": {},
   "outputs": [],
   "source": [
    "age_by_division = powerlifting.groupby('Division')['Age'].mean()"
   ]
  },
  {
   "cell_type": "code",
   "execution_count": 167,
   "metadata": {},
   "outputs": [],
   "source": [
    "age_division_mapped = dict(age_by_division)"
   ]
  },
  {
   "cell_type": "code",
   "execution_count": 168,
   "metadata": {
    "collapsed": true
   },
   "outputs": [],
   "source": [
    "def populate_age_by_division(row):\n",
    "    if np.isnan(row['Age']):\n",
    "        KEY = row['Division']\n",
    "        print(KEY)\n",
    "        if np.isnan(age_division_mapped[KEY]) == False:\n",
    "            row['Age'] = age_division_mapped[KEY]\n",
    "    return row "
   ]
  },
  {
   "cell_type": "code",
   "execution_count": 173,
   "metadata": {},
   "outputs": [
    {
     "data": {
      "text/plain": [
       "21.601941747572816"
      ]
     },
     "execution_count": 173,
     "metadata": {},
     "output_type": "execute_result"
    }
   ],
   "source": [
    "age_division_mapped['Junior']"
   ]
  },
  {
   "cell_type": "code",
   "execution_count": 172,
   "metadata": {},
   "outputs": [
    {
     "data": {
      "text/plain": [
       "Age                                                             NaN\n",
       "Bench1Kg                                                        NaN\n",
       "Bench2Kg                                                        NaN\n",
       "Bench3Kg                                                        NaN\n",
       "Bench4Kg                                                        NaN\n",
       "BestBenchKg                                                     125\n",
       "BestDeadliftKg                                                232.5\n",
       "BestSquatKg                                                   222.5\n",
       "BirthYear                                                       NaN\n",
       "BodyweightKg                                                     75\n",
       "Country                                                         NaN\n",
       "Date                                            2000-06-10 00:00:00\n",
       "Deadlift1Kg                                                     NaN\n",
       "Deadlift2Kg                                                     NaN\n",
       "Deadlift3Kg                                                     NaN\n",
       "Deadlift4Kg                                                     NaN\n",
       "Division                                                     Junior\n",
       "Equipment                                                Single-ply\n",
       "Event                                                           SBD\n",
       "Federation                                                    USAPL\n",
       "MeetCountry                                                     USA\n",
       "MeetName          2000 USAPL Teenage & Junior Men's National Pow...\n",
       "MeetState                                                        TX\n",
       "MeetTown                                                   Ft. Hood\n",
       "Name                                                    Clint Gallo\n",
       "Place                                                             3\n",
       "School                                                          NaN\n",
       "Sex                                                               M\n",
       "Squat1Kg                                                        NaN\n",
       "Squat2Kg                                                        NaN\n",
       "Squat3Kg                                                        NaN\n",
       "Squat4Kg                                                        NaN\n",
       "State                                                           NaN\n",
       "Team                                                            NaN\n",
       "TotalKg                                                         580\n",
       "WeightClassKg                                                    75\n",
       "Wilks                                                           NaN\n",
       "Year                                                           2000\n",
       "Sex_Binary                                                        1\n",
       "Name: 58260, dtype: object"
      ]
     },
     "execution_count": 172,
     "metadata": {},
     "output_type": "execute_result"
    }
   ],
   "source": [
    "powerlifting.iloc[58015, :]"
   ]
  },
  {
   "cell_type": "code",
   "execution_count": 169,
   "metadata": {},
   "outputs": [
    {
     "ename": "KeyError",
     "evalue": "(nan, 'occurred at index 58015')",
     "output_type": "error",
     "traceback": [
      "\u001b[0;31m\u001b[0m",
      "\u001b[0;31mKeyError\u001b[0mTraceback (most recent call last)",
      "\u001b[0;32m<ipython-input-169-d6fe8b006e71>\u001b[0m in \u001b[0;36m<module>\u001b[0;34m()\u001b[0m\n\u001b[0;32m----> 1\u001b[0;31m \u001b[0mpowerlifting\u001b[0m \u001b[0;34m=\u001b[0m \u001b[0mpowerlifting\u001b[0m\u001b[0;34m.\u001b[0m\u001b[0mapply\u001b[0m\u001b[0;34m(\u001b[0m\u001b[0mpopulate_age_by_division\u001b[0m\u001b[0;34m,\u001b[0m \u001b[0maxis\u001b[0m \u001b[0;34m=\u001b[0m \u001b[0;36m1\u001b[0m\u001b[0;34m)\u001b[0m\u001b[0;34m\u001b[0m\u001b[0m\n\u001b[0m",
      "\u001b[0;32m/opt/conda/lib/python3.5/site-packages/pandas/core/frame.py\u001b[0m in \u001b[0;36mapply\u001b[0;34m(self, func, axis, broadcast, raw, reduce, args, **kwds)\u001b[0m\n\u001b[1;32m   4150\u001b[0m                     \u001b[0;32mif\u001b[0m \u001b[0mreduce\u001b[0m \u001b[0;32mis\u001b[0m \u001b[0;32mNone\u001b[0m\u001b[0;34m:\u001b[0m\u001b[0;34m\u001b[0m\u001b[0m\n\u001b[1;32m   4151\u001b[0m                         \u001b[0mreduce\u001b[0m \u001b[0;34m=\u001b[0m \u001b[0;32mTrue\u001b[0m\u001b[0;34m\u001b[0m\u001b[0m\n\u001b[0;32m-> 4152\u001b[0;31m                     \u001b[0;32mreturn\u001b[0m \u001b[0mself\u001b[0m\u001b[0;34m.\u001b[0m\u001b[0m_apply_standard\u001b[0m\u001b[0;34m(\u001b[0m\u001b[0mf\u001b[0m\u001b[0;34m,\u001b[0m \u001b[0maxis\u001b[0m\u001b[0;34m,\u001b[0m \u001b[0mreduce\u001b[0m\u001b[0;34m=\u001b[0m\u001b[0mreduce\u001b[0m\u001b[0;34m)\u001b[0m\u001b[0;34m\u001b[0m\u001b[0m\n\u001b[0m\u001b[1;32m   4153\u001b[0m             \u001b[0;32melse\u001b[0m\u001b[0;34m:\u001b[0m\u001b[0;34m\u001b[0m\u001b[0m\n\u001b[1;32m   4154\u001b[0m                 \u001b[0;32mreturn\u001b[0m \u001b[0mself\u001b[0m\u001b[0;34m.\u001b[0m\u001b[0m_apply_broadcast\u001b[0m\u001b[0;34m(\u001b[0m\u001b[0mf\u001b[0m\u001b[0;34m,\u001b[0m \u001b[0maxis\u001b[0m\u001b[0;34m)\u001b[0m\u001b[0;34m\u001b[0m\u001b[0m\n",
      "\u001b[0;32m/opt/conda/lib/python3.5/site-packages/pandas/core/frame.py\u001b[0m in \u001b[0;36m_apply_standard\u001b[0;34m(self, func, axis, ignore_failures, reduce)\u001b[0m\n\u001b[1;32m   4246\u001b[0m             \u001b[0;32mtry\u001b[0m\u001b[0;34m:\u001b[0m\u001b[0;34m\u001b[0m\u001b[0m\n\u001b[1;32m   4247\u001b[0m                 \u001b[0;32mfor\u001b[0m \u001b[0mi\u001b[0m\u001b[0;34m,\u001b[0m \u001b[0mv\u001b[0m \u001b[0;32min\u001b[0m \u001b[0menumerate\u001b[0m\u001b[0;34m(\u001b[0m\u001b[0mseries_gen\u001b[0m\u001b[0;34m)\u001b[0m\u001b[0;34m:\u001b[0m\u001b[0;34m\u001b[0m\u001b[0m\n\u001b[0;32m-> 4248\u001b[0;31m                     \u001b[0mresults\u001b[0m\u001b[0;34m[\u001b[0m\u001b[0mi\u001b[0m\u001b[0;34m]\u001b[0m \u001b[0;34m=\u001b[0m \u001b[0mfunc\u001b[0m\u001b[0;34m(\u001b[0m\u001b[0mv\u001b[0m\u001b[0;34m)\u001b[0m\u001b[0;34m\u001b[0m\u001b[0m\n\u001b[0m\u001b[1;32m   4249\u001b[0m                     \u001b[0mkeys\u001b[0m\u001b[0;34m.\u001b[0m\u001b[0mappend\u001b[0m\u001b[0;34m(\u001b[0m\u001b[0mv\u001b[0m\u001b[0;34m.\u001b[0m\u001b[0mname\u001b[0m\u001b[0;34m)\u001b[0m\u001b[0;34m\u001b[0m\u001b[0m\n\u001b[1;32m   4250\u001b[0m             \u001b[0;32mexcept\u001b[0m \u001b[0mException\u001b[0m \u001b[0;32mas\u001b[0m \u001b[0me\u001b[0m\u001b[0;34m:\u001b[0m\u001b[0;34m\u001b[0m\u001b[0m\n",
      "\u001b[0;32m<ipython-input-168-476714961d80>\u001b[0m in \u001b[0;36mpopulate_age_by_division\u001b[0;34m(row)\u001b[0m\n\u001b[1;32m      2\u001b[0m     \u001b[0;32mif\u001b[0m \u001b[0mnp\u001b[0m\u001b[0;34m.\u001b[0m\u001b[0misnan\u001b[0m\u001b[0;34m(\u001b[0m\u001b[0mrow\u001b[0m\u001b[0;34m[\u001b[0m\u001b[0;34m'Age'\u001b[0m\u001b[0;34m]\u001b[0m\u001b[0;34m)\u001b[0m\u001b[0;34m:\u001b[0m\u001b[0;34m\u001b[0m\u001b[0m\n\u001b[1;32m      3\u001b[0m         \u001b[0mKEY\u001b[0m \u001b[0;34m=\u001b[0m \u001b[0mrow\u001b[0m\u001b[0;34m[\u001b[0m\u001b[0;34m'Division'\u001b[0m\u001b[0;34m]\u001b[0m\u001b[0;34m\u001b[0m\u001b[0m\n\u001b[0;32m----> 4\u001b[0;31m         \u001b[0;32mif\u001b[0m \u001b[0mnp\u001b[0m\u001b[0;34m.\u001b[0m\u001b[0misnan\u001b[0m\u001b[0;34m(\u001b[0m\u001b[0mage_division_mapped\u001b[0m\u001b[0;34m[\u001b[0m\u001b[0mKEY\u001b[0m\u001b[0;34m]\u001b[0m\u001b[0;34m)\u001b[0m \u001b[0;34m==\u001b[0m \u001b[0;32mFalse\u001b[0m\u001b[0;34m:\u001b[0m\u001b[0;34m\u001b[0m\u001b[0m\n\u001b[0m\u001b[1;32m      5\u001b[0m             \u001b[0mrow\u001b[0m\u001b[0;34m[\u001b[0m\u001b[0;34m'Age'\u001b[0m\u001b[0;34m]\u001b[0m \u001b[0;34m=\u001b[0m \u001b[0mage_division_mapped\u001b[0m\u001b[0;34m[\u001b[0m\u001b[0mKEY\u001b[0m\u001b[0;34m]\u001b[0m\u001b[0;34m\u001b[0m\u001b[0m\n\u001b[1;32m      6\u001b[0m     \u001b[0;32mreturn\u001b[0m \u001b[0mrow\u001b[0m\u001b[0;34m\u001b[0m\u001b[0m\n",
      "\u001b[0;31mKeyError\u001b[0m: (nan, 'occurred at index 58015')"
     ]
    }
   ],
   "source": [
    "powerlifting = powerlifting.apply(populate_age_by_division, axis = 1)"
   ]
  },
  {
   "cell_type": "code",
   "execution_count": 145,
   "metadata": {},
   "outputs": [
    {
     "data": {
      "text/plain": [
       "(23930, 38)"
      ]
     },
     "execution_count": 145,
     "metadata": {},
     "output_type": "execute_result"
    }
   ],
   "source": [
    "powerlifting[(powerlifting['TotalKg'].isnull()==False) & (~powerlifting['Age'].isnull()) & \\\n",
    "             (~powerlifting['Sex'].isnull()) & (~powerlifting['BodyweightKg'].isnull())].shape"
   ]
  },
  {
   "cell_type": "code",
   "execution_count": 81,
   "metadata": {
    "collapsed": true
   },
   "outputs": [],
   "source": [
    "# separate data into men and women \n",
    "women = powerlifting[powerlifting['Sex'] == 'F']\n",
    "men = powerlifting[powerlifting['Sex'] == 'M']"
   ]
  },
  {
   "cell_type": "markdown",
   "metadata": {},
   "source": [
    "* Standardized accross meets\n",
    "* Top score is 1, bottom score is 0 for each class (classes defined by sex an age)\n",
    "\n",
    "* build a linear model or tree-based model to predict `total` from age, weight, and sex. Get coefficients or feature importances\n",
    "\n"
   ]
  },
  {
   "cell_type": "code",
   "execution_count": null,
   "metadata": {
    "collapsed": true
   },
   "outputs": [],
   "source": []
  }
 ],
 "metadata": {
  "kernelspec": {
   "display_name": "Python 3",
   "language": "python",
   "name": "python3"
  },
  "language_info": {
   "codemirror_mode": {
    "name": "ipython",
    "version": 3
   },
   "file_extension": ".py",
   "mimetype": "text/x-python",
   "name": "python",
   "nbconvert_exporter": "python",
   "pygments_lexer": "ipython3",
   "version": "3.5.2"
  }
 },
 "nbformat": 4,
 "nbformat_minor": 2
}
