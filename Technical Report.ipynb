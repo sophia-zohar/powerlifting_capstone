{
 "cells": [
  {
   "cell_type": "markdown",
   "metadata": {},
   "source": [
    "## Capstone: Using Machine Learning to Score Powerlifting Meets"
   ]
  },
  {
   "cell_type": "markdown",
   "metadata": {},
   "source": [
    "### The Problem: \n",
    "Powerlifting is a sport that has widely expanded in popularity over the past 10 years. With \n",
    "\n",
    "**Intro to Powerlifting:** Powerlifting is a one rep-max sport. Lifters are given three attempts on three lifts-the squat, the bench press, and the deadlift. Three judges decide whether each attempt is good or failed. Your best attempt at each lift is added to your **total** which is then used to determine your rank/score. \n",
    "\n",
    "**Scoring Powerlifting:** Lifters are scored based on highest total within weight classes, divisions (separated by age group) and equipment level. For each division and equipment level there is also a \"Best Lifter award across weight classes. Best Lifter is determined by highest Wilks Score. \n",
    "\n",
    "**What is the Wilks Score?:** Wilks score is a way of scoring across weight classes created by Robert Wilks in 1994. Various  <img src = \"https://wikimedia.org/api/rest_v1/media/math/render/svg/97274a51d2d3213a9ab7f8a98d91fd6eb0c23e81\">\n",
    "\n"
   ]
  },
  {
   "cell_type": "markdown",
   "metadata": {},
   "source": []
  },
  {
   "cell_type": "markdown",
   "metadata": {},
   "source": [
    "- This page uses data from the OpenPowerlifting project, http://www.openpowerlifting.org.\n",
    "- You may download a copy of the data at https://github.com/sstangl/openpowerlifting."
   ]
  },
  {
   "cell_type": "markdown",
   "metadata": {
    "collapsed": true
   },
   "source": [
    "# COMING SOON"
   ]
  },
  {
   "cell_type": "code",
   "execution_count": null,
   "metadata": {
    "collapsed": true
   },
   "outputs": [],
   "source": []
  }
 ],
 "metadata": {
  "kernelspec": {
   "display_name": "Python 3",
   "language": "python",
   "name": "python3"
  },
  "language_info": {
   "codemirror_mode": {
    "name": "ipython",
    "version": 3
   },
   "file_extension": ".py",
   "mimetype": "text/x-python",
   "name": "python",
   "nbconvert_exporter": "python",
   "pygments_lexer": "ipython3",
   "version": "3.5.2"
  }
 },
 "nbformat": 4,
 "nbformat_minor": 2
}
