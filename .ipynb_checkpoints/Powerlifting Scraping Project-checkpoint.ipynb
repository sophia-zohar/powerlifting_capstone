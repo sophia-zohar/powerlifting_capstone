{
 "cells": [
  {
   "cell_type": "code",
   "execution_count": 1,
   "metadata": {
    "collapsed": true
   },
   "outputs": [
    {
     "name": "stdout",
     "output_type": "stream",
     "text": [
      "Fetching package metadata .........\n",
      "Solving package specifications: ..........\n",
      "\n",
      "Package plan for installation in environment /opt/conda/envs/python2:\n",
      "\n",
      "The following packages will be downloaded:\n",
      "\n",
      "    package                    |            build\n",
      "    ---------------------------|-----------------\n",
      "    libxslt-1.1.29             |                5         1.3 MB  conda-forge\n",
      "    constantly-15.1.0          |           py27_0          11 KB\n",
      "    cssselect-1.0.0            |           py27_0          23 KB  conda-forge\n",
      "    hyperlink-17.1.1           |           py27_0          41 KB\n",
      "    incremental-16.10.1        |           py27_0          26 KB\n",
      "    lxml-3.8.0                 |           py27_0         3.3 MB  conda-forge\n",
      "    pyasn1-0.3.2               |           py27_0          87 KB  conda-forge\n",
      "    pydispatcher-2.0.5         |           py27_0          16 KB  conda-forge\n",
      "    pympler-0.5                |           py27_0         219 KB  conda-forge\n",
      "    queuelib-1.4.2             |           py27_0          13 KB\n",
      "    zope-1.0                   |           py27_0          845 B\n",
      "    hypothesis-3.17.0          |           py27_0         166 KB  conda-forge\n",
      "    pyasn1-modules-0.0.9       |           py27_0          81 KB  conda-forge\n",
      "    w3lib-1.17.0               |           py27_0          29 KB\n",
      "    zope.interface-4.4.2       |           py27_0         209 KB\n",
      "    attrs-17.2.0               |           py27_0          32 KB  conda-forge\n",
      "    parsel-1.2.0               |           py27_0          17 KB\n",
      "    automat-0.6.0              |           py27_0          46 KB  conda-forge\n",
      "    service_identity-17.0.0    |           py27_0          17 KB\n",
      "    twisted-17.5.0             |           py27_0         4.4 MB\n",
      "    scrapy-1.4.0               |           py27_0         299 KB  conda-forge\n",
      "    ------------------------------------------------------------\n",
      "                                           Total:        10.4 MB\n",
      "\n",
      "The following NEW packages will be INSTALLED:\n",
      "\n",
      "    attrs:            17.2.0-py27_0  conda-forge\n",
      "    automat:          0.6.0-py27_0   conda-forge\n",
      "    constantly:       15.1.0-py27_0             \n",
      "    cssselect:        1.0.0-py27_0   conda-forge\n",
      "    hyperlink:        17.1.1-py27_0             \n",
      "    hypothesis:       3.17.0-py27_0  conda-forge\n",
      "    incremental:      16.10.1-py27_0            \n",
      "    libxslt:          1.1.29-5       conda-forge\n",
      "    lxml:             3.8.0-py27_0   conda-forge\n",
      "    parsel:           1.2.0-py27_0              \n",
      "    pyasn1:           0.3.2-py27_0   conda-forge\n",
      "    pyasn1-modules:   0.0.9-py27_0   conda-forge\n",
      "    pydispatcher:     2.0.5-py27_0   conda-forge\n",
      "    pympler:          0.5-py27_0     conda-forge\n",
      "    queuelib:         1.4.2-py27_0              \n",
      "    scrapy:           1.4.0-py27_0   conda-forge\n",
      "    service_identity: 17.0.0-py27_0             \n",
      "    twisted:          17.5.0-py27_0             \n",
      "    w3lib:            1.17.0-py27_0             \n",
      "    zope:             1.0-py27_0                \n",
      "    zope.interface:   4.4.2-py27_0              \n",
      "\n",
      "Proceed ([y]/n)? \n",
      "Fetching packages ...\n",
      "libxslt-1.1.29 100% |################################| Time: 0:00:00   1.70 MB/s\n",
      "constantly-15. 100% |################################| Time: 0:00:00  12.65 MB/s\n",
      "cssselect-1.0. 100% |################################| Time: 0:00:00 320.82 kB/s\n",
      "hyperlink-17.1 100% |################################| Time: 0:00:00   6.68 MB/s\n",
      "incremental-16 100% |################################| Time: 0:00:00  13.74 MB/s\n",
      "lxml-3.8.0-py2 100% |################################| Time: 0:00:01   2.76 MB/s\n",
      "pyasn1-0.3.2-p 100% |################################| Time: 0:00:00 400.42 kB/s\n",
      "pydispatcher-2 100% |################################| Time: 0:00:00 193.29 kB/s\n",
      "pympler-0.5-py 100% |################################| Time: 0:00:00 584.47 kB/s\n",
      "queuelib-1.4.2 100% |################################| Time: 0:00:00   3.25 MB/s\n",
      "zope-1.0-py27_ 100% |################################| Time: 0:00:00  16.57 kB/s\n",
      "hypothesis-3.1 100% |################################| Time: 0:00:00 540.39 kB/s\n",
      "pyasn1-modules 100% |################################| Time: 0:00:00 377.83 kB/s\n",
      "w3lib-1.17.0-p 100% |################################| Time: 0:00:00   5.23 MB/s\n",
      "zope.interface 100% |################################| Time: 0:00:00   3.59 MB/s\n",
      "attrs-17.2.0-p 100% |################################| Time: 0:00:00 416.22 kB/s\n",
      "parsel-1.2.0-p 100% |################################| Time: 0:00:00   2.80 MB/s\n",
      "automat-0.6.0- 100% |################################| Time: 0:00:00 264.53 kB/s\n",
      "service_identi 100% |################################| Time: 0:00:00   4.76 MB/s\n",
      "twisted-17.5.0 100% |################################| Time: 0:00:00   8.88 MB/s\n",
      "scrapy-1.4.0-p 100% |################################| Time: 0:00:00 755.39 kB/s\n",
      "Extracting packages ...\n",
      "[      COMPLETE      ]|###################################################| 100%\n",
      "Linking packages ...\n",
      "[      COMPLETE      ]|###################################################| 100%\n",
      "yes: standard output: Broken pipe\n",
      "yes: write error\n"
     ]
    }
   ],
   "source": [
    "!yes | conda install scrapy "
   ]
  },
  {
   "cell_type": "code",
   "execution_count": 2,
   "metadata": {
    "collapsed": true
   },
   "outputs": [],
   "source": [
    "import requests\n",
    "from scrapy.selector import Selector\n",
    "from scrapy.http import HtmlResponse\n",
    "import pandas as pd"
   ]
  },
  {
   "cell_type": "code",
   "execution_count": 3,
   "metadata": {
    "collapsed": true
   },
   "outputs": [],
   "source": [
    "response = requests.get(\"http://usapl.liftingdatabase.com/competitions-view?id=1649\")\n",
    "\n",
    "html = response.text"
   ]
  },
  {
   "cell_type": "code",
   "execution_count": 4,
   "metadata": {
    "collapsed": true
   },
   "outputs": [],
   "source": [
    "result_records = []\n",
    "\n",
    "events = [\"Female - Junior\", \"Female - Master 1\", \"Female - Master 2\", \"Female - Master 3\", \"Female - Master 4\",\n",
    "         \"Female - Open\", \"Female - Teen 1\", \"Female - Teen 2\", \"Female - Teen 3\", \"Male - Junior\", \"Male - Master 1\",\n",
    "         \"Male - Master 2\", \"Male - Master 3\", \"Male - Master 4\", \"Male - Master 5\", \"Male - Open\", \"Male - Teen 1\",\n",
    "         \"Male - Teen 2\", \"Male - Teen 3\"] # update this as appropriate\n",
    "current_event = False\n",
    "\n",
    "for table_row in Selector(text=html).xpath(\"//table[@id='competition_view_results']/tbody/tr\"):\n",
    "\n",
    "    last_competition_type = table_row.xpath(\".//th/text()\").extract_first(default=\"None\").strip()\n",
    "\n",
    "    if last_competition_type.strip() in events: \n",
    "        current_event = last_competition_type\n",
    "    \n",
    "    row_data = table_row.xpath(\"./td/text()\").extract()\n",
    "    \n",
    "    if len(row_data) > 0:\n",
    "        result_records.append([current_event] + row_data)\n",
    "\n",
    "# Then from here you could probably figure out which columns match to which offsets\n",
    "df = pd.DataFrame(result_records, dtype='string')\n",
    "df = df.applymap(lambda value: value.strip() if type(value) == unicode else value)\n",
    "\n"
   ]
  },
  {
   "cell_type": "code",
   "execution_count": 5,
   "metadata": {},
   "outputs": [
    {
     "data": {
      "text/html": [
       "<div>\n",
       "<table border=\"1\" class=\"dataframe\">\n",
       "  <thead>\n",
       "    <tr style=\"text-align: right;\">\n",
       "      <th></th>\n",
       "      <th>0</th>\n",
       "      <th>1</th>\n",
       "      <th>2</th>\n",
       "      <th>3</th>\n",
       "      <th>4</th>\n",
       "      <th>5</th>\n",
       "      <th>6</th>\n",
       "      <th>7</th>\n",
       "      <th>8</th>\n",
       "      <th>9</th>\n",
       "      <th>10</th>\n",
       "      <th>11</th>\n",
       "      <th>12</th>\n",
       "      <th>13</th>\n",
       "      <th>14</th>\n",
       "      <th>15</th>\n",
       "      <th>16</th>\n",
       "      <th>17</th>\n",
       "    </tr>\n",
       "  </thead>\n",
       "  <tbody>\n",
       "    <tr>\n",
       "      <th>0</th>\n",
       "      <td>Male - Open</td>\n",
       "      <td>120+</td>\n",
       "      <td>-</td>\n",
       "      <td>1987</td>\n",
       "      <td>WI</td>\n",
       "      <td>161.98</td>\n",
       "      <td>-435</td>\n",
       "      <td>-435</td>\n",
       "      <td>-450</td>\n",
       "      <td>-340</td>\n",
       "      <td>-340</td>\n",
       "      <td>-350</td>\n",
       "      <td>-280</td>\n",
       "      <td></td>\n",
       "      <td></td>\n",
       "      <td>0</td>\n",
       "      <td>0.00</td>\n",
       "      <td>X</td>\n",
       "    </tr>\n",
       "    <tr>\n",
       "      <th>1</th>\n",
       "      <td>Female - Junior</td>\n",
       "      <td>-52</td>\n",
       "      <td>1.</td>\n",
       "      <td>1994</td>\n",
       "      <td>TX</td>\n",
       "      <td>47.03</td>\n",
       "      <td>147.5</td>\n",
       "      <td>155</td>\n",
       "      <td>-160</td>\n",
       "      <td>75</td>\n",
       "      <td>80</td>\n",
       "      <td>85</td>\n",
       "      <td>150</td>\n",
       "      <td>160</td>\n",
       "      <td>-167.5</td>\n",
       "      <td>400</td>\n",
       "      <td>537.72</td>\n",
       "      <td>None</td>\n",
       "    </tr>\n",
       "    <tr>\n",
       "      <th>2</th>\n",
       "      <td>Female - Junior</td>\n",
       "      <td>-52</td>\n",
       "      <td>2.</td>\n",
       "      <td>1997</td>\n",
       "      <td>TX</td>\n",
       "      <td>51.61</td>\n",
       "      <td>145</td>\n",
       "      <td>152.5</td>\n",
       "      <td>-160</td>\n",
       "      <td>-90</td>\n",
       "      <td>90</td>\n",
       "      <td>95</td>\n",
       "      <td>140</td>\n",
       "      <td>152.5</td>\n",
       "      <td>-157.5</td>\n",
       "      <td>400</td>\n",
       "      <td>501.56</td>\n",
       "      <td>X</td>\n",
       "    </tr>\n",
       "    <tr>\n",
       "      <th>3</th>\n",
       "      <td>Female - Junior</td>\n",
       "      <td>-57</td>\n",
       "      <td>1.</td>\n",
       "      <td>1994</td>\n",
       "      <td>WI</td>\n",
       "      <td>56.03</td>\n",
       "      <td>172.5</td>\n",
       "      <td>182.5</td>\n",
       "      <td>190</td>\n",
       "      <td>115</td>\n",
       "      <td>122.5</td>\n",
       "      <td>130</td>\n",
       "      <td>167.5</td>\n",
       "      <td>180</td>\n",
       "      <td>-190</td>\n",
       "      <td>500</td>\n",
       "      <td>588.05</td>\n",
       "      <td>X</td>\n",
       "    </tr>\n",
       "    <tr>\n",
       "      <th>4</th>\n",
       "      <td>Female - Junior</td>\n",
       "      <td>-63</td>\n",
       "      <td>1.</td>\n",
       "      <td>1994</td>\n",
       "      <td>VA</td>\n",
       "      <td>62.74</td>\n",
       "      <td>170</td>\n",
       "      <td>180</td>\n",
       "      <td>-185</td>\n",
       "      <td>110</td>\n",
       "      <td>115</td>\n",
       "      <td>-120.5</td>\n",
       "      <td>167.5</td>\n",
       "      <td>177.5</td>\n",
       "      <td>-185</td>\n",
       "      <td>472.5</td>\n",
       "      <td>509.02</td>\n",
       "      <td>None</td>\n",
       "    </tr>\n",
       "  </tbody>\n",
       "</table>\n",
       "</div>"
      ],
      "text/plain": [
       "                0     1   2     3   4       5      6      7     8     9   \\\n",
       "0      Male - Open  120+   -  1987  WI  161.98   -435   -435  -450  -340   \n",
       "1  Female - Junior   -52  1.  1994  TX   47.03  147.5    155  -160    75   \n",
       "2  Female - Junior   -52  2.  1997  TX   51.61    145  152.5  -160   -90   \n",
       "3  Female - Junior   -57  1.  1994  WI   56.03  172.5  182.5   190   115   \n",
       "4  Female - Junior   -63  1.  1994  VA   62.74    170    180  -185   110   \n",
       "\n",
       "      10      11     12     13      14     15      16    17  \n",
       "0   -340    -350   -280                     0    0.00     X  \n",
       "1     80      85    150    160  -167.5    400  537.72  None  \n",
       "2     90      95    140  152.5  -157.5    400  501.56     X  \n",
       "3  122.5     130  167.5    180    -190    500  588.05     X  \n",
       "4    115  -120.5  167.5  177.5    -185  472.5  509.02  None  "
      ]
     },
     "execution_count": 5,
     "metadata": {},
     "output_type": "execute_result"
    }
   ],
   "source": [
    "df.head()"
   ]
  },
  {
   "cell_type": "code",
   "execution_count": 14,
   "metadata": {
    "collapsed": true
   },
   "outputs": [],
   "source": [
    "import unicodedata"
   ]
  },
  {
   "cell_type": "code",
   "execution_count": 161,
   "metadata": {
    "collapsed": true
   },
   "outputs": [],
   "source": [
    "#unicodedata.numeric()"
   ]
  },
  {
   "cell_type": "code",
   "execution_count": 6,
   "metadata": {},
   "outputs": [
    {
     "data": {
      "text/plain": [
       "(259, 18)"
      ]
     },
     "execution_count": 6,
     "metadata": {},
     "output_type": "execute_result"
    }
   ],
   "source": [
    "df.shape"
   ]
  },
  {
   "cell_type": "code",
   "execution_count": 7,
   "metadata": {
    "collapsed": true
   },
   "outputs": [],
   "source": [
    "df.columns = ['class', 'weight_class', 'rank', 'birth_year', 'state', 'weight', 'squat_1', 'squat_2', 'squat_3', 'bench_1', \n",
    "             'bench_2', 'bench_3', 'dl_1', 'dl_2', 'dl_3', 'total', 'score', 'drug'] \n",
    "\n",
    "\n"
   ]
  },
  {
   "cell_type": "code",
   "execution_count": 8,
   "metadata": {
    "collapsed": true
   },
   "outputs": [],
   "source": [
    "df.drug = df.drug.map(lambda x: 1 if x == 'X' else 0)"
   ]
  },
  {
   "cell_type": "code",
   "execution_count": 9,
   "metadata": {
    "collapsed": true
   },
   "outputs": [],
   "source": [
    "def convert_numeric(val):\n",
    "    if str(val).isdigit():\n",
    "        val = float(str((val)))\n",
    "        return val\n",
    "    else: \n",
    "        return str(val)\n",
    "    \n",
    "df = df.applymap(convert_numeric)"
   ]
  },
  {
   "cell_type": "code",
   "execution_count": 11,
   "metadata": {},
   "outputs": [
    {
     "name": "stdout",
     "output_type": "stream",
     "text": [
      "<class 'pandas.core.frame.DataFrame'>\n",
      "RangeIndex: 259 entries, 0 to 258\n",
      "Data columns (total 18 columns):\n",
      "class           259 non-null object\n",
      "weight_class    259 non-null object\n",
      "rank            259 non-null object\n",
      "birth_year      259 non-null float64\n",
      "state           259 non-null object\n",
      "weight          259 non-null object\n",
      "squat_1         259 non-null object\n",
      "squat_2         259 non-null object\n",
      "squat_3         259 non-null object\n",
      "bench_1         259 non-null object\n",
      "bench_2         259 non-null object\n",
      "bench_3         259 non-null object\n",
      "dl_1            259 non-null object\n",
      "dl_2            259 non-null object\n",
      "dl_3            259 non-null object\n",
      "total           259 non-null object\n",
      "score           259 non-null object\n",
      "drug            259 non-null float64\n",
      "dtypes: float64(2), object(16)\n",
      "memory usage: 36.5+ KB\n"
     ]
    }
   ],
   "source": [
    "df.info()"
   ]
  },
  {
   "cell_type": "code",
   "execution_count": 12,
   "metadata": {},
   "outputs": [
    {
     "data": {
      "text/plain": [
       "''"
      ]
     },
     "execution_count": 12,
     "metadata": {},
     "output_type": "execute_result"
    }
   ],
   "source": [
    "df.iloc[256, 8]"
   ]
  },
  {
   "cell_type": "code",
   "execution_count": 13,
   "metadata": {
    "collapsed": true
   },
   "outputs": [],
   "source": [
    "import numpy as np\n",
    "df = df.replace('', np.nan)"
   ]
  },
  {
   "cell_type": "code",
   "execution_count": 14,
   "metadata": {},
   "outputs": [
    {
     "name": "stdout",
     "output_type": "stream",
     "text": [
      "<class 'pandas.core.frame.DataFrame'>\n",
      "RangeIndex: 259 entries, 0 to 258\n",
      "Data columns (total 18 columns):\n",
      "class           259 non-null object\n",
      "weight_class    259 non-null object\n",
      "rank            259 non-null object\n",
      "birth_year      259 non-null float64\n",
      "state           259 non-null object\n",
      "weight          259 non-null object\n",
      "squat_1         259 non-null object\n",
      "squat_2         258 non-null object\n",
      "squat_3         255 non-null object\n",
      "bench_1         257 non-null object\n",
      "bench_2         254 non-null object\n",
      "bench_3         250 non-null object\n",
      "dl_1            254 non-null object\n",
      "dl_2            250 non-null object\n",
      "dl_3            245 non-null object\n",
      "total           259 non-null object\n",
      "score           259 non-null object\n",
      "drug            259 non-null float64\n",
      "dtypes: float64(2), object(16)\n",
      "memory usage: 36.5+ KB\n"
     ]
    }
   ],
   "source": [
    "df.info()"
   ]
  },
  {
   "cell_type": "code",
   "execution_count": 15,
   "metadata": {
    "collapsed": true
   },
   "outputs": [],
   "source": [
    "def floater(series):\n",
    "    return pd.to_numeric(series, errors='ignore')\n",
    "\n",
    "df = df.apply(floater)\n"
   ]
  },
  {
   "cell_type": "code",
   "execution_count": 17,
   "metadata": {
    "collapsed": true
   },
   "outputs": [],
   "source": [
    "gender = ['Male' if 'Male' in x else \"Female\" for x in df['class'].values]"
   ]
  },
  {
   "cell_type": "code",
   "execution_count": 18,
   "metadata": {
    "collapsed": true
   },
   "outputs": [],
   "source": [
    "df['gender'] = gender"
   ]
  },
  {
   "cell_type": "code",
   "execution_count": 19,
   "metadata": {},
   "outputs": [
    {
     "data": {
      "text/plain": [
       "weight_class  gender\n",
       "-105          Male      754.916667\n",
       "-120          Male      678.382353\n",
       "-43           Female    285.000000\n",
       "-47           Female    282.142857\n",
       "-52           Female    320.062500\n",
       "-53           Male      455.625000\n",
       "-57           Female    336.916667\n",
       "-59           Male      542.055556\n",
       "-63           Female    405.166667\n",
       "-66           Male      533.333333\n",
       "-72           Female    442.962963\n",
       "-74           Male      573.333333\n",
       "-83           Male      632.272727\n",
       "-84           Female    452.535714\n",
       "-93           Male      603.695652\n",
       "120+          Male      599.166667\n",
       "84+           Female    440.909091\n",
       "Name: total, dtype: float64"
      ]
     },
     "execution_count": 19,
     "metadata": {},
     "output_type": "execute_result"
    }
   ],
   "source": [
    "df.groupby(('weight_class', 'gender'))['total'].mean()"
   ]
  },
  {
   "cell_type": "code",
   "execution_count": 20,
   "metadata": {},
   "outputs": [
    {
     "data": {
      "image/png": "[encoded data removed]",
      "text/plain": [
       "<matplotlib.figure.Figure at 0x7f85f7fd5bd0>"
      ]
     },
     "metadata": {},
     "output_type": "display_data"
    }
   ],
   "source": [
    "import matplotlib.pyplot as plt\n",
    "%matplotlib inline\n",
    "\n",
    "df.groupby(('weight_class', 'gender'))['total', 'score'].mean().sort_values(\"score\").plot(kind='bar')\n",
    "plt.show()"
   ]
  },
  {
   "cell_type": "code",
   "execution_count": 21,
   "metadata": {},
   "outputs": [
    {
     "data": {
      "image/png": "[encoded data removed]",
      "text/plain": [
       "<matplotlib.figure.Figure at 0x7f85f7e196d0>"
      ]
     },
     "metadata": {},
     "output_type": "display_data"
    }
   ],
   "source": [
    "df.groupby(('weight_class', 'gender'))['score'].mean().sort_values().plot(kind='bar')\n",
    "plt.show()"
   ]
  },
  {
   "cell_type": "code",
   "execution_count": 23,
   "metadata": {
    "collapsed": true
   },
   "outputs": [],
   "source": [
    "def men_wilks(x, lift): \n",
    "    a=-216.0475144\n",
    "    b=16.2606339\n",
    "    c=-0.002388645\n",
    "    d=-0.00113732\n",
    "    e=7.01863E-06\n",
    "    f=-1.291E-08\n",
    "    bottom = a + b*x + c*x**2 + d*x**3 + e*x**4 + f*x**5\n",
    "    return (float(500)/ bottom) * lift"
   ]
  },
  {
   "cell_type": "code",
   "execution_count": 24,
   "metadata": {
    "collapsed": true
   },
   "outputs": [],
   "source": [
    "def women_wilks(x, lift): \n",
    "    a=594.31747775582\n",
    "    b=-27.23842536447\n",
    "    c=0.82112226871\n",
    "    d=-0.00930733913\n",
    "    e=4.731582E-05\n",
    "    f=-9.054E-08\n",
    "    bottom = a + b*x + c*x**2 + d*x**3 + e*x**4 + f*x**5\n",
    "    return (float(500)/ bottom) * lift"
   ]
  },
  {
   "cell_type": "code",
   "execution_count": 26,
   "metadata": {
    "collapsed": true
   },
   "outputs": [],
   "source": [
    "\n"
   ]
  },
  {
   "cell_type": "code",
   "execution_count": 84,
   "metadata": {
    "collapsed": true
   },
   "outputs": [],
   "source": [
    "# x = np.array([47, 52, 57, 63, 72, 84, 90])\n",
    "# x2 = np.array([59, 66, 74, 83, 93, 105, 120, 130])\n",
    "x = np.arange(40, 150, 10)\n",
    "\n",
    "w_wilks = women_wilks(x)\n",
    "m_wilks = men_wilks(x)\n",
    "\n",
    "fig = plt.figure(figsize=(8,5))\n",
    "ax = fig.gca()\n",
    "\n",
    "ax.plot(x, w_wilks, label='womens wilks coef')\n",
    "ax.plot(x, m_wilks, label= 'mens wilks coef')\n",
    "ax.set_xlabel('weight', fontsize=16)\n",
    "ax.set_ylabel('wilks multiplier', fontsize=16)\n",
    "ax.set_title('Mens/Womens Wilks Coefficients', fontsize=20)\n",
    "\n",
    "\n",
    "plt.legend(loc='best')\n",
    "\n",
    "plt.show()"
   ]
  },
  {
   "cell_type": "code",
   "execution_count": 116,
   "metadata": {
    "collapsed": true
   },
   "outputs": [],
   "source": [
    "# # def d_woman_wilks(x):\n",
    "# #     a=594.31747775582\n",
    "# #     b=-27.23842536447\n",
    "# #     c=0.82112226871\n",
    "# #     d=-0.00930733913\n",
    "# #     e=4.731582E-05\n",
    "# #     f=-9.054E-08\n",
    "# #     bottom = a + b*x + c*x**2 + d*x**3 + e*x**4 + f*x**5\n",
    "# #     top = b + c*2*x + d*3*x**2 + e*4*x**3 + f*5*x**4\n",
    "# #     return -(500 * top)/(bottom**2)\n",
    "    \n",
    "\n",
    "# # def d_man_wilks(x):\n",
    "# #     a=-216.0475144\n",
    "# #     b=16.2606339\n",
    "# #     c=-0.002388645\n",
    "# #     d=-0.00113732\n",
    "# #     e=7.01863E-06\n",
    "# #     f=-1.291E-08\n",
    "# #     bottom = a + b*x + c*x**2 + d*x**3 + e*x**4 + f*x**5\n",
    "# #     top = b + c*2*x + d*3*x**2 + e*4*x**3 + f*5*x**4\n",
    "# #     return -(500*top)/(bottom**2)\n",
    "\n",
    "# d_w_wilks = d_woman_wilks(x)\n",
    "# d_m_wilks = d_man_wilks(x)\n",
    "\n",
    "# fig = plt.figure(figsize=(8,5))\n",
    "# ax = fig.gca()\n",
    "\n",
    "# ax.plot(x, d_w_wilks, label='(d) womens wilks coef')\n",
    "# ax.plot(x, d_m_wilks, label= '(d) mens wilks coef')\n",
    "# ax.set_xlabel('weight', fontsize=16)\n",
    "# ax.set_ylabel('wilks multiplier', fontsize=16)\n",
    "# ax.set_title('(d) Mens/Womens Wilks Coefficients', fontsize=20)\n",
    "\n",
    "\n",
    "# plt.legend(loc='best')\n",
    "\n",
    "# plt.show()"
   ]
  },
  {
   "cell_type": "code",
   "execution_count": 110,
   "metadata": {
    "collapsed": true
   },
   "outputs": [],
   "source": [
    "# # w_wilks_score = women_wilks(x) * 500\n",
    "# # m_wilks_score = men_wilks(x) * 500\n",
    "\n",
    "# d_w_wilks_score = d_woman_wilks(x) * 500\n",
    "# d_m_wilks_score = d_man_wilks(x) * 500\n",
    "\n",
    "# fig = plt.figure(figsize=(8,5))\n",
    "# ax = fig.gca()\n",
    "\n",
    "# ax.plot(x, w_wilks_score, label='womens wilks score (500)')\n",
    "# ax.plot(x, m_wilks_score, label= 'mens wilks score (500)')\n",
    "# ax.set_xlabel('weight', fontsize=16)\n",
    "# ax.set_ylabel('wilks score', fontsize=16)\n",
    "# ax.set_title('Mens/Womens Wilks Scores (500 total)', fontsize=20)\n",
    "\n",
    "\n",
    "# plt.legend(loc='best')\n",
    "\n",
    "# plt.show()"
   ]
  },
  {
   "cell_type": "code",
   "execution_count": 111,
   "metadata": {
    "collapsed": true
   },
   "outputs": [],
   "source": [
    "# fig = plt.figure(figsize=(8,5))\n",
    "# ax = fig.gca()\n",
    "\n",
    "# ax.plot(x, d_w_wilks_score, label='(d) womens wilks coef')\n",
    "# ax.plot(x, d_m_wilks_score, label= '(d) mens wilks coef')\n",
    "# ax.set_xlabel('weight', fontsize=16)\n",
    "# ax.set_ylabel('wilks multiplier', fontsize=16)\n",
    "# ax.set_title('(d) Mens/Womens Wilks score', fontsize=20)\n",
    "\n",
    "\n",
    "# plt.legend(loc='best')\n",
    "\n",
    "# plt.show()"
   ]
  },
  {
   "cell_type": "code",
   "execution_count": null,
   "metadata": {
    "collapsed": true
   },
   "outputs": [],
   "source": []
  }
 ],
 "metadata": {
  "kernelspec": {
   "display_name": "Python 2",
   "language": "python",
   "name": "python2"
  },
  "language_info": {
   "codemirror_mode": {
    "name": "ipython",
    "version": 2
   },
   "file_extension": ".py",
   "mimetype": "text/x-python",
   "name": "python",
   "nbconvert_exporter": "python",
   "pygments_lexer": "ipython2",
   "version": "2.7.13"
  }
 },
 "nbformat": 4,
 "nbformat_minor": 2
}
