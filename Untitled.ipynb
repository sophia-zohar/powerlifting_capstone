{
 "cells": [
  {
   "cell_type": "code",
   "execution_count": 11,
   "metadata": {
    "collapsed": true
   },
   "outputs": [],
   "source": [
    "import requests\n",
    "from scrapy.selector import Selector\n",
    "from scrapy.http import HtmlResponse\n",
    "import pandas as pd\n",
    "from bs4 import BeautifulSoup"
   ]
  },
  {
   "cell_type": "code",
   "execution_count": 4,
   "metadata": {
    "collapsed": true
   },
   "outputs": [],
   "source": [
    "response = requests.get(\"http://usapl.liftingdatabase.com/competitions-view?id=1649\")\n",
    "\n",
    "html = response.text"
   ]
  },
  {
   "cell_type": "code",
   "execution_count": 61,
   "metadata": {
    "collapsed": true
   },
   "outputs": [],
   "source": [
    "\n",
    "events = [\"Female - Junior\", \"Female - Master 1\", \"Female - Master 2\", \"Female - Master 3\", \"Female - Master 4\",\n",
    "         \"Female - Open\", \"Female - Teen 1\", \"Female - Teen 2\", \"Female - Teen 3\", \"Male - Junior\", \"Male - Master 1\",\n",
    "         \"Male - Master 2\", \"Male - Master 3\", \"Male - Master 4\", \"Male - Master 5\", \"Male - Open\", \"Male - Teen 1\",\n",
    "         \"Male - Teen 2\", \"Male - Teen 3\"] # update this as appropriate\n",
    "current_event = False"
   ]
  },
  {
   "cell_type": "code",
   "execution_count": 100,
   "metadata": {},
   "outputs": [],
   "source": [
    "result_records = []\n",
    "\n",
    "\n",
    "i = 0\n",
    "for table_row in Selector(text=html).xpath(\"//table[@id='competition_view_results']/tbody/tr\"):\n",
    "    i += 1\n",
    "    last_competition_type = table_row.xpath(\".//th/text()\").extract_first(default=\"None\").strip()\n",
    "\n",
    "    if last_competition_type.strip() in events: \n",
    "        current_event = last_competition_type\n",
    "    \n",
    "    row_data = table_row.xpath(\"./td\")\n",
    "#     row_data = [BeautifulSoup(row.extract()).text for row in row_data]\n",
    "    \n",
    "    if len(row_data) > 0:\n",
    "        name = row_data[2].xpath(\"./a/text()\").extract_first()\n",
    "        row = row_data.xpath(\"./text()\").extract()\n",
    "        result_records.append([current_event]+[name]+row)\n",
    "\n",
    "\n",
    "# Then from here you could probably figure out which columns match to which offsets\n",
    "df = pd.DataFrame(result_records, dtype='string')\n",
    "df = df.applymap(lambda value: value.strip() if type(value) == unicode else value)\n"
   ]
  },
  {
   "cell_type": "code",
   "execution_count": 101,
   "metadata": {},
   "outputs": [
    {
     "data": {
      "text/plain": [
       "(279, 259)"
      ]
     },
     "execution_count": 101,
     "metadata": {},
     "output_type": "execute_result"
    }
   ],
   "source": [
    "i, len(result_records)"
   ]
  },
  {
   "cell_type": "code",
   "execution_count": 105,
   "metadata": {
    "scrolled": false
   },
   "outputs": [
    {
     "data": {
      "text/plain": [
       "(259, 19)"
      ]
     },
     "execution_count": 105,
     "metadata": {},
     "output_type": "execute_result"
    }
   ],
   "source": [
    "df.shape\n"
   ]
  }
 ],
 "metadata": {
  "kernelspec": {
   "display_name": "Python 2",
   "language": "python",
   "name": "python2"
  },
  "language_info": {
   "codemirror_mode": {
    "name": "ipython",
    "version": 2
   },
   "file_extension": ".py",
   "mimetype": "text/x-python",
   "name": "python",
   "nbconvert_exporter": "python",
   "pygments_lexer": "ipython2",
   "version": "2.7.13"
  }
 },
 "nbformat": 4,
 "nbformat_minor": 2
}
