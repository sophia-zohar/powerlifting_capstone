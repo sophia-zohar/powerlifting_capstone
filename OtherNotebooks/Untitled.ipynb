{
 "cells": [
  {
   "cell_type": "code",
   "execution_count": 1,
   "metadata": {
    "collapsed": true
   },
   "outputs": [],
   "source": [
    "import requests\n",
    "from scrapy.selector import Selector\n",
    "from scrapy.http import HtmlResponse\n",
    "import pandas as pd"
   ]
  },
  {
   "cell_type": "code",
   "execution_count": 2,
   "metadata": {
    "collapsed": true
   },
   "outputs": [],
   "source": [
    "response = requests.get(\"http://usapl.liftingdatabase.com/competitions-view?id=1649\")\n",
    "\n",
    "html = response.text"
   ]
  },
  {
   "cell_type": "code",
   "execution_count": 3,
   "metadata": {
    "collapsed": true
   },
   "outputs": [],
   "source": [
    "\n",
    "events = [\"Female - Junior\", \"Female - Master 1\", \"Female - Master 2\", \"Female - Master 3\", \"Female - Master 4\",\n",
    "         \"Female - Open\", \"Female - Teen 1\", \"Female - Teen 2\", \"Female - Teen 3\", \"Male - Junior\", \"Male - Master 1\",\n",
    "         \"Male - Master 2\", \"Male - Master 3\", \"Male - Master 4\", \"Male - Master 5\", \"Male - Open\", \"Male - Teen 1\",\n",
    "         \"Male - Teen 2\", \"Male - Teen 3\"] # update this as appropriate\n",
    "current_event = False"
   ]
  },
  {
   "cell_type": "code",
   "execution_count": 4,
   "metadata": {
    "collapsed": true
   },
   "outputs": [],
   "source": [
    "result_records = []\n",
    "\n",
    "\n",
    "i = 0\n",
    "for table_row in Selector(text=html).xpath(\"//table[@id='competition_view_results']/tbody/tr\"):\n",
    "    i += 1\n",
    "    last_competition_type = table_row.xpath(\".//th/text()\").extract_first(default=\"None\").strip()\n",
    "\n",
    "    if last_competition_type.strip() in events: \n",
    "        current_event = last_competition_type\n",
    "    \n",
    "    row_data = table_row.xpath(\"./td\")\n",
    "    (\"./td[@class='competition_view_club']/text()\")\n",
    "#     row_data = [BeautifulSoup(row.extract()).text for row in row_data]\n",
    "    \n",
    "    if len(row_data) > 0:\n",
    "        name = row_data[2].xpath(\"./a/text()\").extract_first()\n",
    "        row = row_data.xpath(\"./text()\").extract()\n",
    "        result_records.append([current_event]+[name]+row)\n",
    "\n",
    "\n",
    "# Then from here you could probably figure out which columns match to which offsets\n",
    "df = pd.DataFrame(result_records, dtype='string')\n",
    "df = df.applymap(lambda value: value.strip() if type(value) == unicode else value)\n"
   ]
  },
  {
   "cell_type": "code",
   "execution_count": 5,
   "metadata": {},
   "outputs": [
    {
     "data": {
      "text/plain": [
       "(281, 259)"
      ]
     },
     "execution_count": 5,
     "metadata": {},
     "output_type": "execute_result"
    }
   ],
   "source": [
    "i, len(result_records)"
   ]
  },
  {
   "cell_type": "code",
   "execution_count": 6,
   "metadata": {
    "scrolled": false
   },
   "outputs": [
    {
     "data": {
      "text/plain": [
       "(259, 19)"
      ]
     },
     "execution_count": 6,
     "metadata": {},
     "output_type": "execute_result"
    }
   ],
   "source": [
    "df.shape\n"
   ]
  },
  {
   "cell_type": "code",
   "execution_count": 8,
   "metadata": {},
   "outputs": [
    {
     "data": {
      "text/html": [
       "<div>\n",
       "<table border=\"1\" class=\"dataframe\">\n",
       "  <thead>\n",
       "    <tr style=\"text-align: right;\">\n",
       "      <th></th>\n",
       "      <th>0</th>\n",
       "      <th>1</th>\n",
       "      <th>2</th>\n",
       "      <th>3</th>\n",
       "      <th>4</th>\n",
       "      <th>5</th>\n",
       "      <th>6</th>\n",
       "      <th>7</th>\n",
       "      <th>8</th>\n",
       "      <th>9</th>\n",
       "      <th>10</th>\n",
       "      <th>11</th>\n",
       "      <th>12</th>\n",
       "      <th>13</th>\n",
       "      <th>14</th>\n",
       "      <th>15</th>\n",
       "      <th>16</th>\n",
       "      <th>17</th>\n",
       "      <th>18</th>\n",
       "    </tr>\n",
       "  </thead>\n",
       "  <tbody>\n",
       "    <tr>\n",
       "      <th>0</th>\n",
       "      <td>Male - Open</td>\n",
       "      <td>Cooper Wage</td>\n",
       "      <td>120+</td>\n",
       "      <td>-</td>\n",
       "      <td>1987</td>\n",
       "      <td>WI</td>\n",
       "      <td>161.98</td>\n",
       "      <td>-435</td>\n",
       "      <td>-435</td>\n",
       "      <td>-450</td>\n",
       "      <td>-340</td>\n",
       "      <td>-340</td>\n",
       "      <td>-350</td>\n",
       "      <td>-280</td>\n",
       "      <td></td>\n",
       "      <td></td>\n",
       "      <td>0</td>\n",
       "      <td>0.00</td>\n",
       "      <td>X</td>\n",
       "    </tr>\n",
       "    <tr>\n",
       "      <th>1</th>\n",
       "      <td>Female - Junior</td>\n",
       "      <td>Allegra Hudson</td>\n",
       "      <td>-52</td>\n",
       "      <td>1.</td>\n",
       "      <td>1994</td>\n",
       "      <td>TX</td>\n",
       "      <td>47.03</td>\n",
       "      <td>147.5</td>\n",
       "      <td>155</td>\n",
       "      <td>-160</td>\n",
       "      <td>75</td>\n",
       "      <td>80</td>\n",
       "      <td>85</td>\n",
       "      <td>150</td>\n",
       "      <td>160</td>\n",
       "      <td>-167.5</td>\n",
       "      <td>400</td>\n",
       "      <td>537.72</td>\n",
       "      <td>None</td>\n",
       "    </tr>\n",
       "    <tr>\n",
       "      <th>2</th>\n",
       "      <td>Female - Junior</td>\n",
       "      <td>Andie Hernandez</td>\n",
       "      <td>-52</td>\n",
       "      <td>2.</td>\n",
       "      <td>1997</td>\n",
       "      <td>TX</td>\n",
       "      <td>51.61</td>\n",
       "      <td>145</td>\n",
       "      <td>152.5</td>\n",
       "      <td>-160</td>\n",
       "      <td>-90</td>\n",
       "      <td>90</td>\n",
       "      <td>95</td>\n",
       "      <td>140</td>\n",
       "      <td>152.5</td>\n",
       "      <td>-157.5</td>\n",
       "      <td>400</td>\n",
       "      <td>501.56</td>\n",
       "      <td>X</td>\n",
       "    </tr>\n",
       "    <tr>\n",
       "      <th>3</th>\n",
       "      <td>Female - Junior</td>\n",
       "      <td>Kimberly Johnson</td>\n",
       "      <td>-57</td>\n",
       "      <td>1.</td>\n",
       "      <td>1994</td>\n",
       "      <td>WI</td>\n",
       "      <td>56.03</td>\n",
       "      <td>172.5</td>\n",
       "      <td>182.5</td>\n",
       "      <td>190</td>\n",
       "      <td>115</td>\n",
       "      <td>122.5</td>\n",
       "      <td>130</td>\n",
       "      <td>167.5</td>\n",
       "      <td>180</td>\n",
       "      <td>-190</td>\n",
       "      <td>500</td>\n",
       "      <td>588.05</td>\n",
       "      <td>X</td>\n",
       "    </tr>\n",
       "    <tr>\n",
       "      <th>4</th>\n",
       "      <td>Female - Junior</td>\n",
       "      <td>Marisa Lara</td>\n",
       "      <td>-63</td>\n",
       "      <td>1.</td>\n",
       "      <td>1994</td>\n",
       "      <td>VA</td>\n",
       "      <td>62.74</td>\n",
       "      <td>170</td>\n",
       "      <td>180</td>\n",
       "      <td>-185</td>\n",
       "      <td>110</td>\n",
       "      <td>115</td>\n",
       "      <td>-120.5</td>\n",
       "      <td>167.5</td>\n",
       "      <td>177.5</td>\n",
       "      <td>-185</td>\n",
       "      <td>472.5</td>\n",
       "      <td>509.02</td>\n",
       "      <td>None</td>\n",
       "    </tr>\n",
       "  </tbody>\n",
       "</table>\n",
       "</div>"
      ],
      "text/plain": [
       "                0                 1     2   3     4   5       6      7   \\\n",
       "0      Male - Open       Cooper Wage  120+   -  1987  WI  161.98   -435   \n",
       "1  Female - Junior    Allegra Hudson   -52  1.  1994  TX   47.03  147.5   \n",
       "2  Female - Junior   Andie Hernandez   -52  2.  1997  TX   51.61    145   \n",
       "3  Female - Junior  Kimberly Johnson   -57  1.  1994  WI   56.03  172.5   \n",
       "4  Female - Junior       Marisa Lara   -63  1.  1994  VA   62.74    170   \n",
       "\n",
       "      8     9     10     11      12     13     14      15     16      17    18  \n",
       "0   -435  -450  -340   -340    -350   -280                     0    0.00     X  \n",
       "1    155  -160    75     80      85    150    160  -167.5    400  537.72  None  \n",
       "2  152.5  -160   -90     90      95    140  152.5  -157.5    400  501.56     X  \n",
       "3  182.5   190   115  122.5     130  167.5    180    -190    500  588.05     X  \n",
       "4    180  -185   110    115  -120.5  167.5  177.5    -185  472.5  509.02  None  "
      ]
     },
     "execution_count": 8,
     "metadata": {},
     "output_type": "execute_result"
    }
   ],
   "source": [
    "df.head()"
   ]
  },
  {
   "cell_type": "code",
   "execution_count": null,
   "metadata": {
    "collapsed": true
   },
   "outputs": [],
   "source": [
    "//table[@id='competition_view_results']/tbody/tr/"
   ]
  }
 ],
 "metadata": {
  "kernelspec": {
   "display_name": "Python 2",
   "language": "python",
   "name": "python2"
  },
  "language_info": {
   "codemirror_mode": {
    "name": "ipython",
    "version": 2
   },
   "file_extension": ".py",
   "mimetype": "text/x-python",
   "name": "python",
   "nbconvert_exporter": "python",
   "pygments_lexer": "ipython2",
   "version": "2.7.13"
  }
 },
 "nbformat": 4,
 "nbformat_minor": 2
}
