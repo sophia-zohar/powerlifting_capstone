{
 "cells": [
  {
   "cell_type": "code",
   "execution_count": 12,
   "metadata": {
    "collapsed": true
   },
   "outputs": [],
   "source": [
    "import pandas as pd\n",
    "import numpy as np\n",
    "import seaborn as sns\n",
    "import matplotlib.pyplot as plt\n",
    "%matplotlib inline"
   ]
  },
  {
   "cell_type": "code",
   "execution_count": 13,
   "metadata": {},
   "outputs": [
    {
     "name": "stderr",
     "output_type": "stream",
     "text": [
      "/opt/conda/lib/python3.5/site-packages/IPython/core/interactiveshell.py:2698: DtypeWarning: Columns (11,27) have mixed types. Specify dtype option on import or set low_memory=False.\n",
      "  interactivity=interactivity, compiler=compiler, result=result)\n"
     ]
    }
   ],
   "source": [
    "df = pd.read_csv('./usapl_ipf.csv')"
   ]
  },
  {
   "cell_type": "code",
   "execution_count": 14,
   "metadata": {},
   "outputs": [
    {
     "name": "stdout",
     "output_type": "stream",
     "text": [
      "<class 'pandas.core.frame.DataFrame'>\n",
      "RangeIndex: 75710 entries, 0 to 75709\n",
      "Data columns (total 39 columns):\n",
      "Unnamed: 0        75710 non-null int64\n",
      "Age               3762 non-null float64\n",
      "Bench1Kg          55176 non-null float64\n",
      "Bench2Kg          54805 non-null float64\n",
      "Bench3Kg          53974 non-null float64\n",
      "Bench4Kg          12 non-null float64\n",
      "BestBenchKg       71828 non-null float64\n",
      "BestDeadliftKg    67206 non-null float64\n",
      "BestSquatKg       64105 non-null float64\n",
      "BirthYear         24457 non-null float64\n",
      "BodyweightKg      69758 non-null float64\n",
      "Country           8211 non-null object\n",
      "Date              75710 non-null object\n",
      "Deadlift1Kg       51182 non-null float64\n",
      "Deadlift2Kg       50522 non-null float64\n",
      "Deadlift3Kg       49462 non-null float64\n",
      "Deadlift4Kg       2 non-null float64\n",
      "Division          70818 non-null object\n",
      "Equipment         75710 non-null object\n",
      "Event             75580 non-null object\n",
      "Federation        75710 non-null object\n",
      "MeetCountry       75710 non-null object\n",
      "MeetName          75710 non-null object\n",
      "MeetState         65358 non-null object\n",
      "MeetTown          22484 non-null object\n",
      "Name              75710 non-null object\n",
      "Place             75219 non-null object\n",
      "School            859 non-null object\n",
      "Sex               75710 non-null object\n",
      "Squat1Kg          49597 non-null float64\n",
      "Squat2Kg          49224 non-null float64\n",
      "Squat3Kg          48407 non-null float64\n",
      "Squat4Kg          3 non-null float64\n",
      "State             37374 non-null object\n",
      "Team              8425 non-null object\n",
      "TotalKg           72120 non-null float64\n",
      "WeightClassKg     75059 non-null object\n",
      "Wilks             519 non-null float64\n",
      "index             75710 non-null int64\n",
      "dtypes: float64(20), int64(2), object(17)\n",
      "memory usage: 22.5+ MB\n"
     ]
    }
   ],
   "source": [
    "df.info()"
   ]
  },
  {
   "cell_type": "code",
   "execution_count": 15,
   "metadata": {},
   "outputs": [
    {
     "data": {
      "text/plain": [
       "SBD    3096\n",
       "B       421\n",
       "BD       45\n",
       "D        21\n",
       "S         2\n",
       "Name: Event, dtype: int64"
      ]
     },
     "execution_count": 15,
     "metadata": {},
     "output_type": "execute_result"
    }
   ],
   "source": [
    "df[df['TotalKg'].isnull()]['Event'].value_counts()"
   ]
  },
  {
   "cell_type": "code",
   "execution_count": 16,
   "metadata": {},
   "outputs": [
    {
     "name": "stdout",
     "output_type": "stream",
     "text": [
      "<class 'pandas.core.frame.DataFrame'>\n",
      "Int64Index: 66075 entries, 15 to 75709\n",
      "Data columns (total 39 columns):\n",
      "Unnamed: 0        66075 non-null int64\n",
      "Age               2667 non-null float64\n",
      "Bench1Kg          49423 non-null float64\n",
      "Bench2Kg          49071 non-null float64\n",
      "Bench3Kg          48310 non-null float64\n",
      "Bench4Kg          3 non-null float64\n",
      "BestBenchKg       63910 non-null float64\n",
      "BestDeadliftKg    64105 non-null float64\n",
      "BestSquatKg       63987 non-null float64\n",
      "BirthYear         22568 non-null float64\n",
      "BodyweightKg      61776 non-null float64\n",
      "Country           7924 non-null object\n",
      "Date              66075 non-null object\n",
      "Deadlift1Kg       49071 non-null float64\n",
      "Deadlift2Kg       48438 non-null float64\n",
      "Deadlift3Kg       47437 non-null float64\n",
      "Deadlift4Kg       2 non-null float64\n",
      "Division          61196 non-null object\n",
      "Equipment         66075 non-null object\n",
      "Event             66075 non-null object\n",
      "Federation        66075 non-null object\n",
      "MeetCountry       66075 non-null object\n",
      "MeetName          66075 non-null object\n",
      "MeetState         56393 non-null object\n",
      "MeetTown          19171 non-null object\n",
      "Name              66075 non-null object\n",
      "Place             65644 non-null object\n",
      "School            859 non-null object\n",
      "Sex               66075 non-null object\n",
      "Squat1Kg          49506 non-null float64\n",
      "Squat2Kg          49134 non-null float64\n",
      "Squat3Kg          48316 non-null float64\n",
      "Squat4Kg          3 non-null float64\n",
      "State             33805 non-null object\n",
      "Team              7886 non-null object\n",
      "TotalKg           62979 non-null float64\n",
      "WeightClassKg     65570 non-null object\n",
      "Wilks             324 non-null float64\n",
      "index             66075 non-null int64\n",
      "dtypes: float64(20), int64(2), object(17)\n",
      "memory usage: 20.2+ MB\n"
     ]
    }
   ],
   "source": [
    "df[df['Event']=='SBD'].info()"
   ]
  },
  {
   "cell_type": "code",
   "execution_count": 17,
   "metadata": {
    "collapsed": true
   },
   "outputs": [],
   "source": [
    "df.drop(['index', 'Unnamed: 0'], axis = 1, inplace=True)"
   ]
  },
  {
   "cell_type": "code",
   "execution_count": 18,
   "metadata": {
    "collapsed": true
   },
   "outputs": [],
   "source": [
    "mask = (df['BirthYear'].isnull()==True) & (df['Age'].isnull()==True) & df['Division'].isnull()"
   ]
  },
  {
   "cell_type": "code",
   "execution_count": 19,
   "metadata": {
    "scrolled": true
   },
   "outputs": [
    {
     "data": {
      "text/plain": [
       "IPF World Men's Powerlifting Championship                         1315\n",
       "2000 Collegiate National Powerlifting Championships                188\n",
       "2001 Collegiate National Powerlifting Championships                169\n",
       "2002 Collegiate National Powerlifting Championships                161\n",
       "IPF World Men's Powerlifting Championships                         128\n",
       "1997 USAPL/ADFPA Men's National Powerlifting Championships         102\n",
       "2002 USAPL Men's National Powerlifting Championships                98\n",
       "2000 USAPL Men's National Powerlifting Championships                91\n",
       "1999 USAPL Men's National Powerlifting Championships                90\n",
       "2005 Men's Open Nationals                                           76\n",
       "2001 USAPL Men's National Powerlifting Championships                69\n",
       "1994 IPF Senior World Championships                                 32\n",
       "California State Collegiate Push/Pull                               12\n",
       "2000 High School National Powerlifting Championships                11\n",
       "1998 Police & Firefighters National Powerlifting Championships       3\n",
       "1999 USAPL National Collegiate Powerlifting Championship             2\n",
       "Police and Fire Nationals                                            1\n",
       "AZ Fall Championships                                                1\n",
       "2001 High School National Powerlifting Championships                 1\n",
       "Name: MeetName, dtype: int64"
      ]
     },
     "execution_count": 19,
     "metadata": {},
     "output_type": "execute_result"
    }
   ],
   "source": [
    "df[mask]['MeetName'].value_counts()"
   ]
  },
  {
   "cell_type": "code",
   "execution_count": 20,
   "metadata": {},
   "outputs": [
    {
     "data": {
      "text/plain": [
       "(2550, 37)"
      ]
     },
     "execution_count": 20,
     "metadata": {},
     "output_type": "execute_result"
    }
   ],
   "source": [
    "df[mask].shape"
   ]
  },
  {
   "cell_type": "code",
   "execution_count": 21,
   "metadata": {},
   "outputs": [
    {
     "data": {
      "text/plain": [
       "SBD    66075\n",
       "B       6433\n",
       "BD      1804\n",
       "D       1225\n",
       "S         34\n",
       "SB         9\n",
       "Name: Event, dtype: int64"
      ]
     },
     "execution_count": 21,
     "metadata": {},
     "output_type": "execute_result"
    }
   ],
   "source": [
    "df['Event'].value_counts()"
   ]
  },
  {
   "cell_type": "code",
   "execution_count": 22,
   "metadata": {
    "collapsed": true
   },
   "outputs": [],
   "source": [
    "mask2 = (df['BestBenchKg'].isnull()) & ((df['Bench1Kg'].isnull() == False) | \\\n",
    "                                        (df['Bench2Kg'].isnull() == False) | (df['Bench3Kg'].isnull() == False ))"
   ]
  },
  {
   "cell_type": "code",
   "execution_count": 59,
   "metadata": {},
   "outputs": [
    {
     "data": {
      "text/plain": [
       "(1469, 37)"
      ]
     },
     "execution_count": 59,
     "metadata": {},
     "output_type": "execute_result"
    }
   ],
   "source": [
    "df[mask2].shape"
   ]
  },
  {
   "cell_type": "code",
   "execution_count": 53,
   "metadata": {
    "collapsed": true
   },
   "outputs": [],
   "source": [
    "check_squat_mask = (df['BestSquatKg'].isnull()) & ((df['Squat1Kg'].isnull() == False) | \\\n",
    "                                        (df['Squat2Kg'].isnull() == False) | (df['Squat3Kg'].isnull() == False ))"
   ]
  },
  {
   "cell_type": "code",
   "execution_count": 57,
   "metadata": {},
   "outputs": [
    {
     "data": {
      "text/plain": [
       "(1157, 37)"
      ]
     },
     "execution_count": 57,
     "metadata": {},
     "output_type": "execute_result"
    }
   ],
   "source": [
    "df[check_squat_mask]"
   ]
  },
  {
   "cell_type": "code",
   "execution_count": 60,
   "metadata": {
    "collapsed": true
   },
   "outputs": [],
   "source": [
    "check_dl_mask = (df['BestDeadliftKg'].isnull()) & ((df['Deadlift1Kg'].isnull() == False) | \\\n",
    "                                        (df['Deadlift2Kg'].isnull() == False) | (df['Deadlift3Kg'].isnull() == False ))"
   ]
  },
  {
   "cell_type": "code",
   "execution_count": 419,
   "metadata": {},
   "outputs": [
    {
     "name": "stderr",
     "output_type": "stream",
     "text": [
      "/opt/conda/lib/python3.5/site-packages/ipykernel_launcher.py:1: UserWarning: Boolean Series key will be reindexed to match DataFrame index.\n",
      "  \"\"\"Entry point for launching an IPython kernel.\n"
     ]
    },
    {
     "data": {
      "text/plain": [
       "(601, 39)"
      ]
     },
     "execution_count": 419,
     "metadata": {},
     "output_type": "execute_result"
    }
   ],
   "source": [
    "df[check_dl_mask].shape"
   ]
  },
  {
   "cell_type": "code",
   "execution_count": 62,
   "metadata": {},
   "outputs": [
    {
     "data": {
      "text/plain": [
       "3227"
      ]
     },
     "execution_count": 62,
     "metadata": {},
     "output_type": "execute_result"
    }
   ],
   "source": [
    "df[mask2].shape[0]+df[check_squat_mask].shape[0]+df[check_dl_mask].shape[0]"
   ]
  },
  {
   "cell_type": "code",
   "execution_count": 105,
   "metadata": {},
   "outputs": [
    {
     "data": {
      "text/plain": [
       "array(['R-T3', 'R-Y', 'R-O', 'R-Y1', 'R-M1a', 'R-M1b', 'M2b', 'R-M2a', 'O',\n",
       "       'R-T1', 'R-T2', 'JR', 'R-JR', 'M3b', 'M4a', 'R-M2b', 'R-M3a',\n",
       "       'R-M3b', 'R-M4a', 'R-M4b', 'R-M5a', 'M2a', 'BP', 'HS', 'R-HS', 'T1',\n",
       "       'R-M5b', 'R-V', 'M', 'R-M', 'T2', 'T3', 'T', 'R-T', 'R-Y2', 'R-Y3',\n",
       "       'R-M1', 'R-SJr', 'R-M3', 'M3a', 'M1b', 'M1a', 'R-M2', 'R-M6',\n",
       "       'R-SO', 'R-M4', 'R-M5', 'M4', 'M2', 'M3', 'R-M7', 'R-C', 'R-BP',\n",
       "       'R-SO-BP', 'R-O-HW', 'R-O-LW', 'R-O-MW', 'R-TJR', 'Y1', 'Y3', 'C',\n",
       "       'R-FR/SO', 'R-FR/So', 'R-JR/SR', 'R-GL', 'Youth', 'Junior',\n",
       "       'Masters 40-44', 'Masters 45-49', 'Open', 'Teen 16-17',\n",
       "       'Masters 65-69', 'Masters 50-54', 'Teen 14-15', 'Teen 18-19',\n",
       "       'Collegiate', 'Masters 55-59', 'Guest', 'Military', 'Masters 60-64',\n",
       "       'Masters 70-74', 'Special Olympics', 'Masters 75-79', 'Police/Fire',\n",
       "       'R-N', 'Y2', 'M4b', 'G', 'R-G', 'OG', 'M1', 'MR-J', 'MR-O', 'R-TJ',\n",
       "       'R-PF', 'R-MLO', 'R-M-BO', 'R-F-BO', 'M-O', 'R-M-T', 'R-M-Y',\n",
       "       'R-MR-JR', 'R-MR-MI', 'R-MR-O', 'R-MR-T', 'F-O', 'FR-T', 'R-F-Y',\n",
       "       'R-FR-O', 'R-FR-T', 'SJr', 'R-o', 'Y', 'SO', 'HW', 'LW', 'FR-O',\n",
       "       'FR-JR', 'FR-M1a', 'FR-M2a', 'GST', 'MR-Y3', 'MR-T1', 'MR-T2',\n",
       "       'M-T1', 'MR-JR', 'MR-T3', 'M-M2b', 'M-M2a', 'M-M1a', 'MR-M1a',\n",
       "       'MR-M1b', 'MR-M4a', 'MR-M3a', 'MR-M2a', 'MR-M2b', 'M-M4a', 'R-OM1b',\n",
       "       'R-MR-M1', 'R-MR-M2', 'R-MR-Y1', 'R-FR-JR', 'R-FR-M1', 'R-FR-M2',\n",
       "       'R-FR-M3', 'R-FR-T1', 'R-FR-T3', 'GL', 'R-MPF', 'FR-M3a', 'MR-M3b',\n",
       "       'M-M3a', 'M5a', 'R-MO', 'R-HW', 'R-LW', 'R-SJR', 'R-HS1', 'R-HS2',\n",
       "       'R-OHW', 'R-OLW', 'R-OMW', 'M1MR-O', 'X', 'R-MC', 'P', 'R-MM',\n",
       "       'R-PFO', 'T2`', 'F-J4R', 'F-M1R', 'F-M1SP', 'F-OR', 'M-J3R',\n",
       "       'M-J4R', 'M-M1R', 'M-M2R', 'M-OR', 'S', nan, 'R-OBPPP', 'R-MHW',\n",
       "       'R-MLW', 'R-THW', 'R-OPP', 'HSJV', 'R-ML', 'Female', 'Male',\n",
       "       'R-JHW', 'R-JLW', 'R-JMW', 'R-MMW', 'Heavyweight', 'Lightweight',\n",
       "       'R-T&J;', 'E-O', 'R-M5-G', 'M1BP', 'M1DL', 'EJ', 'RO', 'RT', 'PP',\n",
       "       'R-S1', 'R-S2', 'R-S3', 'R-M-MR1a', 'R-MR-M3a', 'R-MR-Y2',\n",
       "       'R-FR-M2a', 'R-FR-M2b', 'R-FR-T2', 'FR/JR', 'MR/T3', 'Mil', 'R-M2+',\n",
       "       'F-JR', 'FR-J', 'FR-OSE', 'FR-M1B', 'M-J', 'M-M1B', 'M-M2B',\n",
       "       'M-M3A', 'MR-COL', 'MR-M1B', 'MR-M1A', 'M5', 'M6', 'M-C', 'R-MJR',\n",
       "       'R-MR', 'R-FC', 'R-FM3a', 'R-FO', 'R-FT3', 'R-MT3', 'R-OG', 'R-Var',\n",
       "       'Var', 'R-SOH', 'R-SOL', 'R-SOM', 'R-M1a-B', 'R-O-B', 'R-M2b-B',\n",
       "       'R-M3b-B', 'R-Mil-B', 'R-O-PP', 'R-Jr-PP', 'R-M-M4', 'R-M-O',\n",
       "       'R-M-Jr', 'R-M-M1', 'R-F-J', 'R-F-Jr', 'R-F-M2', 'R-F-M3', 'R-F-M4',\n",
       "       'R-F-O', 'R-F-T', 'R-ON', 'VAR', 'R-M1GL', 'R-T1GL', 'R', 'E',\n",
       "       'R-M1B', 'R-M2B', 'R-M-T2', 'R-MR-Y', 'R-FR-C', 'R-MJr', 'R-MM1a',\n",
       "       'R-MM1b', 'HSVarsity', 'R-HSJV', 'R-T-3', 'M-M5A', 'R-MR-M2B',\n",
       "       'R-MR-M3A', 'R-MR-M3B', 'F-0', 'R-FR-M2A', 'OP', 'JU', 'M-T2',\n",
       "       'M-M2A', 'M-T3', 'M-M1A', 'MR-M2A', 'MR-M3A', 'M-M4B', 'Sub-master',\n",
       "       'Master', 'Master (45-49)', 'Master (55-59)', 'Teen (14-15)',\n",
       "       'Teen (16-17)', 'Teen (18-19)', 'Teen 2', 'Teen 3', 'Masters 1',\n",
       "       'Masters 2', 'Masters 3', 'Masters 4', 'Lifetime', 'Teen 1',\n",
       "       'Masters 5', 'Masters 6', 'Masters 7', 'Masters 8', 'Fr/Soph',\n",
       "       'Varsity', 'M7', 'M8', 'M9', 'MIL', 'POL/FIR', 'M-RM', 'M-RO',\n",
       "       'M-M', 'SM', 'O-T1', 'O-T3', 'F-Gst', 'F-Jr', 'F-M2', 'M-M3',\n",
       "       'M-M2', 'M-M4', 'M-M1', 'M-Gst', '40-44', '45-49', '55-59', '65-69',\n",
       "       '70-74', '50-54', '60-64', 'JV', 'M-M6', 'M-M8', 'F-C', 'F-JV',\n",
       "       'F-V', 'F-T3', 'F-M1', 'F-M3', 'M-B', 'M-JR', 'M-JV', 'M-V', 'M-M5',\n",
       "       'M-G', 'M-Y', 'F-SO', 'M-SO', 'Master 1', 'Master 2', 'Master 3',\n",
       "       'Master 4', 'Master 5', 'Masters I', 'Masters II', 'Master 6',\n",
       "       'Master 7', 'Master 8', 'Master 9', 'Master Open', 'Police & Fire',\n",
       "       'M-3', 'M-5', 'Sub-Masters', 'Junior 20-23', 'M-6', 'M-8', 'M-1',\n",
       "       'M-2', 'M-4', '75-79', 'Masters (40-44)', 'Masters (45-49)',\n",
       "       'Juniors', 'Masters (55-59)', 'Masters (50-54)', 'Masters (75-79)',\n",
       "       'Masters (60-64)', 'Masters (65-69)', 'T-18/19', 'J-20/23', 'M-7',\n",
       "       'T-16/17', 'M 40-44', 'M 45-49', 'M 55-59', 'M 60-64', 'M 50-54',\n",
       "       'M 65-69', 'M 80-84', 'M 75-80', 'M 70-74', 'T 18-19', 'T 16-17',\n",
       "       'T 14-15', 'J', 'MAS', 'MAS 2', 'MAS 1', 'F-T1', 'F-T2', 'F-M1b',\n",
       "       'F-M3b', 'F-M1a', 'F-M2a', 'F-M2b', 'F-M3a', 'F-M3c', 'F-RM1',\n",
       "       'F-RM2', 'F-RT', 'F-RO', 'M-RM1', 'M-RM2', 'M-RM3', 'M-RT', 'M-T',\n",
       "       'M-MO', 'M-Jr', 'M-M7', 'Masters 80+', 'F-CL', 'M-CL', 'M-MIL',\n",
       "       'M-M4b', 'M-M1b', 'M-M3b', 'Teen 3 Women', 'Master 1 Women',\n",
       "       'Teen 2 Men', 'Teen 3 Men', 'Junior Men', 'Open Men',\n",
       "       'Master 2 Men', 'Masters 40-49', 'Masters 50+', 'M-RT3', 'M-RT2',\n",
       "       'M-RT1', 'Teen', 'Masters', 'RM3', 'RM2', 'RM1', 'RT2', 'RJR',\n",
       "       'RT3', 'RT1', '35-39', '40-45', 'Submaster', '55-59(M4)',\n",
       "       '14-15(T1)', '39-44(M1)', '45-49(M2)', '16-17(T2)', '18-19(T3)',\n",
       "       '20-23(Jr)', '39-44 M1)', '60-64(M5)', '18-17(T2)', '14-15',\n",
       "       '16-17', '18-19', '80-84', 'Police and Firemen', 'Police and Fire',\n",
       "       '50-59', '40-49', '50-50', 'M 60+', 'Jr/Sr', 'CL', 'ML', 'PF',\n",
       "       'F-RM', 'FR-M1', 'MR-M1', 'MR-M3', 'FR-T2', 'MR-M2', 'FR-M3',\n",
       "       'High School Varsity', 'Teen [16-17]', 'Police/Fire/Military',\n",
       "       'Junior [20-23]', 'Master II [40-49]', 'Master II [50-59]',\n",
       "       'Teen [14-15]', 'Guest Lifter', 'Master I [40-49]', 'Teen [18-19]',\n",
       "       'Master III [60-69]', 'Teen I [14-15]', 'Teen II [16-17]',\n",
       "       'Teen III [18-19]', 'High School JV', 'Master II [60-69]',\n",
       "       'International', 'Masters II [50-59]', '60-69', '70-90',\n",
       "       'Out of State', 'Masters (70-74)', 'Junior Varsity', 'F-RT2',\n",
       "       'M-RJR', 'M-OOS', 'F-RJR', 'M-RM4', 'F-M4a', 'M-3a',\n",
       "       'Masters 50-59', 'Masters 60+', 'Masters (40-49)', 'Teen (14-19)',\n",
       "       'Masters (60+)', 'Masters (50-59)', 'Subjuniors', 'Sub-Juniors',\n",
       "       'M-LW', 'M-HW', 'F-M', 'Light', 'Middle', 'Heavy', 'SuperHeavy',\n",
       "       '50+', 'Masters 50', 'F-LW', 'F-HW'], dtype=object)"
      ]
     },
     "execution_count": 105,
     "metadata": {},
     "output_type": "execute_result"
    }
   ],
   "source": [
    "df['Division'].unique()"
   ]
  },
  {
   "cell_type": "code",
   "execution_count": 412,
   "metadata": {},
   "outputs": [
    {
     "name": "stderr",
     "output_type": "stream",
     "text": [
      "/opt/conda/lib/python3.5/site-packages/ipykernel_launcher.py:1: SettingWithCopyWarning: \n",
      "A value is trying to be set on a copy of a slice from a DataFrame.\n",
      "Try using .loc[row_indexer,col_indexer] = value instead\n",
      "\n",
      "See the caveats in the documentation: http://pandas.pydata.org/pandas-docs/stable/indexing.html#indexing-view-versus-copy\n",
      "  \"\"\"Entry point for launching an IPython kernel.\n"
     ]
    }
   ],
   "source": [
    "df[df['Division']== '14-15(T1)']['Age'] = 14.5 "
   ]
  },
  {
   "cell_type": "code",
   "execution_count": 414,
   "metadata": {},
   "outputs": [
    {
     "data": {
      "text/plain": [
       "63742   NaN\n",
       "63749   NaN\n",
       "63786   NaN\n",
       "63823   NaN\n",
       "63824   NaN\n",
       "63847   NaN\n",
       "63848   NaN\n",
       "Name: Age, dtype: float64"
      ]
     },
     "execution_count": 414,
     "metadata": {},
     "output_type": "execute_result"
    }
   ],
   "source": []
  },
  {
   "cell_type": "code",
   "execution_count": 127,
   "metadata": {},
   "outputs": [
    {
     "data": {
      "text/html": [
       "<div>\n",
       "<table border=\"1\" class=\"dataframe\">\n",
       "  <thead>\n",
       "    <tr style=\"text-align: right;\">\n",
       "      <th></th>\n",
       "      <th>Age</th>\n",
       "      <th>Bench1Kg</th>\n",
       "      <th>Bench2Kg</th>\n",
       "      <th>Bench3Kg</th>\n",
       "      <th>Bench4Kg</th>\n",
       "      <th>BestBenchKg</th>\n",
       "      <th>BestDeadliftKg</th>\n",
       "      <th>BestSquatKg</th>\n",
       "      <th>BirthYear</th>\n",
       "      <th>BodyweightKg</th>\n",
       "      <th>...</th>\n",
       "      <th>Sex</th>\n",
       "      <th>Squat1Kg</th>\n",
       "      <th>Squat2Kg</th>\n",
       "      <th>Squat3Kg</th>\n",
       "      <th>Squat4Kg</th>\n",
       "      <th>State</th>\n",
       "      <th>Team</th>\n",
       "      <th>TotalKg</th>\n",
       "      <th>WeightClassKg</th>\n",
       "      <th>Wilks</th>\n",
       "    </tr>\n",
       "  </thead>\n",
       "  <tbody>\n",
       "    <tr>\n",
       "      <th>61962</th>\n",
       "      <td>15.0</td>\n",
       "      <td>-95.0</td>\n",
       "      <td>-107.5</td>\n",
       "      <td>-107.5</td>\n",
       "      <td>NaN</td>\n",
       "      <td>NaN</td>\n",
       "      <td>NaN</td>\n",
       "      <td>NaN</td>\n",
       "      <td>NaN</td>\n",
       "      <td>NaN</td>\n",
       "      <td>...</td>\n",
       "      <td>M</td>\n",
       "      <td>NaN</td>\n",
       "      <td>NaN</td>\n",
       "      <td>NaN</td>\n",
       "      <td>NaN</td>\n",
       "      <td>NaN</td>\n",
       "      <td>NaN</td>\n",
       "      <td>NaN</td>\n",
       "      <td>60</td>\n",
       "      <td>NaN</td>\n",
       "    </tr>\n",
       "    <tr>\n",
       "      <th>61963</th>\n",
       "      <td>15.0</td>\n",
       "      <td>-105.0</td>\n",
       "      <td>112.5</td>\n",
       "      <td>-122.5</td>\n",
       "      <td>NaN</td>\n",
       "      <td>112.5</td>\n",
       "      <td>NaN</td>\n",
       "      <td>NaN</td>\n",
       "      <td>NaN</td>\n",
       "      <td>NaN</td>\n",
       "      <td>...</td>\n",
       "      <td>M</td>\n",
       "      <td>NaN</td>\n",
       "      <td>NaN</td>\n",
       "      <td>NaN</td>\n",
       "      <td>NaN</td>\n",
       "      <td>NaN</td>\n",
       "      <td>NaN</td>\n",
       "      <td>112.5</td>\n",
       "      <td>67.5</td>\n",
       "      <td>NaN</td>\n",
       "    </tr>\n",
       "    <tr>\n",
       "      <th>61967</th>\n",
       "      <td>14.0</td>\n",
       "      <td>-95.0</td>\n",
       "      <td>-112.5</td>\n",
       "      <td>-112.5</td>\n",
       "      <td>NaN</td>\n",
       "      <td>NaN</td>\n",
       "      <td>NaN</td>\n",
       "      <td>NaN</td>\n",
       "      <td>NaN</td>\n",
       "      <td>NaN</td>\n",
       "      <td>...</td>\n",
       "      <td>M</td>\n",
       "      <td>NaN</td>\n",
       "      <td>NaN</td>\n",
       "      <td>NaN</td>\n",
       "      <td>NaN</td>\n",
       "      <td>NaN</td>\n",
       "      <td>NaN</td>\n",
       "      <td>NaN</td>\n",
       "      <td>75</td>\n",
       "      <td>NaN</td>\n",
       "    </tr>\n",
       "    <tr>\n",
       "      <th>61968</th>\n",
       "      <td>15.0</td>\n",
       "      <td>-62.5</td>\n",
       "      <td>62.5</td>\n",
       "      <td>65.0</td>\n",
       "      <td>NaN</td>\n",
       "      <td>65.0</td>\n",
       "      <td>NaN</td>\n",
       "      <td>NaN</td>\n",
       "      <td>NaN</td>\n",
       "      <td>NaN</td>\n",
       "      <td>...</td>\n",
       "      <td>M</td>\n",
       "      <td>NaN</td>\n",
       "      <td>NaN</td>\n",
       "      <td>NaN</td>\n",
       "      <td>NaN</td>\n",
       "      <td>NaN</td>\n",
       "      <td>NaN</td>\n",
       "      <td>65.0</td>\n",
       "      <td>75</td>\n",
       "      <td>NaN</td>\n",
       "    </tr>\n",
       "    <tr>\n",
       "      <th>61970</th>\n",
       "      <td>15.0</td>\n",
       "      <td>-140.0</td>\n",
       "      <td>150.0</td>\n",
       "      <td>-160.0</td>\n",
       "      <td>NaN</td>\n",
       "      <td>150.0</td>\n",
       "      <td>NaN</td>\n",
       "      <td>NaN</td>\n",
       "      <td>NaN</td>\n",
       "      <td>NaN</td>\n",
       "      <td>...</td>\n",
       "      <td>M</td>\n",
       "      <td>NaN</td>\n",
       "      <td>NaN</td>\n",
       "      <td>NaN</td>\n",
       "      <td>NaN</td>\n",
       "      <td>NaN</td>\n",
       "      <td>NaN</td>\n",
       "      <td>150.0</td>\n",
       "      <td>82.5</td>\n",
       "      <td>NaN</td>\n",
       "    </tr>\n",
       "    <tr>\n",
       "      <th>62037</th>\n",
       "      <td>15.0</td>\n",
       "      <td>-55.0</td>\n",
       "      <td>-60.0</td>\n",
       "      <td>-62.5</td>\n",
       "      <td>NaN</td>\n",
       "      <td>NaN</td>\n",
       "      <td>NaN</td>\n",
       "      <td>NaN</td>\n",
       "      <td>NaN</td>\n",
       "      <td>NaN</td>\n",
       "      <td>...</td>\n",
       "      <td>F</td>\n",
       "      <td>NaN</td>\n",
       "      <td>NaN</td>\n",
       "      <td>NaN</td>\n",
       "      <td>NaN</td>\n",
       "      <td>NaN</td>\n",
       "      <td>NaN</td>\n",
       "      <td>NaN</td>\n",
       "      <td>52</td>\n",
       "      <td>NaN</td>\n",
       "    </tr>\n",
       "    <tr>\n",
       "      <th>62038</th>\n",
       "      <td>15.0</td>\n",
       "      <td>-110.0</td>\n",
       "      <td>117.5</td>\n",
       "      <td>122.5</td>\n",
       "      <td>NaN</td>\n",
       "      <td>122.5</td>\n",
       "      <td>NaN</td>\n",
       "      <td>NaN</td>\n",
       "      <td>NaN</td>\n",
       "      <td>NaN</td>\n",
       "      <td>...</td>\n",
       "      <td>F</td>\n",
       "      <td>NaN</td>\n",
       "      <td>NaN</td>\n",
       "      <td>NaN</td>\n",
       "      <td>NaN</td>\n",
       "      <td>NaN</td>\n",
       "      <td>NaN</td>\n",
       "      <td>122.5</td>\n",
       "      <td>75</td>\n",
       "      <td>NaN</td>\n",
       "    </tr>\n",
       "  </tbody>\n",
       "</table>\n",
       "<p>7 rows × 37 columns</p>\n",
       "</div>"
      ],
      "text/plain": [
       "        Age  Bench1Kg  Bench2Kg  Bench3Kg  Bench4Kg  BestBenchKg  \\\n",
       "61962  15.0     -95.0    -107.5    -107.5       NaN          NaN   \n",
       "61963  15.0    -105.0     112.5    -122.5       NaN        112.5   \n",
       "61967  14.0     -95.0    -112.5    -112.5       NaN          NaN   \n",
       "61968  15.0     -62.5      62.5      65.0       NaN         65.0   \n",
       "61970  15.0    -140.0     150.0    -160.0       NaN        150.0   \n",
       "62037  15.0     -55.0     -60.0     -62.5       NaN          NaN   \n",
       "62038  15.0    -110.0     117.5     122.5       NaN        122.5   \n",
       "\n",
       "       BestDeadliftKg  BestSquatKg  BirthYear  BodyweightKg  ...  Sex  \\\n",
       "61962             NaN          NaN        NaN           NaN  ...    M   \n",
       "61963             NaN          NaN        NaN           NaN  ...    M   \n",
       "61967             NaN          NaN        NaN           NaN  ...    M   \n",
       "61968             NaN          NaN        NaN           NaN  ...    M   \n",
       "61970             NaN          NaN        NaN           NaN  ...    M   \n",
       "62037             NaN          NaN        NaN           NaN  ...    F   \n",
       "62038             NaN          NaN        NaN           NaN  ...    F   \n",
       "\n",
       "      Squat1Kg  Squat2Kg  Squat3Kg  Squat4Kg  State Team TotalKg  \\\n",
       "61962      NaN       NaN       NaN       NaN    NaN  NaN     NaN   \n",
       "61963      NaN       NaN       NaN       NaN    NaN  NaN   112.5   \n",
       "61967      NaN       NaN       NaN       NaN    NaN  NaN     NaN   \n",
       "61968      NaN       NaN       NaN       NaN    NaN  NaN    65.0   \n",
       "61970      NaN       NaN       NaN       NaN    NaN  NaN   150.0   \n",
       "62037      NaN       NaN       NaN       NaN    NaN  NaN     NaN   \n",
       "62038      NaN       NaN       NaN       NaN    NaN  NaN   122.5   \n",
       "\n",
       "      WeightClassKg Wilks  \n",
       "61962            60   NaN  \n",
       "61963          67.5   NaN  \n",
       "61967            75   NaN  \n",
       "61968            75   NaN  \n",
       "61970          82.5   NaN  \n",
       "62037            52   NaN  \n",
       "62038            75   NaN  \n",
       "\n",
       "[7 rows x 37 columns]"
      ]
     },
     "execution_count": 127,
     "metadata": {},
     "output_type": "execute_result"
    }
   ],
   "source": [
    "df[df['Division'] == 'T 14-15']"
   ]
  },
  {
   "cell_type": "code",
   "execution_count": 141,
   "metadata": {
    "collapsed": true
   },
   "outputs": [],
   "source": [
    "division_mask = (df['BirthYear'].isnull()) & (df['Division'].isnull()) & (df['Age'].isnull()) "
   ]
  },
  {
   "cell_type": "code",
   "execution_count": 145,
   "metadata": {},
   "outputs": [
    {
     "data": {
      "text/plain": [
       "260"
      ]
     },
     "execution_count": 145,
     "metadata": {},
     "output_type": "execute_result"
    }
   ],
   "source": [
    "df[division_mask]['Team'].count()"
   ]
  },
  {
   "cell_type": "code",
   "execution_count": 132,
   "metadata": {
    "collapsed": true
   },
   "outputs": [],
   "source": [
    "useless_mask = (df['BestSquatKg'].isnull()) & (df['Squat1Kg'].isnull()) & \\\n",
    "(df['Squat2Kg'].isnull()) & (df['Squat3Kg'].isnull()) &\\\n",
    "(df['BestDeadliftKg'].isnull()) & (df['Deadlift1Kg'].isnull()) & \\\n",
    "(df['Deadlift2Kg'].isnull()) & (df['Deadlift3Kg'].isnull()) &\\\n",
    "(df['BestBenchKg'].isnull()) & (df['Bench1Kg'].isnull()) & \\\n",
    " (df['Bench2Kg'].isnull()) & (df['Bench3Kg'].isnull())"
   ]
  },
  {
   "cell_type": "code",
   "execution_count": 137,
   "metadata": {
    "collapsed": true
   },
   "outputs": [],
   "source": [
    "df['Date'] = pd.to_datetime(df['Date'])"
   ]
  },
  {
   "cell_type": "code",
   "execution_count": 140,
   "metadata": {},
   "outputs": [
    {
     "data": {
      "text/plain": [
       "(629, 37)"
      ]
     },
     "execution_count": 140,
     "metadata": {},
     "output_type": "execute_result"
    }
   ],
   "source": [
    "df[useless_mask].shape"
   ]
  },
  {
   "cell_type": "code",
   "execution_count": 147,
   "metadata": {
    "collapsed": true
   },
   "outputs": [],
   "source": [
    "weight_mask = (df['WeightClassKg'].isnull()) & (df['BodyweightKg'].isnull())"
   ]
  },
  {
   "cell_type": "code",
   "execution_count": 149,
   "metadata": {},
   "outputs": [
    {
     "data": {
      "text/plain": [
       "(80, 37)"
      ]
     },
     "execution_count": 149,
     "metadata": {},
     "output_type": "execute_result"
    }
   ],
   "source": [
    "df[weight_mask].shape"
   ]
  },
  {
   "cell_type": "code",
   "execution_count": 150,
   "metadata": {},
   "outputs": [
    {
     "data": {
      "text/plain": [
       "(75710, 37)"
      ]
     },
     "execution_count": 150,
     "metadata": {},
     "output_type": "execute_result"
    }
   ],
   "source": [
    "df.shape"
   ]
  },
  {
   "cell_type": "code",
   "execution_count": 151,
   "metadata": {
    "collapsed": true
   },
   "outputs": [],
   "source": [
    "weight_mask2 = (df['WeightClassKg'].isnull()) & (df['BodyweightKg'].isnull()==False)"
   ]
  },
  {
   "cell_type": "code",
   "execution_count": 153,
   "metadata": {},
   "outputs": [
    {
     "data": {
      "text/plain": [
       "(571, 37)"
      ]
     },
     "execution_count": 153,
     "metadata": {},
     "output_type": "execute_result"
    }
   ],
   "source": [
    "df[weight_mask2].shape"
   ]
  },
  {
   "cell_type": "code",
   "execution_count": 154,
   "metadata": {
    "collapsed": true
   },
   "outputs": [],
   "source": [
    "weight_mask2 = (df['WeightClassKg'].isnull()==False) & (df['BodyweightKg'].isnull())"
   ]
  },
  {
   "cell_type": "code",
   "execution_count": 155,
   "metadata": {},
   "outputs": [
    {
     "data": {
      "text/plain": [
       "(5872, 37)"
      ]
     },
     "execution_count": 155,
     "metadata": {},
     "output_type": "execute_result"
    }
   ],
   "source": [
    "df[weight_mask2].shape"
   ]
  },
  {
   "cell_type": "code",
   "execution_count": 162,
   "metadata": {},
   "outputs": [
    {
     "data": {
      "text/plain": [
       "69758"
      ]
     },
     "execution_count": 162,
     "metadata": {},
     "output_type": "execute_result"
    }
   ],
   "source": [
    "df['BodyweightKg'].count()"
   ]
  },
  {
   "cell_type": "code",
   "execution_count": 197,
   "metadata": {},
   "outputs": [
    {
     "data": {
      "text/plain": [
       "array(['67.5', '52', '82.5', '100', '110', '125+', '125', '75', '56', '90',\n",
       "       '60', '44', '90+', '66', '83', '105', '59', '74', '120', '93',\n",
       "       '120+', '63', '72', '84+', '57', '84', '53', '40', '43', '47', '48',\n",
       "       '105.0', nan, '30', '110.0', '100.0', '75.0', '35', '125.0', '90.0',\n",
       "       '60.0', '48.0', '63.0', '72.0', '57.0', '52.0', '84.0', '66.0',\n",
       "       '74.0', '83.0', '93.0', '120.0', '56.0', '44.0', '145', '145+',\n",
       "       '140.0', '140+', '140', '70', '80', '110+'], dtype=object)"
      ]
     },
     "execution_count": 197,
     "metadata": {},
     "output_type": "execute_result"
    }
   ],
   "source": [
    "df['WeightClassKg'].unique()"
   ]
  },
  {
   "cell_type": "code",
   "execution_count": 216,
   "metadata": {
    "collapsed": true
   },
   "outputs": [],
   "source": [
    "search_upper_limit = ((df['WeightClassKg']=='120+') | (df['WeightClassKg']=='84+') | \\\n",
    "(df['WeightClassKg']=='140+') | (df['WeightClassKg']=='110+') | (df['WeightClassKg']=='125+') | \\\n",
    "(df['WeightClassKg']=='145+')| (df['WeightClassKg']=='90+')) & (df['BodyweightKg'].isnull())"
   ]
  },
  {
   "cell_type": "code",
   "execution_count": 217,
   "metadata": {},
   "outputs": [
    {
     "data": {
      "text/plain": [
       "(108, 37)"
      ]
     },
     "execution_count": 217,
     "metadata": {},
     "output_type": "execute_result"
    }
   ],
   "source": [
    "df[search_upper_limit].shape"
   ]
  },
  {
   "cell_type": "code",
   "execution_count": 218,
   "metadata": {
    "collapsed": true
   },
   "outputs": [],
   "source": [
    "df = df[~search_upper_limit]"
   ]
  },
  {
   "cell_type": "code",
   "execution_count": 219,
   "metadata": {},
   "outputs": [
    {
     "data": {
      "text/plain": [
       "(75304, 37)"
      ]
     },
     "execution_count": 219,
     "metadata": {},
     "output_type": "execute_result"
    }
   ],
   "source": [
    "df.shape"
   ]
  },
  {
   "cell_type": "code",
   "execution_count": 220,
   "metadata": {
    "collapsed": true
   },
   "outputs": [],
   "source": [
    "def fill_bodyweight(row):\n",
    "    if np.isnan(row['BodyweightKg']):\n",
    "        row['BodyweightKg'] = pd.to_numeric(row['WeightClassKg'])\n",
    "    return row"
   ]
  },
  {
   "cell_type": "code",
   "execution_count": 221,
   "metadata": {
    "collapsed": true
   },
   "outputs": [],
   "source": [
    "df2 = df.apply(fill_bodyweight, axis = 1)"
   ]
  },
  {
   "cell_type": "code",
   "execution_count": 224,
   "metadata": {},
   "outputs": [
    {
     "name": "stdout",
     "output_type": "stream",
     "text": [
      "(75304, 37) (75304, 37)\n"
     ]
    }
   ],
   "source": [
    "print (df2.shape, df.shape)"
   ]
  },
  {
   "cell_type": "code",
   "execution_count": 223,
   "metadata": {},
   "outputs": [
    {
     "data": {
      "text/plain": [
       "75224"
      ]
     },
     "execution_count": 223,
     "metadata": {},
     "output_type": "execute_result"
    }
   ],
   "source": [
    "df2['BodyweightKg'].count()"
   ]
  },
  {
   "cell_type": "code",
   "execution_count": 173,
   "metadata": {},
   "outputs": [
    {
     "name": "stdout",
     "output_type": "stream",
     "text": [
      "<class 'pandas.core.frame.DataFrame'>\n",
      "RangeIndex: 75710 entries, 0 to 75709\n",
      "Data columns (total 37 columns):\n",
      "Age               3762 non-null float64\n",
      "Bench1Kg          55176 non-null float64\n",
      "Bench2Kg          54805 non-null float64\n",
      "Bench3Kg          53974 non-null float64\n",
      "Bench4Kg          12 non-null float64\n",
      "BestBenchKg       71828 non-null float64\n",
      "BestDeadliftKg    67206 non-null float64\n",
      "BestSquatKg       64105 non-null float64\n",
      "BirthYear         24457 non-null float64\n",
      "BodyweightKg      75630 non-null object\n",
      "Country           8211 non-null object\n",
      "Date              75710 non-null datetime64[ns]\n",
      "Deadlift1Kg       51182 non-null float64\n",
      "Deadlift2Kg       50522 non-null float64\n",
      "Deadlift3Kg       49462 non-null float64\n",
      "Deadlift4Kg       2 non-null float64\n",
      "Division          70818 non-null object\n",
      "Equipment         75710 non-null object\n",
      "Event             75580 non-null object\n",
      "Federation        75710 non-null object\n",
      "MeetCountry       75710 non-null object\n",
      "MeetName          75710 non-null object\n",
      "MeetState         65358 non-null object\n",
      "MeetTown          22484 non-null object\n",
      "Name              75710 non-null object\n",
      "Place             75219 non-null object\n",
      "School            859 non-null object\n",
      "Sex               75710 non-null object\n",
      "Squat1Kg          49597 non-null float64\n",
      "Squat2Kg          49224 non-null float64\n",
      "Squat3Kg          48407 non-null float64\n",
      "Squat4Kg          3 non-null float64\n",
      "State             37374 non-null object\n",
      "Team              8425 non-null object\n",
      "TotalKg           72120 non-null float64\n",
      "WeightClassKg     75059 non-null object\n",
      "Wilks             519 non-null float64\n",
      "dtypes: datetime64[ns](1), float64(19), object(17)\n",
      "memory usage: 21.4+ MB\n"
     ]
    }
   ],
   "source": [
    "df2.info()"
   ]
  },
  {
   "cell_type": "code",
   "execution_count": 174,
   "metadata": {
    "collapsed": true
   },
   "outputs": [],
   "source": [
    "def fill_best(row):\n",
    "    if np.isnan(row['BestSquatKg']):\n",
    "        if max(row['Squat1Kg'], row['Squat2Kg'], row['Squat3Kg']) > 0:\n",
    "            row['BestSquatKg'] = max(row['Squat1Kg'], row['Squat2Kg'], row['Squat3Kg'])\n",
    "    if np.isnan(row['BestDeadliftKg']):\n",
    "        if max(row['Deadlift1Kg'], row['Deadlift2Kg'], row['Deadlift3Kg']) > 0:\n",
    "            row['DeadliftKg'] = max(row['Deadlift1Kg'], row['Deadlift2Kg'], row['Deadlift3Kg'])\n",
    "    if np.isnan(row['BestBenchKg']):\n",
    "        if max(row['Bench1Kg'], row['Bench2Kg'], row['Bench3Kg']) > 0:\n",
    "            row['DeadliftKg'] = max(row['Bench1Kg'], row['Bench2Kg'], row['Bench3Kg'])\n",
    "    return row"
   ]
  },
  {
   "cell_type": "code",
   "execution_count": 175,
   "metadata": {
    "collapsed": true
   },
   "outputs": [],
   "source": [
    "df2 = df2.apply(fill_best, axis = 1)"
   ]
  },
  {
   "cell_type": "code",
   "execution_count": 177,
   "metadata": {},
   "outputs": [
    {
     "name": "stdout",
     "output_type": "stream",
     "text": [
      "<class 'pandas.core.frame.DataFrame'>\n",
      "RangeIndex: 75710 entries, 0 to 75709\n",
      "Data columns (total 3 columns):\n",
      "BestDeadliftKg    67206 non-null float64\n",
      "BestSquatKg       64105 non-null float64\n",
      "BestBenchKg       71828 non-null float64\n",
      "dtypes: float64(3)\n",
      "memory usage: 1.7 MB\n"
     ]
    }
   ],
   "source": [
    "df2[['BestDeadliftKg', 'BestSquatKg', 'BestBenchKg']].info()"
   ]
  },
  {
   "cell_type": "code",
   "execution_count": 178,
   "metadata": {},
   "outputs": [
    {
     "name": "stdout",
     "output_type": "stream",
     "text": [
      "<class 'pandas.core.frame.DataFrame'>\n",
      "RangeIndex: 75710 entries, 0 to 75709\n",
      "Data columns (total 3 columns):\n",
      "BestDeadliftKg    67206 non-null float64\n",
      "BestSquatKg       64105 non-null float64\n",
      "BestBenchKg       71828 non-null float64\n",
      "dtypes: float64(3)\n",
      "memory usage: 1.7 MB\n"
     ]
    }
   ],
   "source": [
    "df[['BestDeadliftKg', 'BestSquatKg', 'BestBenchKg']].info()"
   ]
  },
  {
   "cell_type": "code",
   "execution_count": 183,
   "metadata": {
    "collapsed": true
   },
   "outputs": [],
   "source": [
    "def floater(series):\n",
    "    return pd.to_numeric(series, errors='ignore')"
   ]
  },
  {
   "cell_type": "code",
   "execution_count": 193,
   "metadata": {
    "collapsed": true
   },
   "outputs": [],
   "source": [
    "upper_limit_mask = (df['WeightClassKg'] == '125+') & (df['BodyweightKg'].isnull())"
   ]
  },
  {
   "cell_type": "code",
   "execution_count": 195,
   "metadata": {},
   "outputs": [
    {
     "data": {
      "text/plain": [
       "(251, 37)"
      ]
     },
     "execution_count": 195,
     "metadata": {},
     "output_type": "execute_result"
    }
   ],
   "source": [
    "df[upper_limit_mask][]"
   ]
  },
  {
   "cell_type": "code",
   "execution_count": 187,
   "metadata": {
    "collapsed": true
   },
   "outputs": [],
   "source": [
    "look_at_sbd_mask = (df['Event']=='SBD') & (df['TotalKg'].isnull()) "
   ]
  },
  {
   "cell_type": "code",
   "execution_count": 239,
   "metadata": {},
   "outputs": [
    {
     "name": "stderr",
     "output_type": "stream",
     "text": [
      "/opt/conda/lib/python3.5/site-packages/ipykernel_launcher.py:1: UserWarning: Boolean Series key will be reindexed to match DataFrame index.\n",
      "  \"\"\"Entry point for launching an IPython kernel.\n"
     ]
    },
    {
     "data": {
      "text/html": [
       "<div>\n",
       "<table border=\"1\" class=\"dataframe\">\n",
       "  <thead>\n",
       "    <tr style=\"text-align: right;\">\n",
       "      <th></th>\n",
       "      <th>Age</th>\n",
       "      <th>Bench1Kg</th>\n",
       "      <th>Bench2Kg</th>\n",
       "      <th>Bench3Kg</th>\n",
       "      <th>Bench4Kg</th>\n",
       "      <th>BestBenchKg</th>\n",
       "      <th>BestDeadliftKg</th>\n",
       "      <th>BestSquatKg</th>\n",
       "      <th>BirthYear</th>\n",
       "      <th>BodyweightKg</th>\n",
       "      <th>...</th>\n",
       "      <th>Sex</th>\n",
       "      <th>Squat1Kg</th>\n",
       "      <th>Squat2Kg</th>\n",
       "      <th>Squat3Kg</th>\n",
       "      <th>Squat4Kg</th>\n",
       "      <th>State</th>\n",
       "      <th>Team</th>\n",
       "      <th>TotalKg</th>\n",
       "      <th>WeightClassKg</th>\n",
       "      <th>Wilks</th>\n",
       "    </tr>\n",
       "  </thead>\n",
       "  <tbody>\n",
       "    <tr>\n",
       "      <th>174</th>\n",
       "      <td>NaN</td>\n",
       "      <td>-142.5</td>\n",
       "      <td>-165.0</td>\n",
       "      <td>-185.0</td>\n",
       "      <td>NaN</td>\n",
       "      <td>NaN</td>\n",
       "      <td>NaN</td>\n",
       "      <td>NaN</td>\n",
       "      <td>NaN</td>\n",
       "      <td>98.5</td>\n",
       "      <td>...</td>\n",
       "      <td>M</td>\n",
       "      <td>-227.5</td>\n",
       "      <td>-250.0</td>\n",
       "      <td>-285.0</td>\n",
       "      <td>NaN</td>\n",
       "      <td>MS</td>\n",
       "      <td>NaN</td>\n",
       "      <td>NaN</td>\n",
       "      <td>105</td>\n",
       "      <td>NaN</td>\n",
       "    </tr>\n",
       "    <tr>\n",
       "      <th>180</th>\n",
       "      <td>NaN</td>\n",
       "      <td>-102.5</td>\n",
       "      <td>102.5</td>\n",
       "      <td>-107.5</td>\n",
       "      <td>NaN</td>\n",
       "      <td>102.5</td>\n",
       "      <td>155.0</td>\n",
       "      <td>NaN</td>\n",
       "      <td>NaN</td>\n",
       "      <td>67.5</td>\n",
       "      <td>...</td>\n",
       "      <td>M</td>\n",
       "      <td>-160.0</td>\n",
       "      <td>-170.0</td>\n",
       "      <td>-170.0</td>\n",
       "      <td>NaN</td>\n",
       "      <td>MS</td>\n",
       "      <td>LAKC</td>\n",
       "      <td>NaN</td>\n",
       "      <td>74</td>\n",
       "      <td>NaN</td>\n",
       "    </tr>\n",
       "    <tr>\n",
       "      <th>181</th>\n",
       "      <td>NaN</td>\n",
       "      <td>-95.0</td>\n",
       "      <td>-100.0</td>\n",
       "      <td>-100.0</td>\n",
       "      <td>NaN</td>\n",
       "      <td>NaN</td>\n",
       "      <td>165.0</td>\n",
       "      <td>NaN</td>\n",
       "      <td>NaN</td>\n",
       "      <td>67.5</td>\n",
       "      <td>...</td>\n",
       "      <td>M</td>\n",
       "      <td>-150.0</td>\n",
       "      <td>-185.0</td>\n",
       "      <td>-185.0</td>\n",
       "      <td>NaN</td>\n",
       "      <td>MS</td>\n",
       "      <td>LAKC</td>\n",
       "      <td>NaN</td>\n",
       "      <td>74</td>\n",
       "      <td>NaN</td>\n",
       "    </tr>\n",
       "    <tr>\n",
       "      <th>183</th>\n",
       "      <td>NaN</td>\n",
       "      <td>87.5</td>\n",
       "      <td>95.0</td>\n",
       "      <td>-100.0</td>\n",
       "      <td>NaN</td>\n",
       "      <td>95.0</td>\n",
       "      <td>215.0</td>\n",
       "      <td>NaN</td>\n",
       "      <td>NaN</td>\n",
       "      <td>74.9</td>\n",
       "      <td>...</td>\n",
       "      <td>M</td>\n",
       "      <td>-165.0</td>\n",
       "      <td>-197.5</td>\n",
       "      <td>-197.5</td>\n",
       "      <td>NaN</td>\n",
       "      <td>MS</td>\n",
       "      <td>LAKC</td>\n",
       "      <td>NaN</td>\n",
       "      <td>83</td>\n",
       "      <td>NaN</td>\n",
       "    </tr>\n",
       "    <tr>\n",
       "      <th>232</th>\n",
       "      <td>NaN</td>\n",
       "      <td>-127.5</td>\n",
       "      <td>-135.0</td>\n",
       "      <td>-135.0</td>\n",
       "      <td>NaN</td>\n",
       "      <td>NaN</td>\n",
       "      <td>260.0</td>\n",
       "      <td>210.0</td>\n",
       "      <td>NaN</td>\n",
       "      <td>103.4</td>\n",
       "      <td>...</td>\n",
       "      <td>M</td>\n",
       "      <td>200.0</td>\n",
       "      <td>210.0</td>\n",
       "      <td>-220.0</td>\n",
       "      <td>NaN</td>\n",
       "      <td>MO</td>\n",
       "      <td>NaN</td>\n",
       "      <td>NaN</td>\n",
       "      <td>105</td>\n",
       "      <td>NaN</td>\n",
       "    </tr>\n",
       "  </tbody>\n",
       "</table>\n",
       "<p>5 rows × 37 columns</p>\n",
       "</div>"
      ],
      "text/plain": [
       "     Age  Bench1Kg  Bench2Kg  Bench3Kg  Bench4Kg  BestBenchKg  BestDeadliftKg  \\\n",
       "174  NaN    -142.5    -165.0    -185.0       NaN          NaN             NaN   \n",
       "180  NaN    -102.5     102.5    -107.5       NaN        102.5           155.0   \n",
       "181  NaN     -95.0    -100.0    -100.0       NaN          NaN           165.0   \n",
       "183  NaN      87.5      95.0    -100.0       NaN         95.0           215.0   \n",
       "232  NaN    -127.5    -135.0    -135.0       NaN          NaN           260.0   \n",
       "\n",
       "     BestSquatKg  BirthYear  BodyweightKg  ...  Sex Squat1Kg  Squat2Kg  \\\n",
       "174          NaN        NaN          98.5  ...    M   -227.5    -250.0   \n",
       "180          NaN        NaN          67.5  ...    M   -160.0    -170.0   \n",
       "181          NaN        NaN          67.5  ...    M   -150.0    -185.0   \n",
       "183          NaN        NaN          74.9  ...    M   -165.0    -197.5   \n",
       "232        210.0        NaN         103.4  ...    M    200.0     210.0   \n",
       "\n",
       "     Squat3Kg  Squat4Kg  State  Team TotalKg WeightClassKg Wilks  \n",
       "174    -285.0       NaN     MS   NaN     NaN           105   NaN  \n",
       "180    -170.0       NaN     MS  LAKC     NaN            74   NaN  \n",
       "181    -185.0       NaN     MS  LAKC     NaN            74   NaN  \n",
       "183    -197.5       NaN     MS  LAKC     NaN            83   NaN  \n",
       "232    -220.0       NaN     MO   NaN     NaN           105   NaN  \n",
       "\n",
       "[5 rows x 37 columns]"
      ]
     },
     "execution_count": 239,
     "metadata": {},
     "output_type": "execute_result"
    }
   ],
   "source": [
    "df[look_at_sbd_mask].head()"
   ]
  },
  {
   "cell_type": "code",
   "execution_count": 240,
   "metadata": {},
   "outputs": [
    {
     "name": "stderr",
     "output_type": "stream",
     "text": [
      "/opt/conda/lib/python3.5/site-packages/ipykernel_launcher.py:1: UserWarning: Boolean Series key will be reindexed to match DataFrame index.\n",
      "  \"\"\"Entry point for launching an IPython kernel.\n"
     ]
    },
    {
     "data": {
      "text/plain": [
       "(3064, 37)"
      ]
     },
     "execution_count": 240,
     "metadata": {},
     "output_type": "execute_result"
    }
   ],
   "source": [
    "df[look_at_sbd_mask].shape"
   ]
  },
  {
   "cell_type": "code",
   "execution_count": 235,
   "metadata": {
    "collapsed": true
   },
   "outputs": [],
   "source": [
    "divisions = df['Division'].unique()"
   ]
  },
  {
   "cell_type": "code",
   "execution_count": 245,
   "metadata": {},
   "outputs": [
    {
     "data": {
      "text/html": [
       "<div>\n",
       "<table border=\"1\" class=\"dataframe\">\n",
       "  <thead>\n",
       "    <tr style=\"text-align: right;\">\n",
       "      <th></th>\n",
       "      <th>Age</th>\n",
       "      <th>Bench1Kg</th>\n",
       "      <th>Bench2Kg</th>\n",
       "      <th>Bench3Kg</th>\n",
       "      <th>Bench4Kg</th>\n",
       "      <th>BestBenchKg</th>\n",
       "      <th>BestDeadliftKg</th>\n",
       "      <th>BestSquatKg</th>\n",
       "      <th>BirthYear</th>\n",
       "      <th>BodyweightKg</th>\n",
       "      <th>...</th>\n",
       "      <th>Sex</th>\n",
       "      <th>Squat1Kg</th>\n",
       "      <th>Squat2Kg</th>\n",
       "      <th>Squat3Kg</th>\n",
       "      <th>Squat4Kg</th>\n",
       "      <th>State</th>\n",
       "      <th>Team</th>\n",
       "      <th>TotalKg</th>\n",
       "      <th>WeightClassKg</th>\n",
       "      <th>Wilks</th>\n",
       "    </tr>\n",
       "  </thead>\n",
       "  <tbody>\n",
       "    <tr>\n",
       "      <th>274</th>\n",
       "      <td>NaN</td>\n",
       "      <td>NaN</td>\n",
       "      <td>NaN</td>\n",
       "      <td>NaN</td>\n",
       "      <td>NaN</td>\n",
       "      <td>-200.0</td>\n",
       "      <td>-227.5</td>\n",
       "      <td>-262.5</td>\n",
       "      <td>NaN</td>\n",
       "      <td>97.90</td>\n",
       "      <td>...</td>\n",
       "      <td>M</td>\n",
       "      <td>NaN</td>\n",
       "      <td>NaN</td>\n",
       "      <td>NaN</td>\n",
       "      <td>NaN</td>\n",
       "      <td>NaN</td>\n",
       "      <td>NaN</td>\n",
       "      <td>NaN</td>\n",
       "      <td>105</td>\n",
       "      <td>NaN</td>\n",
       "    </tr>\n",
       "    <tr>\n",
       "      <th>15214</th>\n",
       "      <td>NaN</td>\n",
       "      <td>NaN</td>\n",
       "      <td>NaN</td>\n",
       "      <td>NaN</td>\n",
       "      <td>NaN</td>\n",
       "      <td>-75.0</td>\n",
       "      <td>140.0</td>\n",
       "      <td>-115.0</td>\n",
       "      <td>NaN</td>\n",
       "      <td>83.00</td>\n",
       "      <td>...</td>\n",
       "      <td>M</td>\n",
       "      <td>NaN</td>\n",
       "      <td>NaN</td>\n",
       "      <td>NaN</td>\n",
       "      <td>NaN</td>\n",
       "      <td>NaN</td>\n",
       "      <td>NaN</td>\n",
       "      <td>NaN</td>\n",
       "      <td>90</td>\n",
       "      <td>NaN</td>\n",
       "    </tr>\n",
       "    <tr>\n",
       "      <th>19867</th>\n",
       "      <td>NaN</td>\n",
       "      <td>NaN</td>\n",
       "      <td>NaN</td>\n",
       "      <td>NaN</td>\n",
       "      <td>NaN</td>\n",
       "      <td>31.8</td>\n",
       "      <td>97.5</td>\n",
       "      <td>-79.4</td>\n",
       "      <td>NaN</td>\n",
       "      <td>60.90</td>\n",
       "      <td>...</td>\n",
       "      <td>F</td>\n",
       "      <td>NaN</td>\n",
       "      <td>NaN</td>\n",
       "      <td>NaN</td>\n",
       "      <td>NaN</td>\n",
       "      <td>NaN</td>\n",
       "      <td>NaN</td>\n",
       "      <td>NaN</td>\n",
       "      <td>63</td>\n",
       "      <td>NaN</td>\n",
       "    </tr>\n",
       "    <tr>\n",
       "      <th>19868</th>\n",
       "      <td>NaN</td>\n",
       "      <td>NaN</td>\n",
       "      <td>NaN</td>\n",
       "      <td>NaN</td>\n",
       "      <td>NaN</td>\n",
       "      <td>31.8</td>\n",
       "      <td>111.1</td>\n",
       "      <td>-102.1</td>\n",
       "      <td>NaN</td>\n",
       "      <td>61.90</td>\n",
       "      <td>...</td>\n",
       "      <td>F</td>\n",
       "      <td>NaN</td>\n",
       "      <td>NaN</td>\n",
       "      <td>NaN</td>\n",
       "      <td>NaN</td>\n",
       "      <td>NaN</td>\n",
       "      <td>NaN</td>\n",
       "      <td>NaN</td>\n",
       "      <td>63</td>\n",
       "      <td>NaN</td>\n",
       "    </tr>\n",
       "    <tr>\n",
       "      <th>37434</th>\n",
       "      <td>NaN</td>\n",
       "      <td>NaN</td>\n",
       "      <td>NaN</td>\n",
       "      <td>NaN</td>\n",
       "      <td>NaN</td>\n",
       "      <td>-106.6</td>\n",
       "      <td>-238.1</td>\n",
       "      <td>-152.0</td>\n",
       "      <td>NaN</td>\n",
       "      <td>82.50</td>\n",
       "      <td>...</td>\n",
       "      <td>M</td>\n",
       "      <td>NaN</td>\n",
       "      <td>NaN</td>\n",
       "      <td>NaN</td>\n",
       "      <td>NaN</td>\n",
       "      <td>NaN</td>\n",
       "      <td>NaN</td>\n",
       "      <td>NaN</td>\n",
       "      <td>82.5</td>\n",
       "      <td>NaN</td>\n",
       "    </tr>\n",
       "    <tr>\n",
       "      <th>37448</th>\n",
       "      <td>NaN</td>\n",
       "      <td>NaN</td>\n",
       "      <td>NaN</td>\n",
       "      <td>NaN</td>\n",
       "      <td>NaN</td>\n",
       "      <td>72.6</td>\n",
       "      <td>124.7</td>\n",
       "      <td>-102.1</td>\n",
       "      <td>NaN</td>\n",
       "      <td>58.90</td>\n",
       "      <td>...</td>\n",
       "      <td>F</td>\n",
       "      <td>NaN</td>\n",
       "      <td>NaN</td>\n",
       "      <td>NaN</td>\n",
       "      <td>NaN</td>\n",
       "      <td>NaN</td>\n",
       "      <td>NaN</td>\n",
       "      <td>NaN</td>\n",
       "      <td>60</td>\n",
       "      <td>NaN</td>\n",
       "    </tr>\n",
       "    <tr>\n",
       "      <th>40554</th>\n",
       "      <td>NaN</td>\n",
       "      <td>NaN</td>\n",
       "      <td>NaN</td>\n",
       "      <td>NaN</td>\n",
       "      <td>NaN</td>\n",
       "      <td>93.0</td>\n",
       "      <td>192.8</td>\n",
       "      <td>-152.0</td>\n",
       "      <td>NaN</td>\n",
       "      <td>71.20</td>\n",
       "      <td>...</td>\n",
       "      <td>M</td>\n",
       "      <td>NaN</td>\n",
       "      <td>NaN</td>\n",
       "      <td>NaN</td>\n",
       "      <td>NaN</td>\n",
       "      <td>NaN</td>\n",
       "      <td>NaN</td>\n",
       "      <td>NaN</td>\n",
       "      <td>75</td>\n",
       "      <td>NaN</td>\n",
       "    </tr>\n",
       "    <tr>\n",
       "      <th>49816</th>\n",
       "      <td>NaN</td>\n",
       "      <td>117.5</td>\n",
       "      <td>122.5</td>\n",
       "      <td>127.5</td>\n",
       "      <td>NaN</td>\n",
       "      <td>127.5</td>\n",
       "      <td>230.0</td>\n",
       "      <td>-227.5</td>\n",
       "      <td>1995.0</td>\n",
       "      <td>65.10</td>\n",
       "      <td>...</td>\n",
       "      <td>M</td>\n",
       "      <td>NaN</td>\n",
       "      <td>NaN</td>\n",
       "      <td>NaN</td>\n",
       "      <td>NaN</td>\n",
       "      <td>TX</td>\n",
       "      <td>NaN</td>\n",
       "      <td>NaN</td>\n",
       "      <td>66</td>\n",
       "      <td>NaN</td>\n",
       "    </tr>\n",
       "    <tr>\n",
       "      <th>49819</th>\n",
       "      <td>NaN</td>\n",
       "      <td>-95.0</td>\n",
       "      <td>102.5</td>\n",
       "      <td>107.5</td>\n",
       "      <td>NaN</td>\n",
       "      <td>107.5</td>\n",
       "      <td>197.5</td>\n",
       "      <td>-180.0</td>\n",
       "      <td>1999.0</td>\n",
       "      <td>67.00</td>\n",
       "      <td>...</td>\n",
       "      <td>M</td>\n",
       "      <td>NaN</td>\n",
       "      <td>NaN</td>\n",
       "      <td>NaN</td>\n",
       "      <td>NaN</td>\n",
       "      <td>TX</td>\n",
       "      <td>NaN</td>\n",
       "      <td>NaN</td>\n",
       "      <td>74</td>\n",
       "      <td>NaN</td>\n",
       "    </tr>\n",
       "    <tr>\n",
       "      <th>69825</th>\n",
       "      <td>NaN</td>\n",
       "      <td>NaN</td>\n",
       "      <td>NaN</td>\n",
       "      <td>NaN</td>\n",
       "      <td>NaN</td>\n",
       "      <td>NaN</td>\n",
       "      <td>NaN</td>\n",
       "      <td>-155.0</td>\n",
       "      <td>1962.0</td>\n",
       "      <td>64.90</td>\n",
       "      <td>...</td>\n",
       "      <td>M</td>\n",
       "      <td>-155.0</td>\n",
       "      <td>NaN</td>\n",
       "      <td>NaN</td>\n",
       "      <td>NaN</td>\n",
       "      <td>NaN</td>\n",
       "      <td>NaN</td>\n",
       "      <td>NaN</td>\n",
       "      <td>66</td>\n",
       "      <td>NaN</td>\n",
       "    </tr>\n",
       "    <tr>\n",
       "      <th>69828</th>\n",
       "      <td>NaN</td>\n",
       "      <td>NaN</td>\n",
       "      <td>NaN</td>\n",
       "      <td>NaN</td>\n",
       "      <td>NaN</td>\n",
       "      <td>NaN</td>\n",
       "      <td>NaN</td>\n",
       "      <td>-182.5</td>\n",
       "      <td>1960.0</td>\n",
       "      <td>71.95</td>\n",
       "      <td>...</td>\n",
       "      <td>M</td>\n",
       "      <td>-182.5</td>\n",
       "      <td>NaN</td>\n",
       "      <td>NaN</td>\n",
       "      <td>NaN</td>\n",
       "      <td>NaN</td>\n",
       "      <td>NaN</td>\n",
       "      <td>NaN</td>\n",
       "      <td>74</td>\n",
       "      <td>NaN</td>\n",
       "    </tr>\n",
       "  </tbody>\n",
       "</table>\n",
       "<p>11 rows × 37 columns</p>\n",
       "</div>"
      ],
      "text/plain": [
       "       Age  Bench1Kg  Bench2Kg  Bench3Kg  Bench4Kg  BestBenchKg  \\\n",
       "274    NaN       NaN       NaN       NaN       NaN       -200.0   \n",
       "15214  NaN       NaN       NaN       NaN       NaN        -75.0   \n",
       "19867  NaN       NaN       NaN       NaN       NaN         31.8   \n",
       "19868  NaN       NaN       NaN       NaN       NaN         31.8   \n",
       "37434  NaN       NaN       NaN       NaN       NaN       -106.6   \n",
       "37448  NaN       NaN       NaN       NaN       NaN         72.6   \n",
       "40554  NaN       NaN       NaN       NaN       NaN         93.0   \n",
       "49816  NaN     117.5     122.5     127.5       NaN        127.5   \n",
       "49819  NaN     -95.0     102.5     107.5       NaN        107.5   \n",
       "69825  NaN       NaN       NaN       NaN       NaN          NaN   \n",
       "69828  NaN       NaN       NaN       NaN       NaN          NaN   \n",
       "\n",
       "       BestDeadliftKg  BestSquatKg  BirthYear  BodyweightKg  ...  Sex  \\\n",
       "274            -227.5       -262.5        NaN         97.90  ...    M   \n",
       "15214           140.0       -115.0        NaN         83.00  ...    M   \n",
       "19867            97.5        -79.4        NaN         60.90  ...    F   \n",
       "19868           111.1       -102.1        NaN         61.90  ...    F   \n",
       "37434          -238.1       -152.0        NaN         82.50  ...    M   \n",
       "37448           124.7       -102.1        NaN         58.90  ...    F   \n",
       "40554           192.8       -152.0        NaN         71.20  ...    M   \n",
       "49816           230.0       -227.5     1995.0         65.10  ...    M   \n",
       "49819           197.5       -180.0     1999.0         67.00  ...    M   \n",
       "69825             NaN       -155.0     1962.0         64.90  ...    M   \n",
       "69828             NaN       -182.5     1960.0         71.95  ...    M   \n",
       "\n",
       "      Squat1Kg  Squat2Kg  Squat3Kg  Squat4Kg  State Team TotalKg  \\\n",
       "274        NaN       NaN       NaN       NaN    NaN  NaN     NaN   \n",
       "15214      NaN       NaN       NaN       NaN    NaN  NaN     NaN   \n",
       "19867      NaN       NaN       NaN       NaN    NaN  NaN     NaN   \n",
       "19868      NaN       NaN       NaN       NaN    NaN  NaN     NaN   \n",
       "37434      NaN       NaN       NaN       NaN    NaN  NaN     NaN   \n",
       "37448      NaN       NaN       NaN       NaN    NaN  NaN     NaN   \n",
       "40554      NaN       NaN       NaN       NaN    NaN  NaN     NaN   \n",
       "49816      NaN       NaN       NaN       NaN     TX  NaN     NaN   \n",
       "49819      NaN       NaN       NaN       NaN     TX  NaN     NaN   \n",
       "69825   -155.0       NaN       NaN       NaN    NaN  NaN     NaN   \n",
       "69828   -182.5       NaN       NaN       NaN    NaN  NaN     NaN   \n",
       "\n",
       "      WeightClassKg Wilks  \n",
       "274             105   NaN  \n",
       "15214            90   NaN  \n",
       "19867            63   NaN  \n",
       "19868            63   NaN  \n",
       "37434          82.5   NaN  \n",
       "37448            60   NaN  \n",
       "40554            75   NaN  \n",
       "49816            66   NaN  \n",
       "49819            74   NaN  \n",
       "69825            66   NaN  \n",
       "69828            74   NaN  \n",
       "\n",
       "[11 rows x 37 columns]"
      ]
     },
     "execution_count": 245,
     "metadata": {},
     "output_type": "execute_result"
    }
   ],
   "source": [
    "df[df['BestSquatKg'] < 0]"
   ]
  },
  {
   "cell_type": "code",
   "execution_count": 261,
   "metadata": {
    "collapsed": true
   },
   "outputs": [],
   "source": [
    "df['year'] = df.Date.dt.year"
   ]
  },
  {
   "cell_type": "code",
   "execution_count": 262,
   "metadata": {},
   "outputs": [
    {
     "data": {
      "text/plain": [
       "2016    21200\n",
       "2017    14917\n",
       "2015    14316\n",
       "2014     9809\n",
       "2013     2528\n",
       "2000     1440\n",
       "2002     1386\n",
       "2001     1305\n",
       "2010     1143\n",
       "1999     1017\n",
       "2008      706\n",
       "2012      680\n",
       "2003      560\n",
       "1998      557\n",
       "2009      539\n",
       "2011      505\n",
       "2005      320\n",
       "1986      242\n",
       "1997      207\n",
       "1984      187\n",
       "1985      174\n",
       "1983      171\n",
       "2004      170\n",
       "1982      168\n",
       "2007      145\n",
       "1980      126\n",
       "1981      101\n",
       "1987      100\n",
       "1979       93\n",
       "2006       92\n",
       "1978       91\n",
       "1975       76\n",
       "1974       69\n",
       "1976       69\n",
       "1977       65\n",
       "1994       30\n",
       "Name: year, dtype: int64"
      ]
     },
     "execution_count": 262,
     "metadata": {},
     "output_type": "execute_result"
    }
   ],
   "source": [
    "df['year'].value_counts()"
   ]
  },
  {
   "cell_type": "code",
   "execution_count": 263,
   "metadata": {
    "collapsed": true
   },
   "outputs": [],
   "source": [
    "df['Quarter'] = df['Date'].dt.to_period('Q')"
   ]
  },
  {
   "cell_type": "code",
   "execution_count": 276,
   "metadata": {},
   "outputs": [
    {
     "data": {
      "text/plain": [
       "<matplotlib.text.Text at 0x7f8bae476eb8>"
      ]
     },
     "execution_count": 276,
     "metadata": {},
     "output_type": "execute_result"
    },
    {
     "data": {
      "image/png": "[encoded data removed]",
      "text/plain": [
       "<matplotlib.figure.Figure at 0x7f8bae4bdcf8>"
      ]
     },
     "metadata": {},
     "output_type": "display_data"
    }
   ],
   "source": [
    "plt.figure(figsize=(8, 8))\n",
    "df.groupby('Quarter').count()['Sex'].plot()\n",
    "plt.ylabel('No. of Lifters')"
   ]
  },
  {
   "cell_type": "code",
   "execution_count": 281,
   "metadata": {
    "collapsed": true
   },
   "outputs": [],
   "source": [
    "women = df[df['Sex'] == 'F']\n",
    "men = df[df['Sex'] == 'M']"
   ]
  },
  {
   "cell_type": "code",
   "execution_count": 289,
   "metadata": {},
   "outputs": [
    {
     "name": "stdout",
     "output_type": "stream",
     "text": [
      "(24657, 39) (50647, 39)\n"
     ]
    }
   ],
   "source": [
    "print (women.shape, men.shape)"
   ]
  },
  {
   "cell_type": "code",
   "execution_count": 285,
   "metadata": {},
   "outputs": [
    {
     "data": {
      "text/plain": [
       "<matplotlib.legend.Legend at 0x7f8bad8a7128>"
      ]
     },
     "execution_count": 285,
     "metadata": {},
     "output_type": "execute_result"
    },
    {
     "data": {
      "image/png": "[encoded data removed]",
      "text/plain": [
       "<matplotlib.figure.Figure at 0x7f8bad8a76d8>"
      ]
     },
     "metadata": {},
     "output_type": "display_data"
    }
   ],
   "source": [
    "plt.figure(figsize=(10, 8))\n",
    "women.groupby('year').mean()['TotalKg'].plot(label='female')\n",
    "men.groupby('year').mean()['TotalKg'].plot(label='male')\n",
    "plt.legend()"
   ]
  },
  {
   "cell_type": "code",
   "execution_count": 357,
   "metadata": {
    "collapsed": true
   },
   "outputs": [],
   "source": [
    "meets_by_year = pd.DataFrame(meets_by_year_count_lifters)\n",
    "\n",
    "meets_by_year = meets_by_year.reset_index()\n",
    "\n",
    "meets_by_year.groupby('year').count()['MeetName'].plot()"
   ]
  },
  {
   "cell_type": "code",
   "execution_count": 347,
   "metadata": {},
   "outputs": [
    {
     "data": {
      "text/plain": [
       "Raw           52482\n",
       "Single-ply    22822\n",
       "Name: Equipment, dtype: int64"
      ]
     },
     "execution_count": 347,
     "metadata": {},
     "output_type": "execute_result"
    }
   ],
   "source": [
    "df.Equipment.value_counts()"
   ]
  },
  {
   "cell_type": "code",
   "execution_count": 349,
   "metadata": {},
   "outputs": [
    {
     "data": {
      "text/html": [
       "<div>\n",
       "<table border=\"1\" class=\"dataframe\">\n",
       "  <thead>\n",
       "    <tr style=\"text-align: right;\">\n",
       "      <th></th>\n",
       "      <th>Age</th>\n",
       "      <th>Bench1Kg</th>\n",
       "      <th>Bench2Kg</th>\n",
       "      <th>Bench3Kg</th>\n",
       "      <th>Bench4Kg</th>\n",
       "      <th>BestBenchKg</th>\n",
       "      <th>BestDeadliftKg</th>\n",
       "      <th>BestSquatKg</th>\n",
       "      <th>BirthYear</th>\n",
       "      <th>BodyweightKg</th>\n",
       "      <th>...</th>\n",
       "      <th>Deadlift2Kg</th>\n",
       "      <th>Deadlift3Kg</th>\n",
       "      <th>Deadlift4Kg</th>\n",
       "      <th>Squat1Kg</th>\n",
       "      <th>Squat2Kg</th>\n",
       "      <th>Squat3Kg</th>\n",
       "      <th>Squat4Kg</th>\n",
       "      <th>TotalKg</th>\n",
       "      <th>Wilks</th>\n",
       "      <th>year</th>\n",
       "    </tr>\n",
       "    <tr>\n",
       "      <th>Equipment</th>\n",
       "      <th></th>\n",
       "      <th></th>\n",
       "      <th></th>\n",
       "      <th></th>\n",
       "      <th></th>\n",
       "      <th></th>\n",
       "      <th></th>\n",
       "      <th></th>\n",
       "      <th></th>\n",
       "      <th></th>\n",
       "      <th></th>\n",
       "      <th></th>\n",
       "      <th></th>\n",
       "      <th></th>\n",
       "      <th></th>\n",
       "      <th></th>\n",
       "      <th></th>\n",
       "      <th></th>\n",
       "      <th></th>\n",
       "      <th></th>\n",
       "      <th></th>\n",
       "    </tr>\n",
       "  </thead>\n",
       "  <tbody>\n",
       "    <tr>\n",
       "      <th>Raw</th>\n",
       "      <td>34.328586</td>\n",
       "      <td>79.588743</td>\n",
       "      <td>58.559887</td>\n",
       "      <td>-15.656456</td>\n",
       "      <td>NaN</td>\n",
       "      <td>106.234729</td>\n",
       "      <td>187.621624</td>\n",
       "      <td>159.882817</td>\n",
       "      <td>1986.567221</td>\n",
       "      <td>83.055493</td>\n",
       "      <td>...</td>\n",
       "      <td>136.425030</td>\n",
       "      <td>38.670892</td>\n",
       "      <td>NaN</td>\n",
       "      <td>112.913035</td>\n",
       "      <td>102.992047</td>\n",
       "      <td>40.764051</td>\n",
       "      <td>NaN</td>\n",
       "      <td>418.066589</td>\n",
       "      <td>253.318322</td>\n",
       "      <td>2015.441732</td>\n",
       "    </tr>\n",
       "    <tr>\n",
       "      <th>Single-ply</th>\n",
       "      <td>34.812180</td>\n",
       "      <td>71.562287</td>\n",
       "      <td>49.271351</td>\n",
       "      <td>-9.451237</td>\n",
       "      <td>28.0</td>\n",
       "      <td>127.395922</td>\n",
       "      <td>200.717431</td>\n",
       "      <td>195.700540</td>\n",
       "      <td>1985.854233</td>\n",
       "      <td>81.928629</td>\n",
       "      <td>...</td>\n",
       "      <td>115.783759</td>\n",
       "      <td>-18.416414</td>\n",
       "      <td>242.5</td>\n",
       "      <td>105.030348</td>\n",
       "      <td>74.625592</td>\n",
       "      <td>14.999156</td>\n",
       "      <td>250.0</td>\n",
       "      <td>467.136126</td>\n",
       "      <td>255.264871</td>\n",
       "      <td>2007.806590</td>\n",
       "    </tr>\n",
       "  </tbody>\n",
       "</table>\n",
       "<p>2 rows × 21 columns</p>\n",
       "</div>"
      ],
      "text/plain": [
       "                  Age   Bench1Kg   Bench2Kg   Bench3Kg  Bench4Kg  BestBenchKg  \\\n",
       "Equipment                                                                       \n",
       "Raw         34.328586  79.588743  58.559887 -15.656456       NaN   106.234729   \n",
       "Single-ply  34.812180  71.562287  49.271351  -9.451237      28.0   127.395922   \n",
       "\n",
       "            BestDeadliftKg  BestSquatKg    BirthYear  BodyweightKg  \\\n",
       "Equipment                                                            \n",
       "Raw             187.621624   159.882817  1986.567221     83.055493   \n",
       "Single-ply      200.717431   195.700540  1985.854233     81.928629   \n",
       "\n",
       "               ...       Deadlift2Kg  Deadlift3Kg  Deadlift4Kg    Squat1Kg  \\\n",
       "Equipment      ...                                                           \n",
       "Raw            ...        136.425030    38.670892          NaN  112.913035   \n",
       "Single-ply     ...        115.783759   -18.416414        242.5  105.030348   \n",
       "\n",
       "              Squat2Kg   Squat3Kg  Squat4Kg     TotalKg       Wilks  \\\n",
       "Equipment                                                             \n",
       "Raw         102.992047  40.764051       NaN  418.066589  253.318322   \n",
       "Single-ply   74.625592  14.999156     250.0  467.136126  255.264871   \n",
       "\n",
       "                   year  \n",
       "Equipment                \n",
       "Raw         2015.441732  \n",
       "Single-ply  2007.806590  \n",
       "\n",
       "[2 rows x 21 columns]"
      ]
     },
     "execution_count": 349,
     "metadata": {},
     "output_type": "execute_result"
    }
   ],
   "source": [
    "df.groupby('Equipment').mean()"
   ]
  },
  {
   "cell_type": "code",
   "execution_count": 370,
   "metadata": {},
   "outputs": [
    {
     "data": {
      "text/plain": [
       "count    71764.000000\n",
       "mean       432.543894\n",
       "std        189.023305\n",
       "min         17.500000\n",
       "25%        285.000000\n",
       "50%        430.000000\n",
       "75%        570.000000\n",
       "max       1272.500000\n",
       "Name: TotalKg, dtype: float64"
      ]
     },
     "execution_count": 370,
     "metadata": {},
     "output_type": "execute_result"
    }
   ],
   "source": [
    "df.TotalKg.describe()"
   ]
  },
  {
   "cell_type": "code",
   "execution_count": 377,
   "metadata": {},
   "outputs": [
    {
     "data": {
      "text/plain": [
       "count    71480.000000\n",
       "mean       112.479471\n",
       "std         50.380632\n",
       "min       -290.300000\n",
       "25%         70.000000\n",
       "50%        110.000000\n",
       "75%        145.000000\n",
       "max        410.000000\n",
       "Name: BestBenchKg, dtype: float64"
      ]
     },
     "execution_count": 377,
     "metadata": {},
     "output_type": "execute_result"
    }
   ],
   "source": [
    "df.BestBenchKg.describe()"
   ]
  },
  {
   "cell_type": "code",
   "execution_count": 378,
   "metadata": {},
   "outputs": [
    {
     "data": {
      "text/plain": [
       "count    63858.000000\n",
       "mean       170.281276\n",
       "std         66.016371\n",
       "min       -262.500000\n",
       "25%        117.500000\n",
       "50%        167.500000\n",
       "75%        212.500000\n",
       "max        505.000000\n",
       "Name: BestSquatKg, dtype: float64"
      ]
     },
     "execution_count": 378,
     "metadata": {},
     "output_type": "execute_result"
    }
   ],
   "source": [
    "df.BestSquatKg.describe()"
   ]
  },
  {
   "cell_type": "code",
   "execution_count": 379,
   "metadata": {},
   "outputs": [
    {
     "data": {
      "text/plain": [
       "count    66955.000000\n",
       "mean       191.356633\n",
       "std         61.134528\n",
       "min       -238.100000\n",
       "25%        142.500000\n",
       "50%        192.500000\n",
       "75%        235.000000\n",
       "max        420.000000\n",
       "Name: BestDeadliftKg, dtype: float64"
      ]
     },
     "execution_count": 379,
     "metadata": {},
     "output_type": "execute_result"
    }
   ],
   "source": [
    "df.BestDeadliftKg.describe()"
   ]
  },
  {
   "cell_type": "code",
   "execution_count": 373,
   "metadata": {},
   "outputs": [
    {
     "data": {
      "text/html": [
       "<div>\n",
       "<table border=\"1\" class=\"dataframe\">\n",
       "  <thead>\n",
       "    <tr style=\"text-align: right;\">\n",
       "      <th></th>\n",
       "      <th>25219</th>\n",
       "    </tr>\n",
       "  </thead>\n",
       "  <tbody>\n",
       "    <tr>\n",
       "      <th>Age</th>\n",
       "      <td>NaN</td>\n",
       "    </tr>\n",
       "    <tr>\n",
       "      <th>Bench1Kg</th>\n",
       "      <td>15</td>\n",
       "    </tr>\n",
       "    <tr>\n",
       "      <th>Bench2Kg</th>\n",
       "      <td>17.5</td>\n",
       "    </tr>\n",
       "    <tr>\n",
       "      <th>Bench3Kg</th>\n",
       "      <td>-20.5</td>\n",
       "    </tr>\n",
       "    <tr>\n",
       "      <th>Bench4Kg</th>\n",
       "      <td>NaN</td>\n",
       "    </tr>\n",
       "    <tr>\n",
       "      <th>BestBenchKg</th>\n",
       "      <td>17.5</td>\n",
       "    </tr>\n",
       "    <tr>\n",
       "      <th>BestDeadliftKg</th>\n",
       "      <td>NaN</td>\n",
       "    </tr>\n",
       "    <tr>\n",
       "      <th>BestSquatKg</th>\n",
       "      <td>NaN</td>\n",
       "    </tr>\n",
       "    <tr>\n",
       "      <th>BirthYear</th>\n",
       "      <td>2007</td>\n",
       "    </tr>\n",
       "    <tr>\n",
       "      <th>BodyweightKg</th>\n",
       "      <td>28.6</td>\n",
       "    </tr>\n",
       "    <tr>\n",
       "      <th>Country</th>\n",
       "      <td>NaN</td>\n",
       "    </tr>\n",
       "    <tr>\n",
       "      <th>Date</th>\n",
       "      <td>2017-08-05 00:00:00</td>\n",
       "    </tr>\n",
       "    <tr>\n",
       "      <th>Deadlift1Kg</th>\n",
       "      <td>NaN</td>\n",
       "    </tr>\n",
       "    <tr>\n",
       "      <th>Deadlift2Kg</th>\n",
       "      <td>NaN</td>\n",
       "    </tr>\n",
       "    <tr>\n",
       "      <th>Deadlift3Kg</th>\n",
       "      <td>NaN</td>\n",
       "    </tr>\n",
       "    <tr>\n",
       "      <th>Deadlift4Kg</th>\n",
       "      <td>NaN</td>\n",
       "    </tr>\n",
       "    <tr>\n",
       "      <th>Division</th>\n",
       "      <td>R-Y2</td>\n",
       "    </tr>\n",
       "    <tr>\n",
       "      <th>Equipment</th>\n",
       "      <td>Raw</td>\n",
       "    </tr>\n",
       "    <tr>\n",
       "      <th>Event</th>\n",
       "      <td>B</td>\n",
       "    </tr>\n",
       "    <tr>\n",
       "      <th>Federation</th>\n",
       "      <td>USAPL</td>\n",
       "    </tr>\n",
       "    <tr>\n",
       "      <th>MeetCountry</th>\n",
       "      <td>USA</td>\n",
       "    </tr>\n",
       "    <tr>\n",
       "      <th>MeetName</th>\n",
       "      <td>Northwest Regional Championship</td>\n",
       "    </tr>\n",
       "    <tr>\n",
       "      <th>MeetState</th>\n",
       "      <td>ID</td>\n",
       "    </tr>\n",
       "    <tr>\n",
       "      <th>MeetTown</th>\n",
       "      <td>NaN</td>\n",
       "    </tr>\n",
       "    <tr>\n",
       "      <th>Name</th>\n",
       "      <td>Etta Nichols</td>\n",
       "    </tr>\n",
       "    <tr>\n",
       "      <th>Place</th>\n",
       "      <td>1</td>\n",
       "    </tr>\n",
       "    <tr>\n",
       "      <th>School</th>\n",
       "      <td>NaN</td>\n",
       "    </tr>\n",
       "    <tr>\n",
       "      <th>Sex</th>\n",
       "      <td>F</td>\n",
       "    </tr>\n",
       "    <tr>\n",
       "      <th>Squat1Kg</th>\n",
       "      <td>NaN</td>\n",
       "    </tr>\n",
       "    <tr>\n",
       "      <th>Squat2Kg</th>\n",
       "      <td>NaN</td>\n",
       "    </tr>\n",
       "    <tr>\n",
       "      <th>Squat3Kg</th>\n",
       "      <td>NaN</td>\n",
       "    </tr>\n",
       "    <tr>\n",
       "      <th>Squat4Kg</th>\n",
       "      <td>NaN</td>\n",
       "    </tr>\n",
       "    <tr>\n",
       "      <th>State</th>\n",
       "      <td>ID</td>\n",
       "    </tr>\n",
       "    <tr>\n",
       "      <th>Team</th>\n",
       "      <td>NaN</td>\n",
       "    </tr>\n",
       "    <tr>\n",
       "      <th>TotalKg</th>\n",
       "      <td>17.5</td>\n",
       "    </tr>\n",
       "    <tr>\n",
       "      <th>WeightClassKg</th>\n",
       "      <td>30</td>\n",
       "    </tr>\n",
       "    <tr>\n",
       "      <th>Wilks</th>\n",
       "      <td>NaN</td>\n",
       "    </tr>\n",
       "    <tr>\n",
       "      <th>year</th>\n",
       "      <td>2017</td>\n",
       "    </tr>\n",
       "    <tr>\n",
       "      <th>Quarter</th>\n",
       "      <td>2017Q3</td>\n",
       "    </tr>\n",
       "  </tbody>\n",
       "</table>\n",
       "</div>"
      ],
      "text/plain": [
       "                                          25219\n",
       "Age                                         NaN\n",
       "Bench1Kg                                     15\n",
       "Bench2Kg                                   17.5\n",
       "Bench3Kg                                  -20.5\n",
       "Bench4Kg                                    NaN\n",
       "BestBenchKg                                17.5\n",
       "BestDeadliftKg                              NaN\n",
       "BestSquatKg                                 NaN\n",
       "BirthYear                                  2007\n",
       "BodyweightKg                               28.6\n",
       "Country                                     NaN\n",
       "Date                        2017-08-05 00:00:00\n",
       "Deadlift1Kg                                 NaN\n",
       "Deadlift2Kg                                 NaN\n",
       "Deadlift3Kg                                 NaN\n",
       "Deadlift4Kg                                 NaN\n",
       "Division                                   R-Y2\n",
       "Equipment                                   Raw\n",
       "Event                                         B\n",
       "Federation                                USAPL\n",
       "MeetCountry                                 USA\n",
       "MeetName        Northwest Regional Championship\n",
       "MeetState                                    ID\n",
       "MeetTown                                    NaN\n",
       "Name                               Etta Nichols\n",
       "Place                                         1\n",
       "School                                      NaN\n",
       "Sex                                           F\n",
       "Squat1Kg                                    NaN\n",
       "Squat2Kg                                    NaN\n",
       "Squat3Kg                                    NaN\n",
       "Squat4Kg                                    NaN\n",
       "State                                        ID\n",
       "Team                                        NaN\n",
       "TotalKg                                    17.5\n",
       "WeightClassKg                                30\n",
       "Wilks                                       NaN\n",
       "year                                       2017\n",
       "Quarter                                  2017Q3"
      ]
     },
     "execution_count": 373,
     "metadata": {},
     "output_type": "execute_result"
    }
   ],
   "source": [
    "df[df['TotalKg'] == 17.5].T"
   ]
  },
  {
   "cell_type": "code",
   "execution_count": 374,
   "metadata": {},
   "outputs": [
    {
     "data": {
      "text/plain": [
       "True"
      ]
     },
     "execution_count": 374,
     "metadata": {},
     "output_type": "execute_result"
    }
   ],
   "source": [
    "'+' in \"190+\""
   ]
  },
  {
   "cell_type": "code",
   "execution_count": 375,
   "metadata": {},
   "outputs": [
    {
     "data": {
      "text/plain": [
       "True"
      ]
     },
     "execution_count": 375,
     "metadata": {},
     "output_type": "execute_result"
    }
   ],
   "source": [
    "'T' in '14-15(T1)'"
   ]
  },
  {
   "cell_type": "code",
   "execution_count": 376,
   "metadata": {},
   "outputs": [
    {
     "data": {
      "text/plain": [
       "True"
      ]
     },
     "execution_count": 376,
     "metadata": {},
     "output_type": "execute_result"
    }
   ],
   "source": [
    "'Teen' in 'Teen I [14-15]'"
   ]
  },
  {
   "cell_type": "code",
   "execution_count": 382,
   "metadata": {
    "collapsed": true
   },
   "outputs": [],
   "source": [
    "division_list = df.Division.unique().tolist()"
   ]
  },
  {
   "cell_type": "code",
   "execution_count": 401,
   "metadata": {},
   "outputs": [
    {
     "data": {
      "text/plain": [
       "False"
      ]
     },
     "execution_count": 401,
     "metadata": {},
     "output_type": "execute_result"
    }
   ],
   "source": [
    "np.nan >0"
   ]
  },
  {
   "cell_type": "code",
   "execution_count": 406,
   "metadata": {
    "collapsed": true
   },
   "outputs": [],
   "source": [
    "#df[df.Division.isnull()].head().T"
   ]
  },
  {
   "cell_type": "code",
   "execution_count": 408,
   "metadata": {
    "collapsed": true
   },
   "outputs": [],
   "source": [
    "incorrect_total = (df.TotalKg.isnull() == False) & ((df.BestBenchKg.isnull())| (df.BestSquatKg.isnull()) | (df.BestDeadliftKg.isnull()))"
   ]
  },
  {
   "cell_type": "code",
   "execution_count": 411,
   "metadata": {},
   "outputs": [
    {
     "data": {
      "text/plain": [
       "(9760, 39)"
      ]
     },
     "execution_count": 411,
     "metadata": {},
     "output_type": "execute_result"
    }
   ],
   "source": [
    "df[incorrect_total].shape"
   ]
  },
  {
   "cell_type": "code",
   "execution_count": 11,
   "metadata": {},
   "outputs": [
    {
     "ename": "NameError",
     "evalue": "name 'incorrect_total' is not defined",
     "output_type": "error",
     "traceback": [
      "\u001b[0;31m\u001b[0m",
      "\u001b[0;31mNameError\u001b[0mTraceback (most recent call last)",
      "\u001b[0;32m<ipython-input-11-e4ade891d256>\u001b[0m in \u001b[0;36m<module>\u001b[0;34m()\u001b[0m\n\u001b[0;32m----> 1\u001b[0;31m \u001b[0mdf\u001b[0m\u001b[0;34m[\u001b[0m\u001b[0mincorrect_total\u001b[0m\u001b[0;34m]\u001b[0m\u001b[0;34m[\u001b[0m\u001b[0;34m'TotalKg'\u001b[0m\u001b[0;34m]\u001b[0m\u001b[0;34m\u001b[0m\u001b[0m\n\u001b[0m",
      "\u001b[0;31mNameError\u001b[0m: name 'incorrect_total' is not defined"
     ]
    }
   ],
   "source": [
    "df[incorrect_total]['TotalKg'] "
   ]
  },
  {
   "cell_type": "code",
   "execution_count": null,
   "metadata": {
    "collapsed": true
   },
   "outputs": [],
   "source": []
  }
 ],
 "metadata": {
  "kernelspec": {
   "display_name": "Python 3",
   "language": "python",
   "name": "python3"
  },
  "language_info": {
   "codemirror_mode": {
    "name": "ipython",
    "version": 3
   },
   "file_extension": ".py",
   "mimetype": "text/x-python",
   "name": "python",
   "nbconvert_exporter": "python",
   "pygments_lexer": "ipython3",
   "version": "3.5.2"
  }
 },
 "nbformat": 4,
 "nbformat_minor": 2
}
